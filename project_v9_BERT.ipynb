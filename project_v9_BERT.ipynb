{
 "cells": [
  {
   "cell_type": "markdown",
   "metadata": {
    "id": "M3lJyvgT4ktU"
   },
   "source": [
    "## Libraries"
   ]
  },
  {
   "cell_type": "code",
   "execution_count": null,
   "metadata": {
    "id": "WkGyuRhQeCrX",
    "scrolled": true
   },
   "outputs": [],
   "source": [
    "# !pip install -U sentence-transformers"
   ]
  },
  {
   "cell_type": "code",
   "execution_count": 4,
   "metadata": {
    "id": "3VCEGP8J4Yld"
   },
   "outputs": [
    {
     "name": "stderr",
     "output_type": "stream",
     "text": [
      "[nltk_data] Downloading package punkt to /Users/haris/nltk_data...\n",
      "[nltk_data]   Package punkt is already up-to-date!\n",
      "[nltk_data] Downloading package stopwords to /Users/haris/nltk_data...\n",
      "[nltk_data]   Package stopwords is already up-to-date!\n"
     ]
    },
    {
     "data": {
      "text/plain": [
       "True"
      ]
     },
     "execution_count": 4,
     "metadata": {},
     "output_type": "execute_result"
    }
   ],
   "source": [
    "from sentence_transformers import SentenceTransformer\n",
    "import pandas as pd\n",
    "import nltk\n",
    "import re\n",
    "from sklearn.feature_extraction.text import CountVectorizer, TfidfVectorizer\n",
    "import numpy as np\n",
    "import time\n",
    "\n",
    "from sklearn.ensemble import RandomForestClassifier\n",
    "from sklearn.model_selection import cross_val_score\n",
    "from sklearn.model_selection import train_test_split\n",
    "from sklearn.preprocessing import StandardScaler\n",
    "from sklearn.metrics import f1_score, precision_score, recall_score, accuracy_score\n",
    "from sklearn.decomposition import PCA\n",
    "\n",
    "from nltk.tokenize import word_tokenize\n",
    "nltk.download('punkt')\n",
    "\n",
    "from nltk.corpus import stopwords\n",
    "nltk.download('stopwords')\n"
   ]
  },
  {
   "cell_type": "markdown",
   "metadata": {
    "id": "blF6lsLj5fQ3"
   },
   "source": [
    "## Loading Data"
   ]
  },
  {
   "cell_type": "code",
   "execution_count": 2,
   "metadata": {},
   "outputs": [],
   "source": [
    "apple_df = pd.read_csv('apple_25Nov.csv')\n",
    "amazon_df = pd.read_csv('amazon_25Nov.csv')\n",
    "google_df = pd.read_csv('google_25Nov.csv')"
   ]
  },
  {
   "cell_type": "code",
   "execution_count": 3,
   "metadata": {},
   "outputs": [
    {
     "data": {
      "text/html": [
       "<div>\n",
       "<style scoped>\n",
       "    .dataframe tbody tr th:only-of-type {\n",
       "        vertical-align: middle;\n",
       "    }\n",
       "\n",
       "    .dataframe tbody tr th {\n",
       "        vertical-align: top;\n",
       "    }\n",
       "\n",
       "    .dataframe thead th {\n",
       "        text-align: right;\n",
       "    }\n",
       "</style>\n",
       "<table border=\"1\" class=\"dataframe\">\n",
       "  <thead>\n",
       "    <tr style=\"text-align: right;\">\n",
       "      <th></th>\n",
       "      <th>Posted</th>\n",
       "      <th>Rating</th>\n",
       "      <th>Content</th>\n",
       "      <th>NOUN_count</th>\n",
       "      <th>VERB_count</th>\n",
       "      <th>ADJ_count</th>\n",
       "      <th>OwnedFor</th>\n",
       "      <th>OwnedCategorized</th>\n",
       "    </tr>\n",
       "  </thead>\n",
       "  <tbody>\n",
       "    <tr>\n",
       "      <th>0</th>\n",
       "      <td>2023-10-03 12:02:00</td>\n",
       "      <td>2</td>\n",
       "      <td>This is going on year 2 of having this product...</td>\n",
       "      <td>19</td>\n",
       "      <td>14</td>\n",
       "      <td>7</td>\n",
       "      <td>more than 2 years</td>\n",
       "      <td>6</td>\n",
       "    </tr>\n",
       "    <tr>\n",
       "      <th>1</th>\n",
       "      <td>2023-08-18 03:31:00</td>\n",
       "      <td>3</td>\n",
       "      <td>Good while it lasted. It started overheating a...</td>\n",
       "      <td>1</td>\n",
       "      <td>5</td>\n",
       "      <td>2</td>\n",
       "      <td>more than 2 years</td>\n",
       "      <td>6</td>\n",
       "    </tr>\n",
       "    <tr>\n",
       "      <th>2</th>\n",
       "      <td>2023-07-22 07:18:00</td>\n",
       "      <td>5</td>\n",
       "      <td>Awesome speaker  especially for its size!  We ...</td>\n",
       "      <td>4</td>\n",
       "      <td>1</td>\n",
       "      <td>3</td>\n",
       "      <td>more than 2 years</td>\n",
       "      <td>6</td>\n",
       "    </tr>\n",
       "    <tr>\n",
       "      <th>3</th>\n",
       "      <td>2023-07-13 02:28:00</td>\n",
       "      <td>5</td>\n",
       "      <td>Absolutely love them  no issues at all from th...</td>\n",
       "      <td>1</td>\n",
       "      <td>2</td>\n",
       "      <td>1</td>\n",
       "      <td>more than 2 years</td>\n",
       "      <td>6</td>\n",
       "    </tr>\n",
       "    <tr>\n",
       "      <th>4</th>\n",
       "      <td>2023-07-08 09:27:00</td>\n",
       "      <td>5</td>\n",
       "      <td>Love this speaker!  It’s so loud and the bass ...</td>\n",
       "      <td>2</td>\n",
       "      <td>2</td>\n",
       "      <td>2</td>\n",
       "      <td>more than 2 years</td>\n",
       "      <td>6</td>\n",
       "    </tr>\n",
       "    <tr>\n",
       "      <th>...</th>\n",
       "      <td>...</td>\n",
       "      <td>...</td>\n",
       "      <td>...</td>\n",
       "      <td>...</td>\n",
       "      <td>...</td>\n",
       "      <td>...</td>\n",
       "      <td>...</td>\n",
       "      <td>...</td>\n",
       "    </tr>\n",
       "    <tr>\n",
       "      <th>11237</th>\n",
       "      <td>2022-05-16 08:12:00</td>\n",
       "      <td>4</td>\n",
       "      <td>Being a subscriber to Apple Music  this unit i...</td>\n",
       "      <td>25</td>\n",
       "      <td>10</td>\n",
       "      <td>10</td>\n",
       "      <td>10 months</td>\n",
       "      <td>3</td>\n",
       "    </tr>\n",
       "    <tr>\n",
       "      <th>11238</th>\n",
       "      <td>2022-05-15 04:32:00</td>\n",
       "      <td>5</td>\n",
       "      <td>This open box wasn’t even open it was just a s...</td>\n",
       "      <td>5</td>\n",
       "      <td>2</td>\n",
       "      <td>2</td>\n",
       "      <td>3 weeks</td>\n",
       "      <td>1</td>\n",
       "    </tr>\n",
       "    <tr>\n",
       "      <th>11239</th>\n",
       "      <td>2022-05-15 03:48:00</td>\n",
       "      <td>5</td>\n",
       "      <td>Absolutely love the HomePod mini! I use it for...</td>\n",
       "      <td>2</td>\n",
       "      <td>2</td>\n",
       "      <td>0</td>\n",
       "      <td>1 year</td>\n",
       "      <td>4</td>\n",
       "    </tr>\n",
       "    <tr>\n",
       "      <th>11240</th>\n",
       "      <td>2022-05-15 01:43:00</td>\n",
       "      <td>5</td>\n",
       "      <td>I absolutely love HomePod mini. I have two  on...</td>\n",
       "      <td>18</td>\n",
       "      <td>11</td>\n",
       "      <td>6</td>\n",
       "      <td>7 months</td>\n",
       "      <td>3</td>\n",
       "    </tr>\n",
       "    <tr>\n",
       "      <th>11241</th>\n",
       "      <td>2022-05-14 05:57:00</td>\n",
       "      <td>5</td>\n",
       "      <td>I use it to control my lights. Set timers. Pla...</td>\n",
       "      <td>3</td>\n",
       "      <td>4</td>\n",
       "      <td>0</td>\n",
       "      <td>1 year</td>\n",
       "      <td>4</td>\n",
       "    </tr>\n",
       "  </tbody>\n",
       "</table>\n",
       "<p>11242 rows × 8 columns</p>\n",
       "</div>"
      ],
      "text/plain": [
       "                    Posted  Rating  \\\n",
       "0      2023-10-03 12:02:00       2   \n",
       "1      2023-08-18 03:31:00       3   \n",
       "2      2023-07-22 07:18:00       5   \n",
       "3      2023-07-13 02:28:00       5   \n",
       "4      2023-07-08 09:27:00       5   \n",
       "...                    ...     ...   \n",
       "11237  2022-05-16 08:12:00       4   \n",
       "11238  2022-05-15 04:32:00       5   \n",
       "11239  2022-05-15 03:48:00       5   \n",
       "11240  2022-05-15 01:43:00       5   \n",
       "11241  2022-05-14 05:57:00       5   \n",
       "\n",
       "                                                 Content  NOUN_count  \\\n",
       "0      This is going on year 2 of having this product...          19   \n",
       "1      Good while it lasted. It started overheating a...           1   \n",
       "2      Awesome speaker  especially for its size!  We ...           4   \n",
       "3      Absolutely love them  no issues at all from th...           1   \n",
       "4      Love this speaker!  It’s so loud and the bass ...           2   \n",
       "...                                                  ...         ...   \n",
       "11237  Being a subscriber to Apple Music  this unit i...          25   \n",
       "11238  This open box wasn’t even open it was just a s...           5   \n",
       "11239  Absolutely love the HomePod mini! I use it for...           2   \n",
       "11240  I absolutely love HomePod mini. I have two  on...          18   \n",
       "11241  I use it to control my lights. Set timers. Pla...           3   \n",
       "\n",
       "       VERB_count  ADJ_count           OwnedFor  OwnedCategorized  \n",
       "0              14          7  more than 2 years                 6  \n",
       "1               5          2  more than 2 years                 6  \n",
       "2               1          3  more than 2 years                 6  \n",
       "3               2          1  more than 2 years                 6  \n",
       "4               2          2  more than 2 years                 6  \n",
       "...           ...        ...                ...               ...  \n",
       "11237          10         10          10 months                 3  \n",
       "11238           2          2            3 weeks                 1  \n",
       "11239           2          0             1 year                 4  \n",
       "11240          11          6           7 months                 3  \n",
       "11241           4          0             1 year                 4  \n",
       "\n",
       "[11242 rows x 8 columns]"
      ]
     },
     "execution_count": 3,
     "metadata": {},
     "output_type": "execute_result"
    }
   ],
   "source": [
    "apple_df"
   ]
  },
  {
   "cell_type": "code",
   "execution_count": 4,
   "metadata": {},
   "outputs": [
    {
     "name": "stdout",
     "output_type": "stream",
     "text": [
      "11242\n",
      "31646\n",
      "10376\n"
     ]
    }
   ],
   "source": [
    "print(len(apple_df))\n",
    "print(len(amazon_df))\n",
    "print(len(google_df))"
   ]
  },
  {
   "cell_type": "code",
   "execution_count": 5,
   "metadata": {},
   "outputs": [],
   "source": [
    "# pip install textblob "
   ]
  },
  {
   "cell_type": "code",
   "execution_count": 6,
   "metadata": {},
   "outputs": [
    {
     "name": "stdout",
     "output_type": "stream",
     "text": [
      "['flowers']\n"
     ]
    }
   ],
   "source": [
    "# importing TextBlob function from textblob module \n",
    "from textblob import TextBlob\n",
    "# passing the word to be pluralized as an argument to the TextBlob() function \n",
    "blobWord = TextBlob('flower')\n",
    " \n",
    "# printing the plural word of the given blob word using the pluralize() function\n",
    "print(blobWord.words.pluralize())"
   ]
  },
  {
   "cell_type": "code",
   "execution_count": 7,
   "metadata": {
    "colab": {
     "base_uri": "https://localhost:8080/"
    },
    "id": "9ld0pIGTAdov",
    "outputId": "7075291f-4279-4380-81d0-cce672b2ccb7"
   },
   "outputs": [],
   "source": [
    "## Loading stop words\n",
    "stop_words = list(stopwords.words('english'))\n",
    "\n",
    "additional_words = ['applehome','googlehome','google','alexa','amazon','homepod','apple','siri', 'dot','pod', 'home','echo', 'amazonecho']\n",
    "\n",
    "for word in additional_words:\n",
    "    stop_words.append(word)\n",
    "\n",
    "copy_stop_words = stop_words.copy()\n",
    "for w in copy_stop_words:\n",
    "#     print(w)\n",
    "    blobword = TextBlob(str(w))\n",
    "#     print(blobword.words.pluralize()[0])\n",
    "    stop_words.append(str(blobword.words.pluralize()[0]))\n"
   ]
  },
  {
   "cell_type": "markdown",
   "metadata": {
    "id": "IJ-PXnhh5hv-"
   },
   "source": [
    "## BERT BASE NLI"
   ]
  },
  {
   "cell_type": "code",
   "execution_count": 31,
   "metadata": {
    "id": "WoLkUtKQ-zRm",
    "scrolled": true
   },
   "outputs": [],
   "source": [
    "# ## BERT Model\n",
    "# model = SentenceTransformer('distilbert-base-nli-mean-tokens')\n",
    "# model1 = SentenceTransformer('bert-large-nli-cls-token')\n",
    "# model3 = SentenceTransformer('bert-large-nli-mean-tokens')"
   ]
  },
  {
   "cell_type": "code",
   "execution_count": 32,
   "metadata": {},
   "outputs": [],
   "source": [
    "model4 = SentenceTransformer('bert-large-nli-cls-token')\n",
    "model5 = SentenceTransformer('bert-large-nli-cls-token')"
   ]
  },
  {
   "cell_type": "code",
   "execution_count": 34,
   "metadata": {},
   "outputs": [
    {
     "data": {
      "text/plain": [
       "{'AmazonEcho', 'AppleHome', 'GoogleHome'}"
      ]
     },
     "execution_count": 34,
     "metadata": {},
     "output_type": "execute_result"
    }
   ],
   "source": [
    "liwc = pd.read_csv('LIWC.csv')\n",
    "set(liwc['Product'])"
   ]
  },
  {
   "cell_type": "code",
   "execution_count": 37,
   "metadata": {},
   "outputs": [],
   "source": [
    "apple_df_liwc = liwc.loc[liwc['Product'] == 'AppleHome']\n",
    "amazon_df_liwc = liwc.loc[liwc['Product'] == 'AmazonEcho']\n",
    "google_df_liwc = liwc.loc[liwc['Product'] == 'GoogleHome']"
   ]
  },
  {
   "cell_type": "code",
   "execution_count": 38,
   "metadata": {},
   "outputs": [
    {
     "name": "stdout",
     "output_type": "stream",
     "text": [
      "11242\n",
      "31646\n",
      "10376\n"
     ]
    }
   ],
   "source": [
    "apple_df_liwc = apple_df_liwc[apple_df_liwc['OwnedFor'] != ' ']\n",
    "amazon_df_liwc = amazon_df_liwc[amazon_df_liwc['OwnedFor'] != ' ']\n",
    "google_df_liwc = google_df_liwc[google_df_liwc['OwnedFor'] != ' ']\n",
    "\n",
    "print(len(apple_df_liwc))\n",
    "print(len(amazon_df_liwc))\n",
    "print(len(google_df_liwc))"
   ]
  },
  {
   "cell_type": "code",
   "execution_count": 60,
   "metadata": {},
   "outputs": [],
   "source": [
    "apple_df_liwc = apple_df_liwc.reset_index(drop = True)\n",
    "amazon_df_liwc = amazon_df_liwc.reset_index(drop = True)\n",
    "google_df_liwc = google_df_liwc.reset_index(drop = True)"
   ]
  },
  {
   "cell_type": "code",
   "execution_count": 39,
   "metadata": {
    "colab": {
     "base_uri": "https://localhost:8080/"
    },
    "id": "vqiOfwfw_VcF",
    "outputId": "b6b11045-6b03-4c1c-81af-ef674463b2a3"
   },
   "outputs": [],
   "source": [
    "## Data Template - we get our data in this format\n",
    "\n",
    "# sentences = ['This framework generates embeddings for each input sentence',\n",
    "#     'Sentences are passed as a list of string.',\n",
    "#     'The quick brown fox jumps over the lazy dog.']\n",
    "\n",
    "\n",
    "def cleaning_reviews(df,stop_words):\n",
    "    sentences_apple = df['Content'].tolist()\n",
    "\n",
    "    ## lowering sentences\n",
    "    reviews = [sentences.lower() for sentences in sentences_apple]\n",
    "\n",
    "    filtered_reviews = []\n",
    "    Llen = []\n",
    "    \n",
    "    \n",
    "    for rev in reviews:\n",
    "        ## removing non-alphaumeric\n",
    "        rev = re.sub('\\W+',' ', rev)\n",
    "\n",
    "        word_tokens = word_tokenize(rev)\n",
    "        filtered_sentence = []\n",
    "        \n",
    "        count = 0\n",
    "        \n",
    "        ## Remove stopwords\n",
    "        for w in word_tokens:\n",
    "            if w not in stop_words:\n",
    "                filtered_sentence.append(w)\n",
    "                count += 1\n",
    "\n",
    "        filtered_sentence = ' '.join(filtered_sentence)\n",
    "        Llen.append(count)\n",
    "        filtered_reviews.append(filtered_sentence)\n",
    "        \n",
    "    return filtered_reviews, Llen\n"
   ]
  },
  {
   "cell_type": "code",
   "execution_count": 40,
   "metadata": {
    "id": "OeGSgvwZJv2p"
   },
   "outputs": [],
   "source": [
    "## Now create top 100 bigrams\n",
    "## ngram_range needs to be a tuple (1,2) for Uni and bigrams, (2,2) for just bigrams\n",
    "def ngram_df(reviews,n_gram_range):\n",
    "    count_vectorizer = CountVectorizer(ngram_range=n_gram_range)\n",
    "\n",
    "  # Fit the CountVectorizer on the documents and transform them into N-gram matrices\n",
    "    ngram_matrix = count_vectorizer.fit_transform(reviews)\n",
    "    \n",
    "    ## Finding counts of each bigram\n",
    "    bigram_counts = ngram_matrix.sum(axis=0)\n",
    "\n",
    "    ngram_matrix_dense = ngram_matrix.toarray()\n",
    "\n",
    "    vocab_ngram = list(count_vectorizer.get_feature_names_out())\n",
    "\n",
    "    ngram_df = pd.DataFrame(ngram_matrix_dense, columns=vocab_ngram)\n",
    "\n",
    "    return ngram_df, bigram_counts"
   ]
  },
  {
   "cell_type": "code",
   "execution_count": 41,
   "metadata": {
    "colab": {
     "base_uri": "https://localhost:8080/"
    },
    "id": "QmOwffPPJWFk",
    "outputId": "60e16e2f-d327-46ea-a7a7-490fb0f6c205"
   },
   "outputs": [],
   "source": [
    "## Make embeddings based on the model provided\n",
    "\n",
    "def make_embeddings(model, selected_reviews):\n",
    "    sentence_embeddings = model.encode(selected_reviews)\n",
    "    embeds=[]\n",
    "    for sentence, embedding in zip(selected_reviews, sentence_embeddings):\n",
    "        # print(\"Sentence:\", sentence)\n",
    "        # print(\"Embedding:\", embedding)\n",
    "        embeds.append(embedding)\n",
    "        # print(\"\")\n",
    "        \n",
    "    return embeds\n",
    "\n",
    "# print(len(embeds))"
   ]
  },
  {
   "cell_type": "code",
   "execution_count": 42,
   "metadata": {
    "id": "0Vjq3__DQZjz"
   },
   "outputs": [],
   "source": [
    "## Selecting n_top ngrams\n",
    "\n",
    "def top_ngrams_df(selected_reviews, n_top, n_gram_range):\n",
    "    \n",
    "    ## makes a df of ngrams, and find counts of each ngram\n",
    "    df, bi_counts = ngram_df(selected_reviews,n_gram_range)\n",
    "    bigrams = df.columns\n",
    "    \n",
    "    counts = np.array(bi_counts).flatten()\n",
    "\n",
    "    bigrams_dict = dict(zip(bigrams, counts))\n",
    "    \n",
    "    bigrams_dict_list = sorted(bigrams_dict.items(), key = lambda x:x[1], reverse = True)[0:n_top]\n",
    "    \n",
    "    top_bigrams = []\n",
    "    for gram in bigrams_dict_list:\n",
    "        top_bigrams.append(gram[0])\n",
    "        \n",
    "    df = df.loc[:, df.columns.isin(top_bigrams)]\n",
    "    \n",
    "    return df "
   ]
  },
  {
   "cell_type": "code",
   "execution_count": 62,
   "metadata": {
    "colab": {
     "base_uri": "https://localhost:8080/",
     "height": 444
    },
    "id": "SeIvWzmEXutc",
    "outputId": "0e49ab54-c537-40b5-cf0d-11fdc6e58c49"
   },
   "outputs": [],
   "source": [
    "def merging_embeds_ngrams_pos(model, df,df_liwc, stop_words, top_bigram_count, n_gram_range):\n",
    "    \n",
    "    \n",
    "    ## getting cleaned reviews\n",
    "    selected_reviews, Llen = cleaning_reviews(df,stop_words)\n",
    "    \n",
    "#     print(selected_reviews)\n",
    "    ## making embeddings\n",
    "    embeds = make_embeddings(model,selected_reviews)\n",
    "    embeddings_df = pd.DataFrame(embeds)\n",
    "    \n",
    "    ## Making ngram df for top n counts\n",
    "    ngram_df = top_ngrams_df(selected_reviews, top_bigram_count, n_gram_range)\n",
    "#                              selected_reviews\n",
    "    \n",
    "    combined_df = pd.concat([embeddings_df, ngram_df], axis = 1)\n",
    "    \n",
    "    for col_liwc in df_liwc.columns[5:]:\n",
    "        combined_df[col_liwc] = df_liwc[0:len(combined_df)][col_liwc]    \n",
    "    \n",
    "    pos_cols = ['NOUN_count', 'VERB_count', 'ADJ_count','OwnedFor','OwnedCategorized']\n",
    "    ## Ading pos counts to daataframes\n",
    "    for col in pos_cols:\n",
    "        combined_df[col] = df[0:len(combined_df)][col]\n",
    "        \n",
    "    combined_df['review_len'] = Llen\n",
    "    combined_df['Rating'] = df['Rating']\n",
    "    \n",
    "    \n",
    "    cols_list = []\n",
    "    ## converting colnames to string as embeddings give integer col names\n",
    "    for col in combined_df.columns:\n",
    "        cols_list.append(str(col))\n",
    "        \n",
    "    combined_df.columns = cols_list\n",
    "    \n",
    "    return combined_df\n",
    "    \n",
    "    "
   ]
  },
  {
   "cell_type": "code",
   "execution_count": 43,
   "metadata": {},
   "outputs": [
    {
     "data": {
      "text/plain": [
       "Index(['WC', 'Analytic', 'Clout', 'Authentic', 'Tone', 'WPS', 'Sixltr', 'Dic',\n",
       "       'function', 'pronoun', 'ppron', 'i', 'we', 'you', 'shehe', 'they',\n",
       "       'ipron', 'article', 'prep', 'auxverb', 'adverb', 'conj', 'negate',\n",
       "       'verb', 'adj', 'compare', 'interrog', 'number', 'quant', 'affect',\n",
       "       'posemo', 'negemo', 'anx', 'anger', 'sad', 'social', 'family', 'friend',\n",
       "       'female', 'male', 'cogproc', 'insight', 'cause', 'discrep', 'tentat',\n",
       "       'certain', 'differ', 'percept', 'see', 'hear', 'feel', 'bio', 'body',\n",
       "       'health', 'sexual', 'ingest', 'drives', 'affiliation', 'achieve',\n",
       "       'power', 'reward', 'risk', 'focuspast', 'focuspresent', 'focusfuture',\n",
       "       'relativ', 'motion', 'space', 'time', 'work', 'leisure', 'home',\n",
       "       'money', 'relig', 'death', 'informal', 'swear', 'netspeak', 'assent',\n",
       "       'nonflu', 'filler', 'AllPunc', 'Period', 'Comma', 'Colon', 'SemiC',\n",
       "       'QMark', 'Exclam', 'Dash', 'Quote', 'Apostro', 'Parenth', 'OtherP'],\n",
       "      dtype='object')"
      ]
     },
     "execution_count": 43,
     "metadata": {},
     "output_type": "execute_result"
    }
   ],
   "source": [
    "# apple_df_liwc.columns[5:]"
   ]
  },
  {
   "cell_type": "code",
   "execution_count": null,
   "metadata": {},
   "outputs": [],
   "source": [
    "# apple_df_liwc['Comma']"
   ]
  },
  {
   "cell_type": "markdown",
   "metadata": {},
   "source": [
    "## Processing Dataframes"
   ]
  },
  {
   "cell_type": "markdown",
   "metadata": {},
   "source": [
    "### BERT Mean"
   ]
  },
  {
   "cell_type": "code",
   "execution_count": 63,
   "metadata": {
    "colab": {
     "base_uri": "https://localhost:8080/",
     "height": 461
    },
    "id": "Y8tb0JFhYAgS",
    "outputId": "e9ce11a8-e4f6-4697-cbfd-3e9afe79b94b",
    "scrolled": true
   },
   "outputs": [
    {
     "name": "stderr",
     "output_type": "stream",
     "text": [
      "/var/folders/7k/9hch0q794xqdgy99gw9ytbgw0000gn/T/ipykernel_5650/4019386682.py:26: PerformanceWarning: DataFrame is highly fragmented.  This is usually the result of calling `frame.insert` many times, which has poor performance.  Consider joining all columns at once using pd.concat(axis=1) instead. To get a de-fragmented frame, use `newframe = frame.copy()`\n",
      "  combined_df['review_len'] = Llen\n",
      "/var/folders/7k/9hch0q794xqdgy99gw9ytbgw0000gn/T/ipykernel_5650/4019386682.py:27: PerformanceWarning: DataFrame is highly fragmented.  This is usually the result of calling `frame.insert` many times, which has poor performance.  Consider joining all columns at once using pd.concat(axis=1) instead. To get a de-fragmented frame, use `newframe = frame.copy()`\n",
      "  combined_df['Rating'] = df['Rating']\n"
     ]
    },
    {
     "data": {
      "text/html": [
       "<div>\n",
       "<style scoped>\n",
       "    .dataframe tbody tr th:only-of-type {\n",
       "        vertical-align: middle;\n",
       "    }\n",
       "\n",
       "    .dataframe tbody tr th {\n",
       "        vertical-align: top;\n",
       "    }\n",
       "\n",
       "    .dataframe thead th {\n",
       "        text-align: right;\n",
       "    }\n",
       "</style>\n",
       "<table border=\"1\" class=\"dataframe\">\n",
       "  <thead>\n",
       "    <tr style=\"text-align: right;\">\n",
       "      <th></th>\n",
       "      <th>0</th>\n",
       "      <th>1</th>\n",
       "      <th>2</th>\n",
       "      <th>3</th>\n",
       "      <th>4</th>\n",
       "      <th>5</th>\n",
       "      <th>6</th>\n",
       "      <th>7</th>\n",
       "      <th>8</th>\n",
       "      <th>9</th>\n",
       "      <th>...</th>\n",
       "      <th>Apostro</th>\n",
       "      <th>Parenth</th>\n",
       "      <th>OtherP</th>\n",
       "      <th>NOUN_count</th>\n",
       "      <th>VERB_count</th>\n",
       "      <th>ADJ_count</th>\n",
       "      <th>OwnedFor</th>\n",
       "      <th>OwnedCategorized</th>\n",
       "      <th>review_len</th>\n",
       "      <th>Rating</th>\n",
       "    </tr>\n",
       "  </thead>\n",
       "  <tbody>\n",
       "    <tr>\n",
       "      <th>0</th>\n",
       "      <td>-0.158468</td>\n",
       "      <td>-0.439611</td>\n",
       "      <td>0.853581</td>\n",
       "      <td>-0.538286</td>\n",
       "      <td>-0.102484</td>\n",
       "      <td>-0.495698</td>\n",
       "      <td>-0.631310</td>\n",
       "      <td>-0.336134</td>\n",
       "      <td>0.848012</td>\n",
       "      <td>-0.620194</td>\n",
       "      <td>...</td>\n",
       "      <td>0.0</td>\n",
       "      <td>0.00</td>\n",
       "      <td>0.0</td>\n",
       "      <td>19</td>\n",
       "      <td>14</td>\n",
       "      <td>7</td>\n",
       "      <td>more than 2 years</td>\n",
       "      <td>6</td>\n",
       "      <td>43</td>\n",
       "      <td>2</td>\n",
       "    </tr>\n",
       "    <tr>\n",
       "      <th>1</th>\n",
       "      <td>-0.186794</td>\n",
       "      <td>-0.766404</td>\n",
       "      <td>1.157155</td>\n",
       "      <td>-1.119730</td>\n",
       "      <td>0.105233</td>\n",
       "      <td>-0.556254</td>\n",
       "      <td>-0.458684</td>\n",
       "      <td>-0.698586</td>\n",
       "      <td>-0.657113</td>\n",
       "      <td>0.782858</td>\n",
       "      <td>...</td>\n",
       "      <td>0.0</td>\n",
       "      <td>0.00</td>\n",
       "      <td>0.0</td>\n",
       "      <td>1</td>\n",
       "      <td>5</td>\n",
       "      <td>2</td>\n",
       "      <td>more than 2 years</td>\n",
       "      <td>6</td>\n",
       "      <td>10</td>\n",
       "      <td>3</td>\n",
       "    </tr>\n",
       "    <tr>\n",
       "      <th>2</th>\n",
       "      <td>0.010278</td>\n",
       "      <td>-0.581126</td>\n",
       "      <td>0.858493</td>\n",
       "      <td>0.427046</td>\n",
       "      <td>-0.857490</td>\n",
       "      <td>-1.103230</td>\n",
       "      <td>-0.574962</td>\n",
       "      <td>-0.633358</td>\n",
       "      <td>-0.520994</td>\n",
       "      <td>-0.388783</td>\n",
       "      <td>...</td>\n",
       "      <td>0.0</td>\n",
       "      <td>0.00</td>\n",
       "      <td>0.0</td>\n",
       "      <td>4</td>\n",
       "      <td>1</td>\n",
       "      <td>3</td>\n",
       "      <td>more than 2 years</td>\n",
       "      <td>6</td>\n",
       "      <td>8</td>\n",
       "      <td>5</td>\n",
       "    </tr>\n",
       "    <tr>\n",
       "      <th>3</th>\n",
       "      <td>-0.473216</td>\n",
       "      <td>-0.694514</td>\n",
       "      <td>0.407750</td>\n",
       "      <td>0.040162</td>\n",
       "      <td>-0.775717</td>\n",
       "      <td>-0.663174</td>\n",
       "      <td>-0.080214</td>\n",
       "      <td>0.116128</td>\n",
       "      <td>0.143263</td>\n",
       "      <td>-0.570184</td>\n",
       "      <td>...</td>\n",
       "      <td>0.0</td>\n",
       "      <td>0.00</td>\n",
       "      <td>0.0</td>\n",
       "      <td>1</td>\n",
       "      <td>2</td>\n",
       "      <td>1</td>\n",
       "      <td>more than 2 years</td>\n",
       "      <td>6</td>\n",
       "      <td>5</td>\n",
       "      <td>5</td>\n",
       "    </tr>\n",
       "    <tr>\n",
       "      <th>4</th>\n",
       "      <td>-0.118972</td>\n",
       "      <td>-0.502742</td>\n",
       "      <td>0.340337</td>\n",
       "      <td>0.553690</td>\n",
       "      <td>-1.073774</td>\n",
       "      <td>-1.113690</td>\n",
       "      <td>-0.744634</td>\n",
       "      <td>-0.646628</td>\n",
       "      <td>0.594307</td>\n",
       "      <td>0.251025</td>\n",
       "      <td>...</td>\n",
       "      <td>0.0</td>\n",
       "      <td>0.00</td>\n",
       "      <td>0.0</td>\n",
       "      <td>2</td>\n",
       "      <td>2</td>\n",
       "      <td>2</td>\n",
       "      <td>more than 2 years</td>\n",
       "      <td>6</td>\n",
       "      <td>5</td>\n",
       "      <td>5</td>\n",
       "    </tr>\n",
       "    <tr>\n",
       "      <th>...</th>\n",
       "      <td>...</td>\n",
       "      <td>...</td>\n",
       "      <td>...</td>\n",
       "      <td>...</td>\n",
       "      <td>...</td>\n",
       "      <td>...</td>\n",
       "      <td>...</td>\n",
       "      <td>...</td>\n",
       "      <td>...</td>\n",
       "      <td>...</td>\n",
       "      <td>...</td>\n",
       "      <td>...</td>\n",
       "      <td>...</td>\n",
       "      <td>...</td>\n",
       "      <td>...</td>\n",
       "      <td>...</td>\n",
       "      <td>...</td>\n",
       "      <td>...</td>\n",
       "      <td>...</td>\n",
       "      <td>...</td>\n",
       "      <td>...</td>\n",
       "    </tr>\n",
       "    <tr>\n",
       "      <th>11237</th>\n",
       "      <td>-0.576978</td>\n",
       "      <td>-0.043660</td>\n",
       "      <td>0.186282</td>\n",
       "      <td>-0.263439</td>\n",
       "      <td>-0.040494</td>\n",
       "      <td>-0.256193</td>\n",
       "      <td>-0.161123</td>\n",
       "      <td>-0.979091</td>\n",
       "      <td>0.452203</td>\n",
       "      <td>-0.167423</td>\n",
       "      <td>...</td>\n",
       "      <td>0.0</td>\n",
       "      <td>0.00</td>\n",
       "      <td>0.0</td>\n",
       "      <td>25</td>\n",
       "      <td>10</td>\n",
       "      <td>10</td>\n",
       "      <td>10 months</td>\n",
       "      <td>3</td>\n",
       "      <td>42</td>\n",
       "      <td>4</td>\n",
       "    </tr>\n",
       "    <tr>\n",
       "      <th>11238</th>\n",
       "      <td>-1.046488</td>\n",
       "      <td>-0.376314</td>\n",
       "      <td>0.276193</td>\n",
       "      <td>-0.479360</td>\n",
       "      <td>-0.866527</td>\n",
       "      <td>-0.484462</td>\n",
       "      <td>0.063963</td>\n",
       "      <td>0.343758</td>\n",
       "      <td>-0.351352</td>\n",
       "      <td>-0.475854</td>\n",
       "      <td>...</td>\n",
       "      <td>0.0</td>\n",
       "      <td>3.08</td>\n",
       "      <td>0.0</td>\n",
       "      <td>5</td>\n",
       "      <td>2</td>\n",
       "      <td>2</td>\n",
       "      <td>3 weeks</td>\n",
       "      <td>1</td>\n",
       "      <td>11</td>\n",
       "      <td>5</td>\n",
       "    </tr>\n",
       "    <tr>\n",
       "      <th>11239</th>\n",
       "      <td>-0.907599</td>\n",
       "      <td>-0.494132</td>\n",
       "      <td>0.168148</td>\n",
       "      <td>0.644229</td>\n",
       "      <td>-1.047821</td>\n",
       "      <td>-0.994493</td>\n",
       "      <td>-0.245592</td>\n",
       "      <td>0.573410</td>\n",
       "      <td>0.128813</td>\n",
       "      <td>-0.216985</td>\n",
       "      <td>...</td>\n",
       "      <td>0.0</td>\n",
       "      <td>0.00</td>\n",
       "      <td>0.0</td>\n",
       "      <td>2</td>\n",
       "      <td>2</td>\n",
       "      <td>0</td>\n",
       "      <td>1 year</td>\n",
       "      <td>4</td>\n",
       "      <td>5</td>\n",
       "      <td>5</td>\n",
       "    </tr>\n",
       "    <tr>\n",
       "      <th>11240</th>\n",
       "      <td>0.121507</td>\n",
       "      <td>0.021508</td>\n",
       "      <td>0.184715</td>\n",
       "      <td>0.364868</td>\n",
       "      <td>-0.215259</td>\n",
       "      <td>-0.511104</td>\n",
       "      <td>-0.091738</td>\n",
       "      <td>-0.138234</td>\n",
       "      <td>0.900011</td>\n",
       "      <td>-0.440557</td>\n",
       "      <td>...</td>\n",
       "      <td>0.0</td>\n",
       "      <td>0.00</td>\n",
       "      <td>0.0</td>\n",
       "      <td>18</td>\n",
       "      <td>11</td>\n",
       "      <td>6</td>\n",
       "      <td>7 months</td>\n",
       "      <td>3</td>\n",
       "      <td>38</td>\n",
       "      <td>5</td>\n",
       "    </tr>\n",
       "    <tr>\n",
       "      <th>11241</th>\n",
       "      <td>-0.777567</td>\n",
       "      <td>-0.240300</td>\n",
       "      <td>0.329451</td>\n",
       "      <td>-0.361666</td>\n",
       "      <td>-0.193620</td>\n",
       "      <td>-1.008196</td>\n",
       "      <td>0.577134</td>\n",
       "      <td>-0.288937</td>\n",
       "      <td>0.335848</td>\n",
       "      <td>-0.049901</td>\n",
       "      <td>...</td>\n",
       "      <td>0.0</td>\n",
       "      <td>0.00</td>\n",
       "      <td>0.0</td>\n",
       "      <td>3</td>\n",
       "      <td>4</td>\n",
       "      <td>0</td>\n",
       "      <td>1 year</td>\n",
       "      <td>4</td>\n",
       "      <td>7</td>\n",
       "      <td>5</td>\n",
       "    </tr>\n",
       "  </tbody>\n",
       "</table>\n",
       "<p>11242 rows × 968 columns</p>\n",
       "</div>"
      ],
      "text/plain": [
       "              0         1         2         3         4         5         6  \\\n",
       "0     -0.158468 -0.439611  0.853581 -0.538286 -0.102484 -0.495698 -0.631310   \n",
       "1     -0.186794 -0.766404  1.157155 -1.119730  0.105233 -0.556254 -0.458684   \n",
       "2      0.010278 -0.581126  0.858493  0.427046 -0.857490 -1.103230 -0.574962   \n",
       "3     -0.473216 -0.694514  0.407750  0.040162 -0.775717 -0.663174 -0.080214   \n",
       "4     -0.118972 -0.502742  0.340337  0.553690 -1.073774 -1.113690 -0.744634   \n",
       "...         ...       ...       ...       ...       ...       ...       ...   \n",
       "11237 -0.576978 -0.043660  0.186282 -0.263439 -0.040494 -0.256193 -0.161123   \n",
       "11238 -1.046488 -0.376314  0.276193 -0.479360 -0.866527 -0.484462  0.063963   \n",
       "11239 -0.907599 -0.494132  0.168148  0.644229 -1.047821 -0.994493 -0.245592   \n",
       "11240  0.121507  0.021508  0.184715  0.364868 -0.215259 -0.511104 -0.091738   \n",
       "11241 -0.777567 -0.240300  0.329451 -0.361666 -0.193620 -1.008196  0.577134   \n",
       "\n",
       "              7         8         9  ...  Apostro  Parenth  OtherP  \\\n",
       "0     -0.336134  0.848012 -0.620194  ...      0.0     0.00     0.0   \n",
       "1     -0.698586 -0.657113  0.782858  ...      0.0     0.00     0.0   \n",
       "2     -0.633358 -0.520994 -0.388783  ...      0.0     0.00     0.0   \n",
       "3      0.116128  0.143263 -0.570184  ...      0.0     0.00     0.0   \n",
       "4     -0.646628  0.594307  0.251025  ...      0.0     0.00     0.0   \n",
       "...         ...       ...       ...  ...      ...      ...     ...   \n",
       "11237 -0.979091  0.452203 -0.167423  ...      0.0     0.00     0.0   \n",
       "11238  0.343758 -0.351352 -0.475854  ...      0.0     3.08     0.0   \n",
       "11239  0.573410  0.128813 -0.216985  ...      0.0     0.00     0.0   \n",
       "11240 -0.138234  0.900011 -0.440557  ...      0.0     0.00     0.0   \n",
       "11241 -0.288937  0.335848 -0.049901  ...      0.0     0.00     0.0   \n",
       "\n",
       "       NOUN_count  VERB_count  ADJ_count           OwnedFor  OwnedCategorized  \\\n",
       "0              19          14          7  more than 2 years                 6   \n",
       "1               1           5          2  more than 2 years                 6   \n",
       "2               4           1          3  more than 2 years                 6   \n",
       "3               1           2          1  more than 2 years                 6   \n",
       "4               2           2          2  more than 2 years                 6   \n",
       "...           ...         ...        ...                ...               ...   \n",
       "11237          25          10         10          10 months                 3   \n",
       "11238           5           2          2            3 weeks                 1   \n",
       "11239           2           2          0             1 year                 4   \n",
       "11240          18          11          6           7 months                 3   \n",
       "11241           3           4          0             1 year                 4   \n",
       "\n",
       "       review_len  Rating  \n",
       "0              43       2  \n",
       "1              10       3  \n",
       "2               8       5  \n",
       "3               5       5  \n",
       "4               5       5  \n",
       "...           ...     ...  \n",
       "11237          42       4  \n",
       "11238          11       5  \n",
       "11239           5       5  \n",
       "11240          38       5  \n",
       "11241           7       5  \n",
       "\n",
       "[11242 rows x 968 columns]"
      ]
     },
     "execution_count": 63,
     "metadata": {},
     "output_type": "execute_result"
    }
   ],
   "source": [
    "apple_processed_BERT_mean = merging_embeds_ngrams_pos(model, apple_df,apple_df_liwc,stop_words, 100, (2,2))\n",
    "apple_processed_BERT_mean"
   ]
  },
  {
   "cell_type": "code",
   "execution_count": 64,
   "metadata": {
    "scrolled": true
   },
   "outputs": [
    {
     "name": "stderr",
     "output_type": "stream",
     "text": [
      "/var/folders/7k/9hch0q794xqdgy99gw9ytbgw0000gn/T/ipykernel_5650/4019386682.py:26: PerformanceWarning: DataFrame is highly fragmented.  This is usually the result of calling `frame.insert` many times, which has poor performance.  Consider joining all columns at once using pd.concat(axis=1) instead. To get a de-fragmented frame, use `newframe = frame.copy()`\n",
      "  combined_df['review_len'] = Llen\n",
      "/var/folders/7k/9hch0q794xqdgy99gw9ytbgw0000gn/T/ipykernel_5650/4019386682.py:27: PerformanceWarning: DataFrame is highly fragmented.  This is usually the result of calling `frame.insert` many times, which has poor performance.  Consider joining all columns at once using pd.concat(axis=1) instead. To get a de-fragmented frame, use `newframe = frame.copy()`\n",
      "  combined_df['Rating'] = df['Rating']\n"
     ]
    },
    {
     "data": {
      "text/html": [
       "<div>\n",
       "<style scoped>\n",
       "    .dataframe tbody tr th:only-of-type {\n",
       "        vertical-align: middle;\n",
       "    }\n",
       "\n",
       "    .dataframe tbody tr th {\n",
       "        vertical-align: top;\n",
       "    }\n",
       "\n",
       "    .dataframe thead th {\n",
       "        text-align: right;\n",
       "    }\n",
       "</style>\n",
       "<table border=\"1\" class=\"dataframe\">\n",
       "  <thead>\n",
       "    <tr style=\"text-align: right;\">\n",
       "      <th></th>\n",
       "      <th>0</th>\n",
       "      <th>1</th>\n",
       "      <th>2</th>\n",
       "      <th>3</th>\n",
       "      <th>4</th>\n",
       "      <th>5</th>\n",
       "      <th>6</th>\n",
       "      <th>7</th>\n",
       "      <th>8</th>\n",
       "      <th>9</th>\n",
       "      <th>...</th>\n",
       "      <th>Apostro</th>\n",
       "      <th>Parenth</th>\n",
       "      <th>OtherP</th>\n",
       "      <th>NOUN_count</th>\n",
       "      <th>VERB_count</th>\n",
       "      <th>ADJ_count</th>\n",
       "      <th>OwnedFor</th>\n",
       "      <th>OwnedCategorized</th>\n",
       "      <th>review_len</th>\n",
       "      <th>Rating</th>\n",
       "    </tr>\n",
       "  </thead>\n",
       "  <tbody>\n",
       "    <tr>\n",
       "      <th>0</th>\n",
       "      <td>-0.513297</td>\n",
       "      <td>-0.308858</td>\n",
       "      <td>0.526673</td>\n",
       "      <td>-0.023726</td>\n",
       "      <td>-0.140831</td>\n",
       "      <td>-0.247335</td>\n",
       "      <td>0.086016</td>\n",
       "      <td>-0.791743</td>\n",
       "      <td>0.410506</td>\n",
       "      <td>-0.937912</td>\n",
       "      <td>...</td>\n",
       "      <td>9.09</td>\n",
       "      <td>0.0</td>\n",
       "      <td>0.0</td>\n",
       "      <td>2</td>\n",
       "      <td>2</td>\n",
       "      <td>2</td>\n",
       "      <td>7 months</td>\n",
       "      <td>3</td>\n",
       "      <td>5</td>\n",
       "      <td>5</td>\n",
       "    </tr>\n",
       "    <tr>\n",
       "      <th>1</th>\n",
       "      <td>-0.180467</td>\n",
       "      <td>-0.379853</td>\n",
       "      <td>0.564663</td>\n",
       "      <td>-0.044409</td>\n",
       "      <td>-0.247112</td>\n",
       "      <td>-0.593197</td>\n",
       "      <td>-0.426389</td>\n",
       "      <td>0.282266</td>\n",
       "      <td>-0.668291</td>\n",
       "      <td>-0.233489</td>\n",
       "      <td>...</td>\n",
       "      <td>0.00</td>\n",
       "      <td>0.0</td>\n",
       "      <td>0.0</td>\n",
       "      <td>0</td>\n",
       "      <td>1</td>\n",
       "      <td>0</td>\n",
       "      <td>1.5 years</td>\n",
       "      <td>5</td>\n",
       "      <td>4</td>\n",
       "      <td>5</td>\n",
       "    </tr>\n",
       "    <tr>\n",
       "      <th>2</th>\n",
       "      <td>0.172752</td>\n",
       "      <td>-0.611308</td>\n",
       "      <td>-0.345173</td>\n",
       "      <td>-0.351720</td>\n",
       "      <td>-0.509771</td>\n",
       "      <td>-0.981686</td>\n",
       "      <td>0.186226</td>\n",
       "      <td>0.249284</td>\n",
       "      <td>0.434012</td>\n",
       "      <td>0.474398</td>\n",
       "      <td>...</td>\n",
       "      <td>3.70</td>\n",
       "      <td>0.0</td>\n",
       "      <td>0.0</td>\n",
       "      <td>2</td>\n",
       "      <td>6</td>\n",
       "      <td>2</td>\n",
       "      <td>10 months</td>\n",
       "      <td>3</td>\n",
       "      <td>12</td>\n",
       "      <td>5</td>\n",
       "    </tr>\n",
       "    <tr>\n",
       "      <th>3</th>\n",
       "      <td>-0.859924</td>\n",
       "      <td>-0.344483</td>\n",
       "      <td>0.951276</td>\n",
       "      <td>-0.908926</td>\n",
       "      <td>-0.257145</td>\n",
       "      <td>-0.550500</td>\n",
       "      <td>-0.104277</td>\n",
       "      <td>-0.375770</td>\n",
       "      <td>0.228479</td>\n",
       "      <td>-0.695640</td>\n",
       "      <td>...</td>\n",
       "      <td>0.00</td>\n",
       "      <td>0.0</td>\n",
       "      <td>0.0</td>\n",
       "      <td>5</td>\n",
       "      <td>4</td>\n",
       "      <td>0</td>\n",
       "      <td>1 year</td>\n",
       "      <td>4</td>\n",
       "      <td>11</td>\n",
       "      <td>5</td>\n",
       "    </tr>\n",
       "    <tr>\n",
       "      <th>4</th>\n",
       "      <td>-0.704675</td>\n",
       "      <td>-0.650758</td>\n",
       "      <td>1.024529</td>\n",
       "      <td>-0.469243</td>\n",
       "      <td>-0.332236</td>\n",
       "      <td>-0.549799</td>\n",
       "      <td>0.120132</td>\n",
       "      <td>-0.982889</td>\n",
       "      <td>0.914332</td>\n",
       "      <td>-0.520519</td>\n",
       "      <td>...</td>\n",
       "      <td>9.09</td>\n",
       "      <td>0.0</td>\n",
       "      <td>0.0</td>\n",
       "      <td>1</td>\n",
       "      <td>1</td>\n",
       "      <td>2</td>\n",
       "      <td>1.5 years</td>\n",
       "      <td>5</td>\n",
       "      <td>5</td>\n",
       "      <td>5</td>\n",
       "    </tr>\n",
       "    <tr>\n",
       "      <th>...</th>\n",
       "      <td>...</td>\n",
       "      <td>...</td>\n",
       "      <td>...</td>\n",
       "      <td>...</td>\n",
       "      <td>...</td>\n",
       "      <td>...</td>\n",
       "      <td>...</td>\n",
       "      <td>...</td>\n",
       "      <td>...</td>\n",
       "      <td>...</td>\n",
       "      <td>...</td>\n",
       "      <td>...</td>\n",
       "      <td>...</td>\n",
       "      <td>...</td>\n",
       "      <td>...</td>\n",
       "      <td>...</td>\n",
       "      <td>...</td>\n",
       "      <td>...</td>\n",
       "      <td>...</td>\n",
       "      <td>...</td>\n",
       "      <td>...</td>\n",
       "    </tr>\n",
       "    <tr>\n",
       "      <th>31641</th>\n",
       "      <td>-0.832855</td>\n",
       "      <td>-0.233134</td>\n",
       "      <td>0.136406</td>\n",
       "      <td>0.217502</td>\n",
       "      <td>-0.632584</td>\n",
       "      <td>-0.844102</td>\n",
       "      <td>0.011074</td>\n",
       "      <td>-0.305169</td>\n",
       "      <td>-0.049922</td>\n",
       "      <td>0.126451</td>\n",
       "      <td>...</td>\n",
       "      <td>8.33</td>\n",
       "      <td>0.0</td>\n",
       "      <td>0.0</td>\n",
       "      <td>2</td>\n",
       "      <td>3</td>\n",
       "      <td>2</td>\n",
       "      <td>3 weeks</td>\n",
       "      <td>1</td>\n",
       "      <td>4</td>\n",
       "      <td>5</td>\n",
       "    </tr>\n",
       "    <tr>\n",
       "      <th>31642</th>\n",
       "      <td>-0.875283</td>\n",
       "      <td>-0.220690</td>\n",
       "      <td>0.064456</td>\n",
       "      <td>0.615256</td>\n",
       "      <td>-0.608861</td>\n",
       "      <td>-0.947127</td>\n",
       "      <td>0.208773</td>\n",
       "      <td>-0.805821</td>\n",
       "      <td>-0.275637</td>\n",
       "      <td>-0.210173</td>\n",
       "      <td>...</td>\n",
       "      <td>0.00</td>\n",
       "      <td>0.0</td>\n",
       "      <td>0.0</td>\n",
       "      <td>0</td>\n",
       "      <td>2</td>\n",
       "      <td>2</td>\n",
       "      <td>2 weeks</td>\n",
       "      <td>1</td>\n",
       "      <td>5</td>\n",
       "      <td>5</td>\n",
       "    </tr>\n",
       "    <tr>\n",
       "      <th>31643</th>\n",
       "      <td>-1.096967</td>\n",
       "      <td>-0.480100</td>\n",
       "      <td>0.887669</td>\n",
       "      <td>-0.073598</td>\n",
       "      <td>-0.745181</td>\n",
       "      <td>-0.744432</td>\n",
       "      <td>0.331998</td>\n",
       "      <td>-0.046960</td>\n",
       "      <td>-0.218125</td>\n",
       "      <td>-0.967949</td>\n",
       "      <td>...</td>\n",
       "      <td>0.00</td>\n",
       "      <td>0.0</td>\n",
       "      <td>0.0</td>\n",
       "      <td>5</td>\n",
       "      <td>2</td>\n",
       "      <td>1</td>\n",
       "      <td>1 month</td>\n",
       "      <td>2</td>\n",
       "      <td>6</td>\n",
       "      <td>5</td>\n",
       "    </tr>\n",
       "    <tr>\n",
       "      <th>31644</th>\n",
       "      <td>0.282827</td>\n",
       "      <td>-0.191884</td>\n",
       "      <td>0.645876</td>\n",
       "      <td>-0.484937</td>\n",
       "      <td>-0.342067</td>\n",
       "      <td>-0.177655</td>\n",
       "      <td>-0.784974</td>\n",
       "      <td>-0.017233</td>\n",
       "      <td>0.266659</td>\n",
       "      <td>0.123763</td>\n",
       "      <td>...</td>\n",
       "      <td>0.00</td>\n",
       "      <td>0.0</td>\n",
       "      <td>0.0</td>\n",
       "      <td>2</td>\n",
       "      <td>4</td>\n",
       "      <td>1</td>\n",
       "      <td>7 months</td>\n",
       "      <td>3</td>\n",
       "      <td>7</td>\n",
       "      <td>5</td>\n",
       "    </tr>\n",
       "    <tr>\n",
       "      <th>31645</th>\n",
       "      <td>-0.326926</td>\n",
       "      <td>0.122747</td>\n",
       "      <td>0.960781</td>\n",
       "      <td>-0.918176</td>\n",
       "      <td>-0.351728</td>\n",
       "      <td>-0.672915</td>\n",
       "      <td>0.541189</td>\n",
       "      <td>-0.267970</td>\n",
       "      <td>0.060459</td>\n",
       "      <td>-0.080108</td>\n",
       "      <td>...</td>\n",
       "      <td>5.56</td>\n",
       "      <td>0.0</td>\n",
       "      <td>0.0</td>\n",
       "      <td>3</td>\n",
       "      <td>4</td>\n",
       "      <td>1</td>\n",
       "      <td>1 month</td>\n",
       "      <td>2</td>\n",
       "      <td>11</td>\n",
       "      <td>5</td>\n",
       "    </tr>\n",
       "  </tbody>\n",
       "</table>\n",
       "<p>31646 rows × 968 columns</p>\n",
       "</div>"
      ],
      "text/plain": [
       "              0         1         2         3         4         5         6  \\\n",
       "0     -0.513297 -0.308858  0.526673 -0.023726 -0.140831 -0.247335  0.086016   \n",
       "1     -0.180467 -0.379853  0.564663 -0.044409 -0.247112 -0.593197 -0.426389   \n",
       "2      0.172752 -0.611308 -0.345173 -0.351720 -0.509771 -0.981686  0.186226   \n",
       "3     -0.859924 -0.344483  0.951276 -0.908926 -0.257145 -0.550500 -0.104277   \n",
       "4     -0.704675 -0.650758  1.024529 -0.469243 -0.332236 -0.549799  0.120132   \n",
       "...         ...       ...       ...       ...       ...       ...       ...   \n",
       "31641 -0.832855 -0.233134  0.136406  0.217502 -0.632584 -0.844102  0.011074   \n",
       "31642 -0.875283 -0.220690  0.064456  0.615256 -0.608861 -0.947127  0.208773   \n",
       "31643 -1.096967 -0.480100  0.887669 -0.073598 -0.745181 -0.744432  0.331998   \n",
       "31644  0.282827 -0.191884  0.645876 -0.484937 -0.342067 -0.177655 -0.784974   \n",
       "31645 -0.326926  0.122747  0.960781 -0.918176 -0.351728 -0.672915  0.541189   \n",
       "\n",
       "              7         8         9  ...  Apostro  Parenth  OtherP  \\\n",
       "0     -0.791743  0.410506 -0.937912  ...     9.09      0.0     0.0   \n",
       "1      0.282266 -0.668291 -0.233489  ...     0.00      0.0     0.0   \n",
       "2      0.249284  0.434012  0.474398  ...     3.70      0.0     0.0   \n",
       "3     -0.375770  0.228479 -0.695640  ...     0.00      0.0     0.0   \n",
       "4     -0.982889  0.914332 -0.520519  ...     9.09      0.0     0.0   \n",
       "...         ...       ...       ...  ...      ...      ...     ...   \n",
       "31641 -0.305169 -0.049922  0.126451  ...     8.33      0.0     0.0   \n",
       "31642 -0.805821 -0.275637 -0.210173  ...     0.00      0.0     0.0   \n",
       "31643 -0.046960 -0.218125 -0.967949  ...     0.00      0.0     0.0   \n",
       "31644 -0.017233  0.266659  0.123763  ...     0.00      0.0     0.0   \n",
       "31645 -0.267970  0.060459 -0.080108  ...     5.56      0.0     0.0   \n",
       "\n",
       "       NOUN_count  VERB_count  ADJ_count   OwnedFor  OwnedCategorized  \\\n",
       "0               2           2          2   7 months                 3   \n",
       "1               0           1          0  1.5 years                 5   \n",
       "2               2           6          2  10 months                 3   \n",
       "3               5           4          0     1 year                 4   \n",
       "4               1           1          2  1.5 years                 5   \n",
       "...           ...         ...        ...        ...               ...   \n",
       "31641           2           3          2    3 weeks                 1   \n",
       "31642           0           2          2    2 weeks                 1   \n",
       "31643           5           2          1    1 month                 2   \n",
       "31644           2           4          1   7 months                 3   \n",
       "31645           3           4          1    1 month                 2   \n",
       "\n",
       "       review_len  Rating  \n",
       "0               5       5  \n",
       "1               4       5  \n",
       "2              12       5  \n",
       "3              11       5  \n",
       "4               5       5  \n",
       "...           ...     ...  \n",
       "31641           4       5  \n",
       "31642           5       5  \n",
       "31643           6       5  \n",
       "31644           7       5  \n",
       "31645          11       5  \n",
       "\n",
       "[31646 rows x 968 columns]"
      ]
     },
     "execution_count": 64,
     "metadata": {},
     "output_type": "execute_result"
    }
   ],
   "source": [
    "amazon_processed_BERT_mean = merging_embeds_ngrams_pos(model, amazon_df, amazon_df_liwc, stop_words, 100, (2,2))\n",
    "amazon_processed_BERT_mean"
   ]
  },
  {
   "cell_type": "code",
   "execution_count": 65,
   "metadata": {},
   "outputs": [
    {
     "name": "stderr",
     "output_type": "stream",
     "text": [
      "/var/folders/7k/9hch0q794xqdgy99gw9ytbgw0000gn/T/ipykernel_5650/4019386682.py:26: PerformanceWarning: DataFrame is highly fragmented.  This is usually the result of calling `frame.insert` many times, which has poor performance.  Consider joining all columns at once using pd.concat(axis=1) instead. To get a de-fragmented frame, use `newframe = frame.copy()`\n",
      "  combined_df['review_len'] = Llen\n",
      "/var/folders/7k/9hch0q794xqdgy99gw9ytbgw0000gn/T/ipykernel_5650/4019386682.py:27: PerformanceWarning: DataFrame is highly fragmented.  This is usually the result of calling `frame.insert` many times, which has poor performance.  Consider joining all columns at once using pd.concat(axis=1) instead. To get a de-fragmented frame, use `newframe = frame.copy()`\n",
      "  combined_df['Rating'] = df['Rating']\n"
     ]
    },
    {
     "data": {
      "text/html": [
       "<div>\n",
       "<style scoped>\n",
       "    .dataframe tbody tr th:only-of-type {\n",
       "        vertical-align: middle;\n",
       "    }\n",
       "\n",
       "    .dataframe tbody tr th {\n",
       "        vertical-align: top;\n",
       "    }\n",
       "\n",
       "    .dataframe thead th {\n",
       "        text-align: right;\n",
       "    }\n",
       "</style>\n",
       "<table border=\"1\" class=\"dataframe\">\n",
       "  <thead>\n",
       "    <tr style=\"text-align: right;\">\n",
       "      <th></th>\n",
       "      <th>0</th>\n",
       "      <th>1</th>\n",
       "      <th>2</th>\n",
       "      <th>3</th>\n",
       "      <th>4</th>\n",
       "      <th>5</th>\n",
       "      <th>6</th>\n",
       "      <th>7</th>\n",
       "      <th>8</th>\n",
       "      <th>9</th>\n",
       "      <th>...</th>\n",
       "      <th>Apostro</th>\n",
       "      <th>Parenth</th>\n",
       "      <th>OtherP</th>\n",
       "      <th>NOUN_count</th>\n",
       "      <th>VERB_count</th>\n",
       "      <th>ADJ_count</th>\n",
       "      <th>OwnedFor</th>\n",
       "      <th>OwnedCategorized</th>\n",
       "      <th>review_len</th>\n",
       "      <th>Rating</th>\n",
       "    </tr>\n",
       "  </thead>\n",
       "  <tbody>\n",
       "    <tr>\n",
       "      <th>0</th>\n",
       "      <td>-0.779565</td>\n",
       "      <td>-0.926940</td>\n",
       "      <td>0.973392</td>\n",
       "      <td>-0.050409</td>\n",
       "      <td>-0.201227</td>\n",
       "      <td>-0.862517</td>\n",
       "      <td>-0.614672</td>\n",
       "      <td>-0.423510</td>\n",
       "      <td>0.823083</td>\n",
       "      <td>-0.591712</td>\n",
       "      <td>...</td>\n",
       "      <td>0.00</td>\n",
       "      <td>0.0</td>\n",
       "      <td>0.0</td>\n",
       "      <td>7</td>\n",
       "      <td>6</td>\n",
       "      <td>1</td>\n",
       "      <td>more than 2 years</td>\n",
       "      <td>6</td>\n",
       "      <td>17</td>\n",
       "      <td>3</td>\n",
       "    </tr>\n",
       "    <tr>\n",
       "      <th>1</th>\n",
       "      <td>-0.064655</td>\n",
       "      <td>-0.588466</td>\n",
       "      <td>0.811885</td>\n",
       "      <td>-0.573566</td>\n",
       "      <td>-0.388068</td>\n",
       "      <td>-0.393929</td>\n",
       "      <td>-0.736215</td>\n",
       "      <td>-0.422256</td>\n",
       "      <td>0.180595</td>\n",
       "      <td>0.304754</td>\n",
       "      <td>...</td>\n",
       "      <td>0.00</td>\n",
       "      <td>0.0</td>\n",
       "      <td>0.0</td>\n",
       "      <td>3</td>\n",
       "      <td>6</td>\n",
       "      <td>2</td>\n",
       "      <td>1.5 years</td>\n",
       "      <td>5</td>\n",
       "      <td>13</td>\n",
       "      <td>5</td>\n",
       "    </tr>\n",
       "    <tr>\n",
       "      <th>2</th>\n",
       "      <td>0.053550</td>\n",
       "      <td>-0.440856</td>\n",
       "      <td>1.099830</td>\n",
       "      <td>-0.541663</td>\n",
       "      <td>-0.044520</td>\n",
       "      <td>-0.358902</td>\n",
       "      <td>-0.163585</td>\n",
       "      <td>-1.019400</td>\n",
       "      <td>-0.163759</td>\n",
       "      <td>0.748017</td>\n",
       "      <td>...</td>\n",
       "      <td>4.00</td>\n",
       "      <td>0.0</td>\n",
       "      <td>0.0</td>\n",
       "      <td>17</td>\n",
       "      <td>6</td>\n",
       "      <td>6</td>\n",
       "      <td>more than 2 years</td>\n",
       "      <td>6</td>\n",
       "      <td>34</td>\n",
       "      <td>4</td>\n",
       "    </tr>\n",
       "    <tr>\n",
       "      <th>3</th>\n",
       "      <td>-0.600825</td>\n",
       "      <td>-1.273891</td>\n",
       "      <td>0.240493</td>\n",
       "      <td>0.271028</td>\n",
       "      <td>-0.572578</td>\n",
       "      <td>-0.636670</td>\n",
       "      <td>-0.438937</td>\n",
       "      <td>-0.461204</td>\n",
       "      <td>0.744259</td>\n",
       "      <td>-0.142931</td>\n",
       "      <td>...</td>\n",
       "      <td>0.00</td>\n",
       "      <td>0.0</td>\n",
       "      <td>0.0</td>\n",
       "      <td>4</td>\n",
       "      <td>3</td>\n",
       "      <td>3</td>\n",
       "      <td>1.5 years</td>\n",
       "      <td>5</td>\n",
       "      <td>10</td>\n",
       "      <td>5</td>\n",
       "    </tr>\n",
       "    <tr>\n",
       "      <th>4</th>\n",
       "      <td>0.203512</td>\n",
       "      <td>-0.377288</td>\n",
       "      <td>0.651243</td>\n",
       "      <td>-0.190404</td>\n",
       "      <td>-0.873383</td>\n",
       "      <td>-1.049136</td>\n",
       "      <td>-0.387723</td>\n",
       "      <td>-0.311397</td>\n",
       "      <td>-0.074188</td>\n",
       "      <td>-0.067937</td>\n",
       "      <td>...</td>\n",
       "      <td>0.00</td>\n",
       "      <td>0.0</td>\n",
       "      <td>0.0</td>\n",
       "      <td>2</td>\n",
       "      <td>1</td>\n",
       "      <td>3</td>\n",
       "      <td>1 year</td>\n",
       "      <td>4</td>\n",
       "      <td>8</td>\n",
       "      <td>4</td>\n",
       "    </tr>\n",
       "    <tr>\n",
       "      <th>...</th>\n",
       "      <td>...</td>\n",
       "      <td>...</td>\n",
       "      <td>...</td>\n",
       "      <td>...</td>\n",
       "      <td>...</td>\n",
       "      <td>...</td>\n",
       "      <td>...</td>\n",
       "      <td>...</td>\n",
       "      <td>...</td>\n",
       "      <td>...</td>\n",
       "      <td>...</td>\n",
       "      <td>...</td>\n",
       "      <td>...</td>\n",
       "      <td>...</td>\n",
       "      <td>...</td>\n",
       "      <td>...</td>\n",
       "      <td>...</td>\n",
       "      <td>...</td>\n",
       "      <td>...</td>\n",
       "      <td>...</td>\n",
       "      <td>...</td>\n",
       "    </tr>\n",
       "    <tr>\n",
       "      <th>10371</th>\n",
       "      <td>-0.430505</td>\n",
       "      <td>-0.039394</td>\n",
       "      <td>-0.040874</td>\n",
       "      <td>0.098835</td>\n",
       "      <td>0.054938</td>\n",
       "      <td>-0.386315</td>\n",
       "      <td>-0.124647</td>\n",
       "      <td>-0.412220</td>\n",
       "      <td>0.836161</td>\n",
       "      <td>-0.966618</td>\n",
       "      <td>...</td>\n",
       "      <td>7.69</td>\n",
       "      <td>0.0</td>\n",
       "      <td>0.0</td>\n",
       "      <td>4</td>\n",
       "      <td>6</td>\n",
       "      <td>1</td>\n",
       "      <td>1 month</td>\n",
       "      <td>2</td>\n",
       "      <td>13</td>\n",
       "      <td>4</td>\n",
       "    </tr>\n",
       "    <tr>\n",
       "      <th>10372</th>\n",
       "      <td>-0.935373</td>\n",
       "      <td>-0.868338</td>\n",
       "      <td>0.363158</td>\n",
       "      <td>-0.143107</td>\n",
       "      <td>-0.164336</td>\n",
       "      <td>-0.098602</td>\n",
       "      <td>-0.415622</td>\n",
       "      <td>-0.809009</td>\n",
       "      <td>0.364562</td>\n",
       "      <td>1.143269</td>\n",
       "      <td>...</td>\n",
       "      <td>0.00</td>\n",
       "      <td>0.0</td>\n",
       "      <td>0.0</td>\n",
       "      <td>1</td>\n",
       "      <td>1</td>\n",
       "      <td>4</td>\n",
       "      <td>2 months</td>\n",
       "      <td>2</td>\n",
       "      <td>9</td>\n",
       "      <td>4</td>\n",
       "    </tr>\n",
       "    <tr>\n",
       "      <th>10373</th>\n",
       "      <td>-0.162951</td>\n",
       "      <td>-0.555421</td>\n",
       "      <td>0.797093</td>\n",
       "      <td>-0.611321</td>\n",
       "      <td>0.063156</td>\n",
       "      <td>-0.294918</td>\n",
       "      <td>-0.717150</td>\n",
       "      <td>-0.303369</td>\n",
       "      <td>0.135705</td>\n",
       "      <td>0.397984</td>\n",
       "      <td>...</td>\n",
       "      <td>7.14</td>\n",
       "      <td>0.0</td>\n",
       "      <td>0.0</td>\n",
       "      <td>5</td>\n",
       "      <td>4</td>\n",
       "      <td>2</td>\n",
       "      <td>1 month</td>\n",
       "      <td>2</td>\n",
       "      <td>12</td>\n",
       "      <td>5</td>\n",
       "    </tr>\n",
       "    <tr>\n",
       "      <th>10374</th>\n",
       "      <td>-0.404358</td>\n",
       "      <td>-0.558255</td>\n",
       "      <td>0.677919</td>\n",
       "      <td>-0.501117</td>\n",
       "      <td>-0.096864</td>\n",
       "      <td>-0.847526</td>\n",
       "      <td>-0.029185</td>\n",
       "      <td>-0.629467</td>\n",
       "      <td>0.390242</td>\n",
       "      <td>-0.879607</td>\n",
       "      <td>...</td>\n",
       "      <td>2.00</td>\n",
       "      <td>0.0</td>\n",
       "      <td>0.0</td>\n",
       "      <td>2</td>\n",
       "      <td>2</td>\n",
       "      <td>1</td>\n",
       "      <td>3 weeks</td>\n",
       "      <td>1</td>\n",
       "      <td>7</td>\n",
       "      <td>5</td>\n",
       "    </tr>\n",
       "    <tr>\n",
       "      <th>10375</th>\n",
       "      <td>0.112193</td>\n",
       "      <td>-0.449097</td>\n",
       "      <td>0.207086</td>\n",
       "      <td>-0.141587</td>\n",
       "      <td>-0.318410</td>\n",
       "      <td>-0.882283</td>\n",
       "      <td>0.743694</td>\n",
       "      <td>0.204953</td>\n",
       "      <td>0.368118</td>\n",
       "      <td>-1.059743</td>\n",
       "      <td>...</td>\n",
       "      <td>0.00</td>\n",
       "      <td>0.0</td>\n",
       "      <td>0.0</td>\n",
       "      <td>1</td>\n",
       "      <td>6</td>\n",
       "      <td>1</td>\n",
       "      <td>1 month</td>\n",
       "      <td>2</td>\n",
       "      <td>8</td>\n",
       "      <td>5</td>\n",
       "    </tr>\n",
       "  </tbody>\n",
       "</table>\n",
       "<p>10376 rows × 968 columns</p>\n",
       "</div>"
      ],
      "text/plain": [
       "              0         1         2         3         4         5         6  \\\n",
       "0     -0.779565 -0.926940  0.973392 -0.050409 -0.201227 -0.862517 -0.614672   \n",
       "1     -0.064655 -0.588466  0.811885 -0.573566 -0.388068 -0.393929 -0.736215   \n",
       "2      0.053550 -0.440856  1.099830 -0.541663 -0.044520 -0.358902 -0.163585   \n",
       "3     -0.600825 -1.273891  0.240493  0.271028 -0.572578 -0.636670 -0.438937   \n",
       "4      0.203512 -0.377288  0.651243 -0.190404 -0.873383 -1.049136 -0.387723   \n",
       "...         ...       ...       ...       ...       ...       ...       ...   \n",
       "10371 -0.430505 -0.039394 -0.040874  0.098835  0.054938 -0.386315 -0.124647   \n",
       "10372 -0.935373 -0.868338  0.363158 -0.143107 -0.164336 -0.098602 -0.415622   \n",
       "10373 -0.162951 -0.555421  0.797093 -0.611321  0.063156 -0.294918 -0.717150   \n",
       "10374 -0.404358 -0.558255  0.677919 -0.501117 -0.096864 -0.847526 -0.029185   \n",
       "10375  0.112193 -0.449097  0.207086 -0.141587 -0.318410 -0.882283  0.743694   \n",
       "\n",
       "              7         8         9  ...  Apostro  Parenth  OtherP  \\\n",
       "0     -0.423510  0.823083 -0.591712  ...     0.00      0.0     0.0   \n",
       "1     -0.422256  0.180595  0.304754  ...     0.00      0.0     0.0   \n",
       "2     -1.019400 -0.163759  0.748017  ...     4.00      0.0     0.0   \n",
       "3     -0.461204  0.744259 -0.142931  ...     0.00      0.0     0.0   \n",
       "4     -0.311397 -0.074188 -0.067937  ...     0.00      0.0     0.0   \n",
       "...         ...       ...       ...  ...      ...      ...     ...   \n",
       "10371 -0.412220  0.836161 -0.966618  ...     7.69      0.0     0.0   \n",
       "10372 -0.809009  0.364562  1.143269  ...     0.00      0.0     0.0   \n",
       "10373 -0.303369  0.135705  0.397984  ...     7.14      0.0     0.0   \n",
       "10374 -0.629467  0.390242 -0.879607  ...     2.00      0.0     0.0   \n",
       "10375  0.204953  0.368118 -1.059743  ...     0.00      0.0     0.0   \n",
       "\n",
       "       NOUN_count  VERB_count  ADJ_count           OwnedFor  OwnedCategorized  \\\n",
       "0               7           6          1  more than 2 years                 6   \n",
       "1               3           6          2          1.5 years                 5   \n",
       "2              17           6          6  more than 2 years                 6   \n",
       "3               4           3          3          1.5 years                 5   \n",
       "4               2           1          3             1 year                 4   \n",
       "...           ...         ...        ...                ...               ...   \n",
       "10371           4           6          1            1 month                 2   \n",
       "10372           1           1          4           2 months                 2   \n",
       "10373           5           4          2            1 month                 2   \n",
       "10374           2           2          1            3 weeks                 1   \n",
       "10375           1           6          1            1 month                 2   \n",
       "\n",
       "       review_len  Rating  \n",
       "0              17       3  \n",
       "1              13       5  \n",
       "2              34       4  \n",
       "3              10       5  \n",
       "4               8       4  \n",
       "...           ...     ...  \n",
       "10371          13       4  \n",
       "10372           9       4  \n",
       "10373          12       5  \n",
       "10374           7       5  \n",
       "10375           8       5  \n",
       "\n",
       "[10376 rows x 968 columns]"
      ]
     },
     "execution_count": 65,
     "metadata": {},
     "output_type": "execute_result"
    }
   ],
   "source": [
    "google_processed_BERT_mean = merging_embeds_ngrams_pos(model, google_df,google_df_liwc,stop_words, 100, (2,2))\n",
    "google_processed_BERT_mean"
   ]
  },
  {
   "cell_type": "markdown",
   "metadata": {},
   "source": [
    "### BERT Large"
   ]
  },
  {
   "cell_type": "code",
   "execution_count": 66,
   "metadata": {},
   "outputs": [
    {
     "name": "stderr",
     "output_type": "stream",
     "text": [
      "/var/folders/7k/9hch0q794xqdgy99gw9ytbgw0000gn/T/ipykernel_5650/4019386682.py:26: PerformanceWarning: DataFrame is highly fragmented.  This is usually the result of calling `frame.insert` many times, which has poor performance.  Consider joining all columns at once using pd.concat(axis=1) instead. To get a de-fragmented frame, use `newframe = frame.copy()`\n",
      "  combined_df['review_len'] = Llen\n",
      "/var/folders/7k/9hch0q794xqdgy99gw9ytbgw0000gn/T/ipykernel_5650/4019386682.py:27: PerformanceWarning: DataFrame is highly fragmented.  This is usually the result of calling `frame.insert` many times, which has poor performance.  Consider joining all columns at once using pd.concat(axis=1) instead. To get a de-fragmented frame, use `newframe = frame.copy()`\n",
      "  combined_df['Rating'] = df['Rating']\n"
     ]
    },
    {
     "data": {
      "text/html": [
       "<div>\n",
       "<style scoped>\n",
       "    .dataframe tbody tr th:only-of-type {\n",
       "        vertical-align: middle;\n",
       "    }\n",
       "\n",
       "    .dataframe tbody tr th {\n",
       "        vertical-align: top;\n",
       "    }\n",
       "\n",
       "    .dataframe thead th {\n",
       "        text-align: right;\n",
       "    }\n",
       "</style>\n",
       "<table border=\"1\" class=\"dataframe\">\n",
       "  <thead>\n",
       "    <tr style=\"text-align: right;\">\n",
       "      <th></th>\n",
       "      <th>0</th>\n",
       "      <th>1</th>\n",
       "      <th>2</th>\n",
       "      <th>3</th>\n",
       "      <th>4</th>\n",
       "      <th>5</th>\n",
       "      <th>6</th>\n",
       "      <th>7</th>\n",
       "      <th>8</th>\n",
       "      <th>9</th>\n",
       "      <th>...</th>\n",
       "      <th>Apostro</th>\n",
       "      <th>Parenth</th>\n",
       "      <th>OtherP</th>\n",
       "      <th>NOUN_count</th>\n",
       "      <th>VERB_count</th>\n",
       "      <th>ADJ_count</th>\n",
       "      <th>OwnedFor</th>\n",
       "      <th>OwnedCategorized</th>\n",
       "      <th>review_len</th>\n",
       "      <th>Rating</th>\n",
       "    </tr>\n",
       "  </thead>\n",
       "  <tbody>\n",
       "    <tr>\n",
       "      <th>0</th>\n",
       "      <td>0.983310</td>\n",
       "      <td>0.661395</td>\n",
       "      <td>-0.005628</td>\n",
       "      <td>0.391475</td>\n",
       "      <td>0.599468</td>\n",
       "      <td>0.247196</td>\n",
       "      <td>-0.222022</td>\n",
       "      <td>-0.675306</td>\n",
       "      <td>1.326272</td>\n",
       "      <td>0.905621</td>\n",
       "      <td>...</td>\n",
       "      <td>0.0</td>\n",
       "      <td>0.00</td>\n",
       "      <td>0.0</td>\n",
       "      <td>19</td>\n",
       "      <td>14</td>\n",
       "      <td>7</td>\n",
       "      <td>more than 2 years</td>\n",
       "      <td>6</td>\n",
       "      <td>43</td>\n",
       "      <td>2</td>\n",
       "    </tr>\n",
       "    <tr>\n",
       "      <th>1</th>\n",
       "      <td>0.839777</td>\n",
       "      <td>0.546538</td>\n",
       "      <td>0.238667</td>\n",
       "      <td>0.423015</td>\n",
       "      <td>0.588731</td>\n",
       "      <td>-0.199983</td>\n",
       "      <td>0.761129</td>\n",
       "      <td>-0.460239</td>\n",
       "      <td>-0.040675</td>\n",
       "      <td>-0.389172</td>\n",
       "      <td>...</td>\n",
       "      <td>0.0</td>\n",
       "      <td>0.00</td>\n",
       "      <td>0.0</td>\n",
       "      <td>1</td>\n",
       "      <td>5</td>\n",
       "      <td>2</td>\n",
       "      <td>more than 2 years</td>\n",
       "      <td>6</td>\n",
       "      <td>10</td>\n",
       "      <td>3</td>\n",
       "    </tr>\n",
       "    <tr>\n",
       "      <th>2</th>\n",
       "      <td>1.205966</td>\n",
       "      <td>-0.820295</td>\n",
       "      <td>0.260041</td>\n",
       "      <td>0.282514</td>\n",
       "      <td>1.324543</td>\n",
       "      <td>1.304266</td>\n",
       "      <td>-0.897646</td>\n",
       "      <td>0.671183</td>\n",
       "      <td>1.109110</td>\n",
       "      <td>0.383356</td>\n",
       "      <td>...</td>\n",
       "      <td>0.0</td>\n",
       "      <td>0.00</td>\n",
       "      <td>0.0</td>\n",
       "      <td>4</td>\n",
       "      <td>1</td>\n",
       "      <td>3</td>\n",
       "      <td>more than 2 years</td>\n",
       "      <td>6</td>\n",
       "      <td>8</td>\n",
       "      <td>5</td>\n",
       "    </tr>\n",
       "    <tr>\n",
       "      <th>3</th>\n",
       "      <td>0.149299</td>\n",
       "      <td>-1.045238</td>\n",
       "      <td>0.882931</td>\n",
       "      <td>-0.172439</td>\n",
       "      <td>1.004971</td>\n",
       "      <td>0.572282</td>\n",
       "      <td>0.149080</td>\n",
       "      <td>0.606893</td>\n",
       "      <td>1.298057</td>\n",
       "      <td>-0.173340</td>\n",
       "      <td>...</td>\n",
       "      <td>0.0</td>\n",
       "      <td>0.00</td>\n",
       "      <td>0.0</td>\n",
       "      <td>1</td>\n",
       "      <td>2</td>\n",
       "      <td>1</td>\n",
       "      <td>more than 2 years</td>\n",
       "      <td>6</td>\n",
       "      <td>5</td>\n",
       "      <td>5</td>\n",
       "    </tr>\n",
       "    <tr>\n",
       "      <th>4</th>\n",
       "      <td>0.838390</td>\n",
       "      <td>-0.624167</td>\n",
       "      <td>-0.001048</td>\n",
       "      <td>0.621148</td>\n",
       "      <td>1.219351</td>\n",
       "      <td>1.190395</td>\n",
       "      <td>-0.657419</td>\n",
       "      <td>-0.120823</td>\n",
       "      <td>1.470320</td>\n",
       "      <td>0.367549</td>\n",
       "      <td>...</td>\n",
       "      <td>0.0</td>\n",
       "      <td>0.00</td>\n",
       "      <td>0.0</td>\n",
       "      <td>2</td>\n",
       "      <td>2</td>\n",
       "      <td>2</td>\n",
       "      <td>more than 2 years</td>\n",
       "      <td>6</td>\n",
       "      <td>5</td>\n",
       "      <td>5</td>\n",
       "    </tr>\n",
       "    <tr>\n",
       "      <th>...</th>\n",
       "      <td>...</td>\n",
       "      <td>...</td>\n",
       "      <td>...</td>\n",
       "      <td>...</td>\n",
       "      <td>...</td>\n",
       "      <td>...</td>\n",
       "      <td>...</td>\n",
       "      <td>...</td>\n",
       "      <td>...</td>\n",
       "      <td>...</td>\n",
       "      <td>...</td>\n",
       "      <td>...</td>\n",
       "      <td>...</td>\n",
       "      <td>...</td>\n",
       "      <td>...</td>\n",
       "      <td>...</td>\n",
       "      <td>...</td>\n",
       "      <td>...</td>\n",
       "      <td>...</td>\n",
       "      <td>...</td>\n",
       "      <td>...</td>\n",
       "    </tr>\n",
       "    <tr>\n",
       "      <th>11237</th>\n",
       "      <td>0.431758</td>\n",
       "      <td>0.887711</td>\n",
       "      <td>-0.322128</td>\n",
       "      <td>-0.372409</td>\n",
       "      <td>1.138864</td>\n",
       "      <td>0.628092</td>\n",
       "      <td>0.167041</td>\n",
       "      <td>0.174815</td>\n",
       "      <td>0.932777</td>\n",
       "      <td>0.277480</td>\n",
       "      <td>...</td>\n",
       "      <td>0.0</td>\n",
       "      <td>0.00</td>\n",
       "      <td>0.0</td>\n",
       "      <td>25</td>\n",
       "      <td>10</td>\n",
       "      <td>10</td>\n",
       "      <td>10 months</td>\n",
       "      <td>3</td>\n",
       "      <td>42</td>\n",
       "      <td>4</td>\n",
       "    </tr>\n",
       "    <tr>\n",
       "      <th>11238</th>\n",
       "      <td>0.090965</td>\n",
       "      <td>-0.300278</td>\n",
       "      <td>0.422950</td>\n",
       "      <td>-0.572750</td>\n",
       "      <td>0.049459</td>\n",
       "      <td>-0.537889</td>\n",
       "      <td>0.469333</td>\n",
       "      <td>-0.961600</td>\n",
       "      <td>0.296112</td>\n",
       "      <td>0.995747</td>\n",
       "      <td>...</td>\n",
       "      <td>0.0</td>\n",
       "      <td>3.08</td>\n",
       "      <td>0.0</td>\n",
       "      <td>5</td>\n",
       "      <td>2</td>\n",
       "      <td>2</td>\n",
       "      <td>3 weeks</td>\n",
       "      <td>1</td>\n",
       "      <td>11</td>\n",
       "      <td>5</td>\n",
       "    </tr>\n",
       "    <tr>\n",
       "      <th>11239</th>\n",
       "      <td>-0.137958</td>\n",
       "      <td>-0.738065</td>\n",
       "      <td>0.862632</td>\n",
       "      <td>-0.567497</td>\n",
       "      <td>0.655615</td>\n",
       "      <td>0.090100</td>\n",
       "      <td>0.591886</td>\n",
       "      <td>1.233527</td>\n",
       "      <td>1.033565</td>\n",
       "      <td>0.100217</td>\n",
       "      <td>...</td>\n",
       "      <td>0.0</td>\n",
       "      <td>0.00</td>\n",
       "      <td>0.0</td>\n",
       "      <td>2</td>\n",
       "      <td>2</td>\n",
       "      <td>0</td>\n",
       "      <td>1 year</td>\n",
       "      <td>4</td>\n",
       "      <td>5</td>\n",
       "      <td>5</td>\n",
       "    </tr>\n",
       "    <tr>\n",
       "      <th>11240</th>\n",
       "      <td>0.375920</td>\n",
       "      <td>0.260230</td>\n",
       "      <td>0.174079</td>\n",
       "      <td>0.486693</td>\n",
       "      <td>0.451693</td>\n",
       "      <td>0.135253</td>\n",
       "      <td>-1.521774</td>\n",
       "      <td>0.598302</td>\n",
       "      <td>0.640672</td>\n",
       "      <td>-0.134451</td>\n",
       "      <td>...</td>\n",
       "      <td>0.0</td>\n",
       "      <td>0.00</td>\n",
       "      <td>0.0</td>\n",
       "      <td>18</td>\n",
       "      <td>11</td>\n",
       "      <td>6</td>\n",
       "      <td>7 months</td>\n",
       "      <td>3</td>\n",
       "      <td>38</td>\n",
       "      <td>5</td>\n",
       "    </tr>\n",
       "    <tr>\n",
       "      <th>11241</th>\n",
       "      <td>0.016254</td>\n",
       "      <td>0.143985</td>\n",
       "      <td>0.638626</td>\n",
       "      <td>-0.129042</td>\n",
       "      <td>0.774282</td>\n",
       "      <td>-0.215909</td>\n",
       "      <td>-1.289301</td>\n",
       "      <td>-0.164863</td>\n",
       "      <td>-0.072091</td>\n",
       "      <td>0.408653</td>\n",
       "      <td>...</td>\n",
       "      <td>0.0</td>\n",
       "      <td>0.00</td>\n",
       "      <td>0.0</td>\n",
       "      <td>3</td>\n",
       "      <td>4</td>\n",
       "      <td>0</td>\n",
       "      <td>1 year</td>\n",
       "      <td>4</td>\n",
       "      <td>7</td>\n",
       "      <td>5</td>\n",
       "    </tr>\n",
       "  </tbody>\n",
       "</table>\n",
       "<p>11242 rows × 1224 columns</p>\n",
       "</div>"
      ],
      "text/plain": [
       "              0         1         2         3         4         5         6  \\\n",
       "0      0.983310  0.661395 -0.005628  0.391475  0.599468  0.247196 -0.222022   \n",
       "1      0.839777  0.546538  0.238667  0.423015  0.588731 -0.199983  0.761129   \n",
       "2      1.205966 -0.820295  0.260041  0.282514  1.324543  1.304266 -0.897646   \n",
       "3      0.149299 -1.045238  0.882931 -0.172439  1.004971  0.572282  0.149080   \n",
       "4      0.838390 -0.624167 -0.001048  0.621148  1.219351  1.190395 -0.657419   \n",
       "...         ...       ...       ...       ...       ...       ...       ...   \n",
       "11237  0.431758  0.887711 -0.322128 -0.372409  1.138864  0.628092  0.167041   \n",
       "11238  0.090965 -0.300278  0.422950 -0.572750  0.049459 -0.537889  0.469333   \n",
       "11239 -0.137958 -0.738065  0.862632 -0.567497  0.655615  0.090100  0.591886   \n",
       "11240  0.375920  0.260230  0.174079  0.486693  0.451693  0.135253 -1.521774   \n",
       "11241  0.016254  0.143985  0.638626 -0.129042  0.774282 -0.215909 -1.289301   \n",
       "\n",
       "              7         8         9  ...  Apostro  Parenth  OtherP  \\\n",
       "0     -0.675306  1.326272  0.905621  ...      0.0     0.00     0.0   \n",
       "1     -0.460239 -0.040675 -0.389172  ...      0.0     0.00     0.0   \n",
       "2      0.671183  1.109110  0.383356  ...      0.0     0.00     0.0   \n",
       "3      0.606893  1.298057 -0.173340  ...      0.0     0.00     0.0   \n",
       "4     -0.120823  1.470320  0.367549  ...      0.0     0.00     0.0   \n",
       "...         ...       ...       ...  ...      ...      ...     ...   \n",
       "11237  0.174815  0.932777  0.277480  ...      0.0     0.00     0.0   \n",
       "11238 -0.961600  0.296112  0.995747  ...      0.0     3.08     0.0   \n",
       "11239  1.233527  1.033565  0.100217  ...      0.0     0.00     0.0   \n",
       "11240  0.598302  0.640672 -0.134451  ...      0.0     0.00     0.0   \n",
       "11241 -0.164863 -0.072091  0.408653  ...      0.0     0.00     0.0   \n",
       "\n",
       "       NOUN_count  VERB_count  ADJ_count           OwnedFor  OwnedCategorized  \\\n",
       "0              19          14          7  more than 2 years                 6   \n",
       "1               1           5          2  more than 2 years                 6   \n",
       "2               4           1          3  more than 2 years                 6   \n",
       "3               1           2          1  more than 2 years                 6   \n",
       "4               2           2          2  more than 2 years                 6   \n",
       "...           ...         ...        ...                ...               ...   \n",
       "11237          25          10         10          10 months                 3   \n",
       "11238           5           2          2            3 weeks                 1   \n",
       "11239           2           2          0             1 year                 4   \n",
       "11240          18          11          6           7 months                 3   \n",
       "11241           3           4          0             1 year                 4   \n",
       "\n",
       "       review_len  Rating  \n",
       "0              43       2  \n",
       "1              10       3  \n",
       "2               8       5  \n",
       "3               5       5  \n",
       "4               5       5  \n",
       "...           ...     ...  \n",
       "11237          42       4  \n",
       "11238          11       5  \n",
       "11239           5       5  \n",
       "11240          38       5  \n",
       "11241           7       5  \n",
       "\n",
       "[11242 rows x 1224 columns]"
      ]
     },
     "execution_count": 66,
     "metadata": {},
     "output_type": "execute_result"
    }
   ],
   "source": [
    "apple_processed_df_bert_large = merging_embeds_ngrams_pos(model1,apple_df,apple_df_liwc, stop_words, 100, (2,2))\n",
    "apple_processed_df_bert_large"
   ]
  },
  {
   "cell_type": "code",
   "execution_count": 67,
   "metadata": {},
   "outputs": [
    {
     "name": "stderr",
     "output_type": "stream",
     "text": [
      "/var/folders/7k/9hch0q794xqdgy99gw9ytbgw0000gn/T/ipykernel_5650/4019386682.py:26: PerformanceWarning: DataFrame is highly fragmented.  This is usually the result of calling `frame.insert` many times, which has poor performance.  Consider joining all columns at once using pd.concat(axis=1) instead. To get a de-fragmented frame, use `newframe = frame.copy()`\n",
      "  combined_df['review_len'] = Llen\n",
      "/var/folders/7k/9hch0q794xqdgy99gw9ytbgw0000gn/T/ipykernel_5650/4019386682.py:27: PerformanceWarning: DataFrame is highly fragmented.  This is usually the result of calling `frame.insert` many times, which has poor performance.  Consider joining all columns at once using pd.concat(axis=1) instead. To get a de-fragmented frame, use `newframe = frame.copy()`\n",
      "  combined_df['Rating'] = df['Rating']\n"
     ]
    },
    {
     "data": {
      "text/html": [
       "<div>\n",
       "<style scoped>\n",
       "    .dataframe tbody tr th:only-of-type {\n",
       "        vertical-align: middle;\n",
       "    }\n",
       "\n",
       "    .dataframe tbody tr th {\n",
       "        vertical-align: top;\n",
       "    }\n",
       "\n",
       "    .dataframe thead th {\n",
       "        text-align: right;\n",
       "    }\n",
       "</style>\n",
       "<table border=\"1\" class=\"dataframe\">\n",
       "  <thead>\n",
       "    <tr style=\"text-align: right;\">\n",
       "      <th></th>\n",
       "      <th>0</th>\n",
       "      <th>1</th>\n",
       "      <th>2</th>\n",
       "      <th>3</th>\n",
       "      <th>4</th>\n",
       "      <th>5</th>\n",
       "      <th>6</th>\n",
       "      <th>7</th>\n",
       "      <th>8</th>\n",
       "      <th>9</th>\n",
       "      <th>...</th>\n",
       "      <th>Apostro</th>\n",
       "      <th>Parenth</th>\n",
       "      <th>OtherP</th>\n",
       "      <th>NOUN_count</th>\n",
       "      <th>VERB_count</th>\n",
       "      <th>ADJ_count</th>\n",
       "      <th>OwnedFor</th>\n",
       "      <th>OwnedCategorized</th>\n",
       "      <th>review_len</th>\n",
       "      <th>Rating</th>\n",
       "    </tr>\n",
       "  </thead>\n",
       "  <tbody>\n",
       "    <tr>\n",
       "      <th>0</th>\n",
       "      <td>-0.523634</td>\n",
       "      <td>-0.575519</td>\n",
       "      <td>0.122008</td>\n",
       "      <td>-0.523230</td>\n",
       "      <td>0.911352</td>\n",
       "      <td>0.407205</td>\n",
       "      <td>0.246260</td>\n",
       "      <td>0.535383</td>\n",
       "      <td>0.472816</td>\n",
       "      <td>0.409182</td>\n",
       "      <td>...</td>\n",
       "      <td>9.09</td>\n",
       "      <td>0.0</td>\n",
       "      <td>0.0</td>\n",
       "      <td>2</td>\n",
       "      <td>2</td>\n",
       "      <td>2</td>\n",
       "      <td>7 months</td>\n",
       "      <td>3</td>\n",
       "      <td>5</td>\n",
       "      <td>5</td>\n",
       "    </tr>\n",
       "    <tr>\n",
       "      <th>1</th>\n",
       "      <td>0.173083</td>\n",
       "      <td>-0.943269</td>\n",
       "      <td>0.281548</td>\n",
       "      <td>-0.276475</td>\n",
       "      <td>0.927217</td>\n",
       "      <td>0.630539</td>\n",
       "      <td>-0.132075</td>\n",
       "      <td>0.274716</td>\n",
       "      <td>0.845284</td>\n",
       "      <td>0.751249</td>\n",
       "      <td>...</td>\n",
       "      <td>0.00</td>\n",
       "      <td>0.0</td>\n",
       "      <td>0.0</td>\n",
       "      <td>0</td>\n",
       "      <td>1</td>\n",
       "      <td>0</td>\n",
       "      <td>1.5 years</td>\n",
       "      <td>5</td>\n",
       "      <td>4</td>\n",
       "      <td>5</td>\n",
       "    </tr>\n",
       "    <tr>\n",
       "      <th>2</th>\n",
       "      <td>-0.144786</td>\n",
       "      <td>0.504305</td>\n",
       "      <td>-0.119536</td>\n",
       "      <td>0.480758</td>\n",
       "      <td>0.653224</td>\n",
       "      <td>0.446673</td>\n",
       "      <td>-0.067394</td>\n",
       "      <td>0.755906</td>\n",
       "      <td>0.615982</td>\n",
       "      <td>-0.311062</td>\n",
       "      <td>...</td>\n",
       "      <td>3.70</td>\n",
       "      <td>0.0</td>\n",
       "      <td>0.0</td>\n",
       "      <td>2</td>\n",
       "      <td>6</td>\n",
       "      <td>2</td>\n",
       "      <td>10 months</td>\n",
       "      <td>3</td>\n",
       "      <td>12</td>\n",
       "      <td>5</td>\n",
       "    </tr>\n",
       "    <tr>\n",
       "      <th>3</th>\n",
       "      <td>0.639106</td>\n",
       "      <td>0.572812</td>\n",
       "      <td>0.213166</td>\n",
       "      <td>-0.350255</td>\n",
       "      <td>0.703247</td>\n",
       "      <td>0.100455</td>\n",
       "      <td>0.682191</td>\n",
       "      <td>0.071930</td>\n",
       "      <td>0.762128</td>\n",
       "      <td>0.076072</td>\n",
       "      <td>...</td>\n",
       "      <td>0.00</td>\n",
       "      <td>0.0</td>\n",
       "      <td>0.0</td>\n",
       "      <td>5</td>\n",
       "      <td>4</td>\n",
       "      <td>0</td>\n",
       "      <td>1 year</td>\n",
       "      <td>4</td>\n",
       "      <td>11</td>\n",
       "      <td>5</td>\n",
       "    </tr>\n",
       "    <tr>\n",
       "      <th>4</th>\n",
       "      <td>0.060956</td>\n",
       "      <td>-0.729287</td>\n",
       "      <td>0.052710</td>\n",
       "      <td>-1.142745</td>\n",
       "      <td>0.680443</td>\n",
       "      <td>0.529802</td>\n",
       "      <td>0.875053</td>\n",
       "      <td>0.395508</td>\n",
       "      <td>1.674072</td>\n",
       "      <td>-0.373728</td>\n",
       "      <td>...</td>\n",
       "      <td>9.09</td>\n",
       "      <td>0.0</td>\n",
       "      <td>0.0</td>\n",
       "      <td>1</td>\n",
       "      <td>1</td>\n",
       "      <td>2</td>\n",
       "      <td>1.5 years</td>\n",
       "      <td>5</td>\n",
       "      <td>5</td>\n",
       "      <td>5</td>\n",
       "    </tr>\n",
       "    <tr>\n",
       "      <th>...</th>\n",
       "      <td>...</td>\n",
       "      <td>...</td>\n",
       "      <td>...</td>\n",
       "      <td>...</td>\n",
       "      <td>...</td>\n",
       "      <td>...</td>\n",
       "      <td>...</td>\n",
       "      <td>...</td>\n",
       "      <td>...</td>\n",
       "      <td>...</td>\n",
       "      <td>...</td>\n",
       "      <td>...</td>\n",
       "      <td>...</td>\n",
       "      <td>...</td>\n",
       "      <td>...</td>\n",
       "      <td>...</td>\n",
       "      <td>...</td>\n",
       "      <td>...</td>\n",
       "      <td>...</td>\n",
       "      <td>...</td>\n",
       "      <td>...</td>\n",
       "    </tr>\n",
       "    <tr>\n",
       "      <th>31641</th>\n",
       "      <td>-0.506462</td>\n",
       "      <td>-0.511425</td>\n",
       "      <td>0.564278</td>\n",
       "      <td>-0.881517</td>\n",
       "      <td>0.134313</td>\n",
       "      <td>0.337366</td>\n",
       "      <td>0.503670</td>\n",
       "      <td>1.434380</td>\n",
       "      <td>1.080589</td>\n",
       "      <td>0.106008</td>\n",
       "      <td>...</td>\n",
       "      <td>8.33</td>\n",
       "      <td>0.0</td>\n",
       "      <td>0.0</td>\n",
       "      <td>2</td>\n",
       "      <td>3</td>\n",
       "      <td>2</td>\n",
       "      <td>3 weeks</td>\n",
       "      <td>1</td>\n",
       "      <td>4</td>\n",
       "      <td>5</td>\n",
       "    </tr>\n",
       "    <tr>\n",
       "      <th>31642</th>\n",
       "      <td>-0.159817</td>\n",
       "      <td>-0.287369</td>\n",
       "      <td>0.307417</td>\n",
       "      <td>-1.021482</td>\n",
       "      <td>0.876355</td>\n",
       "      <td>0.465893</td>\n",
       "      <td>0.334390</td>\n",
       "      <td>0.627001</td>\n",
       "      <td>0.338422</td>\n",
       "      <td>0.639352</td>\n",
       "      <td>...</td>\n",
       "      <td>0.00</td>\n",
       "      <td>0.0</td>\n",
       "      <td>0.0</td>\n",
       "      <td>0</td>\n",
       "      <td>2</td>\n",
       "      <td>2</td>\n",
       "      <td>2 weeks</td>\n",
       "      <td>1</td>\n",
       "      <td>5</td>\n",
       "      <td>5</td>\n",
       "    </tr>\n",
       "    <tr>\n",
       "      <th>31643</th>\n",
       "      <td>0.132346</td>\n",
       "      <td>-0.446611</td>\n",
       "      <td>0.380831</td>\n",
       "      <td>-0.488010</td>\n",
       "      <td>0.874243</td>\n",
       "      <td>0.737227</td>\n",
       "      <td>-0.733379</td>\n",
       "      <td>0.978790</td>\n",
       "      <td>0.651822</td>\n",
       "      <td>0.483251</td>\n",
       "      <td>...</td>\n",
       "      <td>0.00</td>\n",
       "      <td>0.0</td>\n",
       "      <td>0.0</td>\n",
       "      <td>5</td>\n",
       "      <td>2</td>\n",
       "      <td>1</td>\n",
       "      <td>1 month</td>\n",
       "      <td>2</td>\n",
       "      <td>6</td>\n",
       "      <td>5</td>\n",
       "    </tr>\n",
       "    <tr>\n",
       "      <th>31644</th>\n",
       "      <td>-0.322745</td>\n",
       "      <td>0.032657</td>\n",
       "      <td>-0.112538</td>\n",
       "      <td>-0.721012</td>\n",
       "      <td>0.494801</td>\n",
       "      <td>0.550869</td>\n",
       "      <td>-0.054576</td>\n",
       "      <td>0.846498</td>\n",
       "      <td>1.121733</td>\n",
       "      <td>0.464933</td>\n",
       "      <td>...</td>\n",
       "      <td>0.00</td>\n",
       "      <td>0.0</td>\n",
       "      <td>0.0</td>\n",
       "      <td>2</td>\n",
       "      <td>4</td>\n",
       "      <td>1</td>\n",
       "      <td>7 months</td>\n",
       "      <td>3</td>\n",
       "      <td>7</td>\n",
       "      <td>5</td>\n",
       "    </tr>\n",
       "    <tr>\n",
       "      <th>31645</th>\n",
       "      <td>-0.246476</td>\n",
       "      <td>0.076938</td>\n",
       "      <td>0.030439</td>\n",
       "      <td>-0.404167</td>\n",
       "      <td>0.256635</td>\n",
       "      <td>-0.087374</td>\n",
       "      <td>0.348244</td>\n",
       "      <td>0.743378</td>\n",
       "      <td>0.678306</td>\n",
       "      <td>-0.111047</td>\n",
       "      <td>...</td>\n",
       "      <td>5.56</td>\n",
       "      <td>0.0</td>\n",
       "      <td>0.0</td>\n",
       "      <td>3</td>\n",
       "      <td>4</td>\n",
       "      <td>1</td>\n",
       "      <td>1 month</td>\n",
       "      <td>2</td>\n",
       "      <td>11</td>\n",
       "      <td>5</td>\n",
       "    </tr>\n",
       "  </tbody>\n",
       "</table>\n",
       "<p>31646 rows × 1224 columns</p>\n",
       "</div>"
      ],
      "text/plain": [
       "              0         1         2         3         4         5         6  \\\n",
       "0     -0.523634 -0.575519  0.122008 -0.523230  0.911352  0.407205  0.246260   \n",
       "1      0.173083 -0.943269  0.281548 -0.276475  0.927217  0.630539 -0.132075   \n",
       "2     -0.144786  0.504305 -0.119536  0.480758  0.653224  0.446673 -0.067394   \n",
       "3      0.639106  0.572812  0.213166 -0.350255  0.703247  0.100455  0.682191   \n",
       "4      0.060956 -0.729287  0.052710 -1.142745  0.680443  0.529802  0.875053   \n",
       "...         ...       ...       ...       ...       ...       ...       ...   \n",
       "31641 -0.506462 -0.511425  0.564278 -0.881517  0.134313  0.337366  0.503670   \n",
       "31642 -0.159817 -0.287369  0.307417 -1.021482  0.876355  0.465893  0.334390   \n",
       "31643  0.132346 -0.446611  0.380831 -0.488010  0.874243  0.737227 -0.733379   \n",
       "31644 -0.322745  0.032657 -0.112538 -0.721012  0.494801  0.550869 -0.054576   \n",
       "31645 -0.246476  0.076938  0.030439 -0.404167  0.256635 -0.087374  0.348244   \n",
       "\n",
       "              7         8         9  ...  Apostro  Parenth  OtherP  \\\n",
       "0      0.535383  0.472816  0.409182  ...     9.09      0.0     0.0   \n",
       "1      0.274716  0.845284  0.751249  ...     0.00      0.0     0.0   \n",
       "2      0.755906  0.615982 -0.311062  ...     3.70      0.0     0.0   \n",
       "3      0.071930  0.762128  0.076072  ...     0.00      0.0     0.0   \n",
       "4      0.395508  1.674072 -0.373728  ...     9.09      0.0     0.0   \n",
       "...         ...       ...       ...  ...      ...      ...     ...   \n",
       "31641  1.434380  1.080589  0.106008  ...     8.33      0.0     0.0   \n",
       "31642  0.627001  0.338422  0.639352  ...     0.00      0.0     0.0   \n",
       "31643  0.978790  0.651822  0.483251  ...     0.00      0.0     0.0   \n",
       "31644  0.846498  1.121733  0.464933  ...     0.00      0.0     0.0   \n",
       "31645  0.743378  0.678306 -0.111047  ...     5.56      0.0     0.0   \n",
       "\n",
       "       NOUN_count  VERB_count  ADJ_count   OwnedFor  OwnedCategorized  \\\n",
       "0               2           2          2   7 months                 3   \n",
       "1               0           1          0  1.5 years                 5   \n",
       "2               2           6          2  10 months                 3   \n",
       "3               5           4          0     1 year                 4   \n",
       "4               1           1          2  1.5 years                 5   \n",
       "...           ...         ...        ...        ...               ...   \n",
       "31641           2           3          2    3 weeks                 1   \n",
       "31642           0           2          2    2 weeks                 1   \n",
       "31643           5           2          1    1 month                 2   \n",
       "31644           2           4          1   7 months                 3   \n",
       "31645           3           4          1    1 month                 2   \n",
       "\n",
       "       review_len  Rating  \n",
       "0               5       5  \n",
       "1               4       5  \n",
       "2              12       5  \n",
       "3              11       5  \n",
       "4               5       5  \n",
       "...           ...     ...  \n",
       "31641           4       5  \n",
       "31642           5       5  \n",
       "31643           6       5  \n",
       "31644           7       5  \n",
       "31645          11       5  \n",
       "\n",
       "[31646 rows x 1224 columns]"
      ]
     },
     "execution_count": 67,
     "metadata": {},
     "output_type": "execute_result"
    }
   ],
   "source": [
    "amazon_processed_df_bert_large = merging_embeds_ngrams_pos(model1,amazon_df,amazon_df_liwc, stop_words, 100, (2,2))\n",
    "amazon_processed_df_bert_large"
   ]
  },
  {
   "cell_type": "code",
   "execution_count": 68,
   "metadata": {},
   "outputs": [
    {
     "name": "stderr",
     "output_type": "stream",
     "text": [
      "/var/folders/7k/9hch0q794xqdgy99gw9ytbgw0000gn/T/ipykernel_5650/4019386682.py:26: PerformanceWarning: DataFrame is highly fragmented.  This is usually the result of calling `frame.insert` many times, which has poor performance.  Consider joining all columns at once using pd.concat(axis=1) instead. To get a de-fragmented frame, use `newframe = frame.copy()`\n",
      "  combined_df['review_len'] = Llen\n",
      "/var/folders/7k/9hch0q794xqdgy99gw9ytbgw0000gn/T/ipykernel_5650/4019386682.py:27: PerformanceWarning: DataFrame is highly fragmented.  This is usually the result of calling `frame.insert` many times, which has poor performance.  Consider joining all columns at once using pd.concat(axis=1) instead. To get a de-fragmented frame, use `newframe = frame.copy()`\n",
      "  combined_df['Rating'] = df['Rating']\n"
     ]
    },
    {
     "data": {
      "text/html": [
       "<div>\n",
       "<style scoped>\n",
       "    .dataframe tbody tr th:only-of-type {\n",
       "        vertical-align: middle;\n",
       "    }\n",
       "\n",
       "    .dataframe tbody tr th {\n",
       "        vertical-align: top;\n",
       "    }\n",
       "\n",
       "    .dataframe thead th {\n",
       "        text-align: right;\n",
       "    }\n",
       "</style>\n",
       "<table border=\"1\" class=\"dataframe\">\n",
       "  <thead>\n",
       "    <tr style=\"text-align: right;\">\n",
       "      <th></th>\n",
       "      <th>0</th>\n",
       "      <th>1</th>\n",
       "      <th>2</th>\n",
       "      <th>3</th>\n",
       "      <th>4</th>\n",
       "      <th>5</th>\n",
       "      <th>6</th>\n",
       "      <th>7</th>\n",
       "      <th>8</th>\n",
       "      <th>9</th>\n",
       "      <th>...</th>\n",
       "      <th>Apostro</th>\n",
       "      <th>Parenth</th>\n",
       "      <th>OtherP</th>\n",
       "      <th>NOUN_count</th>\n",
       "      <th>VERB_count</th>\n",
       "      <th>ADJ_count</th>\n",
       "      <th>OwnedFor</th>\n",
       "      <th>OwnedCategorized</th>\n",
       "      <th>review_len</th>\n",
       "      <th>Rating</th>\n",
       "    </tr>\n",
       "  </thead>\n",
       "  <tbody>\n",
       "    <tr>\n",
       "      <th>0</th>\n",
       "      <td>0.920656</td>\n",
       "      <td>0.581586</td>\n",
       "      <td>0.235490</td>\n",
       "      <td>-0.168961</td>\n",
       "      <td>0.033644</td>\n",
       "      <td>-0.300076</td>\n",
       "      <td>0.621931</td>\n",
       "      <td>0.155857</td>\n",
       "      <td>0.839638</td>\n",
       "      <td>0.850075</td>\n",
       "      <td>...</td>\n",
       "      <td>0.00</td>\n",
       "      <td>0.0</td>\n",
       "      <td>0.0</td>\n",
       "      <td>7</td>\n",
       "      <td>6</td>\n",
       "      <td>1</td>\n",
       "      <td>more than 2 years</td>\n",
       "      <td>6</td>\n",
       "      <td>17</td>\n",
       "      <td>3</td>\n",
       "    </tr>\n",
       "    <tr>\n",
       "      <th>1</th>\n",
       "      <td>-0.338820</td>\n",
       "      <td>-0.162759</td>\n",
       "      <td>0.059124</td>\n",
       "      <td>-0.511081</td>\n",
       "      <td>0.361659</td>\n",
       "      <td>0.520024</td>\n",
       "      <td>0.061007</td>\n",
       "      <td>1.101731</td>\n",
       "      <td>1.387585</td>\n",
       "      <td>-0.272852</td>\n",
       "      <td>...</td>\n",
       "      <td>0.00</td>\n",
       "      <td>0.0</td>\n",
       "      <td>0.0</td>\n",
       "      <td>3</td>\n",
       "      <td>6</td>\n",
       "      <td>2</td>\n",
       "      <td>1.5 years</td>\n",
       "      <td>5</td>\n",
       "      <td>13</td>\n",
       "      <td>5</td>\n",
       "    </tr>\n",
       "    <tr>\n",
       "      <th>2</th>\n",
       "      <td>0.743301</td>\n",
       "      <td>0.480786</td>\n",
       "      <td>0.308656</td>\n",
       "      <td>0.640231</td>\n",
       "      <td>0.488483</td>\n",
       "      <td>-0.017956</td>\n",
       "      <td>0.579336</td>\n",
       "      <td>-0.272599</td>\n",
       "      <td>0.836121</td>\n",
       "      <td>0.650090</td>\n",
       "      <td>...</td>\n",
       "      <td>4.00</td>\n",
       "      <td>0.0</td>\n",
       "      <td>0.0</td>\n",
       "      <td>17</td>\n",
       "      <td>6</td>\n",
       "      <td>6</td>\n",
       "      <td>more than 2 years</td>\n",
       "      <td>6</td>\n",
       "      <td>34</td>\n",
       "      <td>4</td>\n",
       "    </tr>\n",
       "    <tr>\n",
       "      <th>3</th>\n",
       "      <td>-0.061119</td>\n",
       "      <td>-0.347670</td>\n",
       "      <td>-0.025990</td>\n",
       "      <td>-0.494387</td>\n",
       "      <td>1.346362</td>\n",
       "      <td>-0.148762</td>\n",
       "      <td>-0.354992</td>\n",
       "      <td>0.828807</td>\n",
       "      <td>-0.320098</td>\n",
       "      <td>0.382006</td>\n",
       "      <td>...</td>\n",
       "      <td>0.00</td>\n",
       "      <td>0.0</td>\n",
       "      <td>0.0</td>\n",
       "      <td>4</td>\n",
       "      <td>3</td>\n",
       "      <td>3</td>\n",
       "      <td>1.5 years</td>\n",
       "      <td>5</td>\n",
       "      <td>10</td>\n",
       "      <td>5</td>\n",
       "    </tr>\n",
       "    <tr>\n",
       "      <th>4</th>\n",
       "      <td>0.974787</td>\n",
       "      <td>-0.462810</td>\n",
       "      <td>0.807596</td>\n",
       "      <td>0.445203</td>\n",
       "      <td>1.290976</td>\n",
       "      <td>1.257783</td>\n",
       "      <td>-0.814080</td>\n",
       "      <td>0.247755</td>\n",
       "      <td>0.720234</td>\n",
       "      <td>0.424272</td>\n",
       "      <td>...</td>\n",
       "      <td>0.00</td>\n",
       "      <td>0.0</td>\n",
       "      <td>0.0</td>\n",
       "      <td>2</td>\n",
       "      <td>1</td>\n",
       "      <td>3</td>\n",
       "      <td>1 year</td>\n",
       "      <td>4</td>\n",
       "      <td>8</td>\n",
       "      <td>4</td>\n",
       "    </tr>\n",
       "    <tr>\n",
       "      <th>...</th>\n",
       "      <td>...</td>\n",
       "      <td>...</td>\n",
       "      <td>...</td>\n",
       "      <td>...</td>\n",
       "      <td>...</td>\n",
       "      <td>...</td>\n",
       "      <td>...</td>\n",
       "      <td>...</td>\n",
       "      <td>...</td>\n",
       "      <td>...</td>\n",
       "      <td>...</td>\n",
       "      <td>...</td>\n",
       "      <td>...</td>\n",
       "      <td>...</td>\n",
       "      <td>...</td>\n",
       "      <td>...</td>\n",
       "      <td>...</td>\n",
       "      <td>...</td>\n",
       "      <td>...</td>\n",
       "      <td>...</td>\n",
       "      <td>...</td>\n",
       "    </tr>\n",
       "    <tr>\n",
       "      <th>10371</th>\n",
       "      <td>0.760643</td>\n",
       "      <td>-0.250060</td>\n",
       "      <td>-0.055046</td>\n",
       "      <td>-0.240622</td>\n",
       "      <td>0.498675</td>\n",
       "      <td>0.414672</td>\n",
       "      <td>-0.592885</td>\n",
       "      <td>0.317373</td>\n",
       "      <td>1.156722</td>\n",
       "      <td>0.993426</td>\n",
       "      <td>...</td>\n",
       "      <td>7.69</td>\n",
       "      <td>0.0</td>\n",
       "      <td>0.0</td>\n",
       "      <td>4</td>\n",
       "      <td>6</td>\n",
       "      <td>1</td>\n",
       "      <td>1 month</td>\n",
       "      <td>2</td>\n",
       "      <td>13</td>\n",
       "      <td>4</td>\n",
       "    </tr>\n",
       "    <tr>\n",
       "      <th>10372</th>\n",
       "      <td>0.506623</td>\n",
       "      <td>0.706060</td>\n",
       "      <td>0.596782</td>\n",
       "      <td>-0.974560</td>\n",
       "      <td>0.649936</td>\n",
       "      <td>0.146383</td>\n",
       "      <td>0.303182</td>\n",
       "      <td>1.306885</td>\n",
       "      <td>1.122338</td>\n",
       "      <td>0.376689</td>\n",
       "      <td>...</td>\n",
       "      <td>0.00</td>\n",
       "      <td>0.0</td>\n",
       "      <td>0.0</td>\n",
       "      <td>1</td>\n",
       "      <td>1</td>\n",
       "      <td>4</td>\n",
       "      <td>2 months</td>\n",
       "      <td>2</td>\n",
       "      <td>9</td>\n",
       "      <td>4</td>\n",
       "    </tr>\n",
       "    <tr>\n",
       "      <th>10373</th>\n",
       "      <td>0.224554</td>\n",
       "      <td>0.602828</td>\n",
       "      <td>0.193068</td>\n",
       "      <td>0.184279</td>\n",
       "      <td>1.550300</td>\n",
       "      <td>0.560154</td>\n",
       "      <td>0.028331</td>\n",
       "      <td>0.524627</td>\n",
       "      <td>1.647898</td>\n",
       "      <td>-0.121280</td>\n",
       "      <td>...</td>\n",
       "      <td>7.14</td>\n",
       "      <td>0.0</td>\n",
       "      <td>0.0</td>\n",
       "      <td>5</td>\n",
       "      <td>4</td>\n",
       "      <td>2</td>\n",
       "      <td>1 month</td>\n",
       "      <td>2</td>\n",
       "      <td>12</td>\n",
       "      <td>5</td>\n",
       "    </tr>\n",
       "    <tr>\n",
       "      <th>10374</th>\n",
       "      <td>0.114070</td>\n",
       "      <td>-0.119665</td>\n",
       "      <td>0.033353</td>\n",
       "      <td>-0.588963</td>\n",
       "      <td>0.988351</td>\n",
       "      <td>0.523315</td>\n",
       "      <td>0.526069</td>\n",
       "      <td>0.257438</td>\n",
       "      <td>1.291420</td>\n",
       "      <td>-0.633817</td>\n",
       "      <td>...</td>\n",
       "      <td>2.00</td>\n",
       "      <td>0.0</td>\n",
       "      <td>0.0</td>\n",
       "      <td>2</td>\n",
       "      <td>2</td>\n",
       "      <td>1</td>\n",
       "      <td>3 weeks</td>\n",
       "      <td>1</td>\n",
       "      <td>7</td>\n",
       "      <td>5</td>\n",
       "    </tr>\n",
       "    <tr>\n",
       "      <th>10375</th>\n",
       "      <td>-0.025734</td>\n",
       "      <td>-0.185898</td>\n",
       "      <td>0.482163</td>\n",
       "      <td>-0.402818</td>\n",
       "      <td>0.939264</td>\n",
       "      <td>0.014769</td>\n",
       "      <td>-0.327231</td>\n",
       "      <td>-0.165882</td>\n",
       "      <td>0.193480</td>\n",
       "      <td>1.205762</td>\n",
       "      <td>...</td>\n",
       "      <td>0.00</td>\n",
       "      <td>0.0</td>\n",
       "      <td>0.0</td>\n",
       "      <td>1</td>\n",
       "      <td>6</td>\n",
       "      <td>1</td>\n",
       "      <td>1 month</td>\n",
       "      <td>2</td>\n",
       "      <td>8</td>\n",
       "      <td>5</td>\n",
       "    </tr>\n",
       "  </tbody>\n",
       "</table>\n",
       "<p>10376 rows × 1224 columns</p>\n",
       "</div>"
      ],
      "text/plain": [
       "              0         1         2         3         4         5         6  \\\n",
       "0      0.920656  0.581586  0.235490 -0.168961  0.033644 -0.300076  0.621931   \n",
       "1     -0.338820 -0.162759  0.059124 -0.511081  0.361659  0.520024  0.061007   \n",
       "2      0.743301  0.480786  0.308656  0.640231  0.488483 -0.017956  0.579336   \n",
       "3     -0.061119 -0.347670 -0.025990 -0.494387  1.346362 -0.148762 -0.354992   \n",
       "4      0.974787 -0.462810  0.807596  0.445203  1.290976  1.257783 -0.814080   \n",
       "...         ...       ...       ...       ...       ...       ...       ...   \n",
       "10371  0.760643 -0.250060 -0.055046 -0.240622  0.498675  0.414672 -0.592885   \n",
       "10372  0.506623  0.706060  0.596782 -0.974560  0.649936  0.146383  0.303182   \n",
       "10373  0.224554  0.602828  0.193068  0.184279  1.550300  0.560154  0.028331   \n",
       "10374  0.114070 -0.119665  0.033353 -0.588963  0.988351  0.523315  0.526069   \n",
       "10375 -0.025734 -0.185898  0.482163 -0.402818  0.939264  0.014769 -0.327231   \n",
       "\n",
       "              7         8         9  ...  Apostro  Parenth  OtherP  \\\n",
       "0      0.155857  0.839638  0.850075  ...     0.00      0.0     0.0   \n",
       "1      1.101731  1.387585 -0.272852  ...     0.00      0.0     0.0   \n",
       "2     -0.272599  0.836121  0.650090  ...     4.00      0.0     0.0   \n",
       "3      0.828807 -0.320098  0.382006  ...     0.00      0.0     0.0   \n",
       "4      0.247755  0.720234  0.424272  ...     0.00      0.0     0.0   \n",
       "...         ...       ...       ...  ...      ...      ...     ...   \n",
       "10371  0.317373  1.156722  0.993426  ...     7.69      0.0     0.0   \n",
       "10372  1.306885  1.122338  0.376689  ...     0.00      0.0     0.0   \n",
       "10373  0.524627  1.647898 -0.121280  ...     7.14      0.0     0.0   \n",
       "10374  0.257438  1.291420 -0.633817  ...     2.00      0.0     0.0   \n",
       "10375 -0.165882  0.193480  1.205762  ...     0.00      0.0     0.0   \n",
       "\n",
       "       NOUN_count  VERB_count  ADJ_count           OwnedFor  OwnedCategorized  \\\n",
       "0               7           6          1  more than 2 years                 6   \n",
       "1               3           6          2          1.5 years                 5   \n",
       "2              17           6          6  more than 2 years                 6   \n",
       "3               4           3          3          1.5 years                 5   \n",
       "4               2           1          3             1 year                 4   \n",
       "...           ...         ...        ...                ...               ...   \n",
       "10371           4           6          1            1 month                 2   \n",
       "10372           1           1          4           2 months                 2   \n",
       "10373           5           4          2            1 month                 2   \n",
       "10374           2           2          1            3 weeks                 1   \n",
       "10375           1           6          1            1 month                 2   \n",
       "\n",
       "       review_len  Rating  \n",
       "0              17       3  \n",
       "1              13       5  \n",
       "2              34       4  \n",
       "3              10       5  \n",
       "4               8       4  \n",
       "...           ...     ...  \n",
       "10371          13       4  \n",
       "10372           9       4  \n",
       "10373          12       5  \n",
       "10374           7       5  \n",
       "10375           8       5  \n",
       "\n",
       "[10376 rows x 1224 columns]"
      ]
     },
     "execution_count": 68,
     "metadata": {},
     "output_type": "execute_result"
    }
   ],
   "source": [
    "google_processed_df_bert_large = merging_embeds_ngrams_pos(model1,google_df,google_df_liwc, stop_words, 100, (2,2))\n",
    "google_processed_df_bert_large"
   ]
  },
  {
   "cell_type": "markdown",
   "metadata": {},
   "source": [
    "### BERT Large Mean"
   ]
  },
  {
   "cell_type": "code",
   "execution_count": 69,
   "metadata": {},
   "outputs": [
    {
     "name": "stderr",
     "output_type": "stream",
     "text": [
      "/var/folders/7k/9hch0q794xqdgy99gw9ytbgw0000gn/T/ipykernel_5650/4019386682.py:26: PerformanceWarning: DataFrame is highly fragmented.  This is usually the result of calling `frame.insert` many times, which has poor performance.  Consider joining all columns at once using pd.concat(axis=1) instead. To get a de-fragmented frame, use `newframe = frame.copy()`\n",
      "  combined_df['review_len'] = Llen\n",
      "/var/folders/7k/9hch0q794xqdgy99gw9ytbgw0000gn/T/ipykernel_5650/4019386682.py:27: PerformanceWarning: DataFrame is highly fragmented.  This is usually the result of calling `frame.insert` many times, which has poor performance.  Consider joining all columns at once using pd.concat(axis=1) instead. To get a de-fragmented frame, use `newframe = frame.copy()`\n",
      "  combined_df['Rating'] = df['Rating']\n"
     ]
    },
    {
     "data": {
      "text/html": [
       "<div>\n",
       "<style scoped>\n",
       "    .dataframe tbody tr th:only-of-type {\n",
       "        vertical-align: middle;\n",
       "    }\n",
       "\n",
       "    .dataframe tbody tr th {\n",
       "        vertical-align: top;\n",
       "    }\n",
       "\n",
       "    .dataframe thead th {\n",
       "        text-align: right;\n",
       "    }\n",
       "</style>\n",
       "<table border=\"1\" class=\"dataframe\">\n",
       "  <thead>\n",
       "    <tr style=\"text-align: right;\">\n",
       "      <th></th>\n",
       "      <th>0</th>\n",
       "      <th>1</th>\n",
       "      <th>2</th>\n",
       "      <th>3</th>\n",
       "      <th>4</th>\n",
       "      <th>5</th>\n",
       "      <th>6</th>\n",
       "      <th>7</th>\n",
       "      <th>8</th>\n",
       "      <th>9</th>\n",
       "      <th>...</th>\n",
       "      <th>Apostro</th>\n",
       "      <th>Parenth</th>\n",
       "      <th>OtherP</th>\n",
       "      <th>NOUN_count</th>\n",
       "      <th>VERB_count</th>\n",
       "      <th>ADJ_count</th>\n",
       "      <th>OwnedFor</th>\n",
       "      <th>OwnedCategorized</th>\n",
       "      <th>review_len</th>\n",
       "      <th>Rating</th>\n",
       "    </tr>\n",
       "  </thead>\n",
       "  <tbody>\n",
       "    <tr>\n",
       "      <th>0</th>\n",
       "      <td>0.543742</td>\n",
       "      <td>0.495437</td>\n",
       "      <td>0.472420</td>\n",
       "      <td>0.547962</td>\n",
       "      <td>0.214573</td>\n",
       "      <td>0.064335</td>\n",
       "      <td>0.336535</td>\n",
       "      <td>-1.102422</td>\n",
       "      <td>1.119357</td>\n",
       "      <td>1.134630</td>\n",
       "      <td>...</td>\n",
       "      <td>0.0</td>\n",
       "      <td>0.00</td>\n",
       "      <td>0.0</td>\n",
       "      <td>19</td>\n",
       "      <td>14</td>\n",
       "      <td>7</td>\n",
       "      <td>more than 2 years</td>\n",
       "      <td>6</td>\n",
       "      <td>43</td>\n",
       "      <td>2</td>\n",
       "    </tr>\n",
       "    <tr>\n",
       "      <th>1</th>\n",
       "      <td>0.484995</td>\n",
       "      <td>0.738702</td>\n",
       "      <td>1.067772</td>\n",
       "      <td>0.409680</td>\n",
       "      <td>0.526732</td>\n",
       "      <td>-0.152106</td>\n",
       "      <td>0.902397</td>\n",
       "      <td>-0.645426</td>\n",
       "      <td>-0.266552</td>\n",
       "      <td>0.200861</td>\n",
       "      <td>...</td>\n",
       "      <td>0.0</td>\n",
       "      <td>0.00</td>\n",
       "      <td>0.0</td>\n",
       "      <td>1</td>\n",
       "      <td>5</td>\n",
       "      <td>2</td>\n",
       "      <td>more than 2 years</td>\n",
       "      <td>6</td>\n",
       "      <td>10</td>\n",
       "      <td>3</td>\n",
       "    </tr>\n",
       "    <tr>\n",
       "      <th>2</th>\n",
       "      <td>0.798869</td>\n",
       "      <td>-0.738452</td>\n",
       "      <td>0.850227</td>\n",
       "      <td>0.035102</td>\n",
       "      <td>0.057909</td>\n",
       "      <td>1.133019</td>\n",
       "      <td>-0.613953</td>\n",
       "      <td>0.335822</td>\n",
       "      <td>1.166332</td>\n",
       "      <td>0.609124</td>\n",
       "      <td>...</td>\n",
       "      <td>0.0</td>\n",
       "      <td>0.00</td>\n",
       "      <td>0.0</td>\n",
       "      <td>4</td>\n",
       "      <td>1</td>\n",
       "      <td>3</td>\n",
       "      <td>more than 2 years</td>\n",
       "      <td>6</td>\n",
       "      <td>8</td>\n",
       "      <td>5</td>\n",
       "    </tr>\n",
       "    <tr>\n",
       "      <th>3</th>\n",
       "      <td>0.255021</td>\n",
       "      <td>-1.014077</td>\n",
       "      <td>0.872595</td>\n",
       "      <td>-0.211067</td>\n",
       "      <td>-0.525143</td>\n",
       "      <td>0.693060</td>\n",
       "      <td>-0.142708</td>\n",
       "      <td>-0.302166</td>\n",
       "      <td>1.062633</td>\n",
       "      <td>-0.470972</td>\n",
       "      <td>...</td>\n",
       "      <td>0.0</td>\n",
       "      <td>0.00</td>\n",
       "      <td>0.0</td>\n",
       "      <td>1</td>\n",
       "      <td>2</td>\n",
       "      <td>1</td>\n",
       "      <td>more than 2 years</td>\n",
       "      <td>6</td>\n",
       "      <td>5</td>\n",
       "      <td>5</td>\n",
       "    </tr>\n",
       "    <tr>\n",
       "      <th>4</th>\n",
       "      <td>0.583098</td>\n",
       "      <td>-0.210019</td>\n",
       "      <td>0.654762</td>\n",
       "      <td>0.709561</td>\n",
       "      <td>-0.009000</td>\n",
       "      <td>0.769282</td>\n",
       "      <td>-0.674490</td>\n",
       "      <td>-0.609358</td>\n",
       "      <td>0.829383</td>\n",
       "      <td>0.646651</td>\n",
       "      <td>...</td>\n",
       "      <td>0.0</td>\n",
       "      <td>0.00</td>\n",
       "      <td>0.0</td>\n",
       "      <td>2</td>\n",
       "      <td>2</td>\n",
       "      <td>2</td>\n",
       "      <td>more than 2 years</td>\n",
       "      <td>6</td>\n",
       "      <td>5</td>\n",
       "      <td>5</td>\n",
       "    </tr>\n",
       "    <tr>\n",
       "      <th>...</th>\n",
       "      <td>...</td>\n",
       "      <td>...</td>\n",
       "      <td>...</td>\n",
       "      <td>...</td>\n",
       "      <td>...</td>\n",
       "      <td>...</td>\n",
       "      <td>...</td>\n",
       "      <td>...</td>\n",
       "      <td>...</td>\n",
       "      <td>...</td>\n",
       "      <td>...</td>\n",
       "      <td>...</td>\n",
       "      <td>...</td>\n",
       "      <td>...</td>\n",
       "      <td>...</td>\n",
       "      <td>...</td>\n",
       "      <td>...</td>\n",
       "      <td>...</td>\n",
       "      <td>...</td>\n",
       "      <td>...</td>\n",
       "      <td>...</td>\n",
       "    </tr>\n",
       "    <tr>\n",
       "      <th>11237</th>\n",
       "      <td>0.031482</td>\n",
       "      <td>0.384180</td>\n",
       "      <td>0.332649</td>\n",
       "      <td>-0.360375</td>\n",
       "      <td>0.058106</td>\n",
       "      <td>0.407465</td>\n",
       "      <td>0.391639</td>\n",
       "      <td>0.126641</td>\n",
       "      <td>0.558432</td>\n",
       "      <td>0.782480</td>\n",
       "      <td>...</td>\n",
       "      <td>0.0</td>\n",
       "      <td>0.00</td>\n",
       "      <td>0.0</td>\n",
       "      <td>25</td>\n",
       "      <td>10</td>\n",
       "      <td>10</td>\n",
       "      <td>10 months</td>\n",
       "      <td>3</td>\n",
       "      <td>42</td>\n",
       "      <td>4</td>\n",
       "    </tr>\n",
       "    <tr>\n",
       "      <th>11238</th>\n",
       "      <td>-0.509443</td>\n",
       "      <td>-0.444991</td>\n",
       "      <td>0.271826</td>\n",
       "      <td>-0.536648</td>\n",
       "      <td>-0.014803</td>\n",
       "      <td>-0.309213</td>\n",
       "      <td>0.198848</td>\n",
       "      <td>-1.303937</td>\n",
       "      <td>0.570770</td>\n",
       "      <td>1.296766</td>\n",
       "      <td>...</td>\n",
       "      <td>0.0</td>\n",
       "      <td>3.08</td>\n",
       "      <td>0.0</td>\n",
       "      <td>5</td>\n",
       "      <td>2</td>\n",
       "      <td>2</td>\n",
       "      <td>3 weeks</td>\n",
       "      <td>1</td>\n",
       "      <td>11</td>\n",
       "      <td>5</td>\n",
       "    </tr>\n",
       "    <tr>\n",
       "      <th>11239</th>\n",
       "      <td>-0.262478</td>\n",
       "      <td>-0.443471</td>\n",
       "      <td>0.764215</td>\n",
       "      <td>-0.064093</td>\n",
       "      <td>-0.751062</td>\n",
       "      <td>-0.376116</td>\n",
       "      <td>-0.129093</td>\n",
       "      <td>0.355424</td>\n",
       "      <td>0.484182</td>\n",
       "      <td>0.160346</td>\n",
       "      <td>...</td>\n",
       "      <td>0.0</td>\n",
       "      <td>0.00</td>\n",
       "      <td>0.0</td>\n",
       "      <td>2</td>\n",
       "      <td>2</td>\n",
       "      <td>0</td>\n",
       "      <td>1 year</td>\n",
       "      <td>4</td>\n",
       "      <td>5</td>\n",
       "      <td>5</td>\n",
       "    </tr>\n",
       "    <tr>\n",
       "      <th>11240</th>\n",
       "      <td>-0.250179</td>\n",
       "      <td>-0.130496</td>\n",
       "      <td>0.163798</td>\n",
       "      <td>0.728203</td>\n",
       "      <td>0.371455</td>\n",
       "      <td>0.130736</td>\n",
       "      <td>-0.920657</td>\n",
       "      <td>0.536769</td>\n",
       "      <td>0.465548</td>\n",
       "      <td>0.282484</td>\n",
       "      <td>...</td>\n",
       "      <td>0.0</td>\n",
       "      <td>0.00</td>\n",
       "      <td>0.0</td>\n",
       "      <td>18</td>\n",
       "      <td>11</td>\n",
       "      <td>6</td>\n",
       "      <td>7 months</td>\n",
       "      <td>3</td>\n",
       "      <td>38</td>\n",
       "      <td>5</td>\n",
       "    </tr>\n",
       "    <tr>\n",
       "      <th>11241</th>\n",
       "      <td>-0.309416</td>\n",
       "      <td>-0.106483</td>\n",
       "      <td>0.343041</td>\n",
       "      <td>0.024163</td>\n",
       "      <td>0.134175</td>\n",
       "      <td>0.138772</td>\n",
       "      <td>-0.878282</td>\n",
       "      <td>-0.318485</td>\n",
       "      <td>-0.063570</td>\n",
       "      <td>0.587312</td>\n",
       "      <td>...</td>\n",
       "      <td>0.0</td>\n",
       "      <td>0.00</td>\n",
       "      <td>0.0</td>\n",
       "      <td>3</td>\n",
       "      <td>4</td>\n",
       "      <td>0</td>\n",
       "      <td>1 year</td>\n",
       "      <td>4</td>\n",
       "      <td>7</td>\n",
       "      <td>5</td>\n",
       "    </tr>\n",
       "  </tbody>\n",
       "</table>\n",
       "<p>11242 rows × 1224 columns</p>\n",
       "</div>"
      ],
      "text/plain": [
       "              0         1         2         3         4         5         6  \\\n",
       "0      0.543742  0.495437  0.472420  0.547962  0.214573  0.064335  0.336535   \n",
       "1      0.484995  0.738702  1.067772  0.409680  0.526732 -0.152106  0.902397   \n",
       "2      0.798869 -0.738452  0.850227  0.035102  0.057909  1.133019 -0.613953   \n",
       "3      0.255021 -1.014077  0.872595 -0.211067 -0.525143  0.693060 -0.142708   \n",
       "4      0.583098 -0.210019  0.654762  0.709561 -0.009000  0.769282 -0.674490   \n",
       "...         ...       ...       ...       ...       ...       ...       ...   \n",
       "11237  0.031482  0.384180  0.332649 -0.360375  0.058106  0.407465  0.391639   \n",
       "11238 -0.509443 -0.444991  0.271826 -0.536648 -0.014803 -0.309213  0.198848   \n",
       "11239 -0.262478 -0.443471  0.764215 -0.064093 -0.751062 -0.376116 -0.129093   \n",
       "11240 -0.250179 -0.130496  0.163798  0.728203  0.371455  0.130736 -0.920657   \n",
       "11241 -0.309416 -0.106483  0.343041  0.024163  0.134175  0.138772 -0.878282   \n",
       "\n",
       "              7         8         9  ...  Apostro  Parenth  OtherP  \\\n",
       "0     -1.102422  1.119357  1.134630  ...      0.0     0.00     0.0   \n",
       "1     -0.645426 -0.266552  0.200861  ...      0.0     0.00     0.0   \n",
       "2      0.335822  1.166332  0.609124  ...      0.0     0.00     0.0   \n",
       "3     -0.302166  1.062633 -0.470972  ...      0.0     0.00     0.0   \n",
       "4     -0.609358  0.829383  0.646651  ...      0.0     0.00     0.0   \n",
       "...         ...       ...       ...  ...      ...      ...     ...   \n",
       "11237  0.126641  0.558432  0.782480  ...      0.0     0.00     0.0   \n",
       "11238 -1.303937  0.570770  1.296766  ...      0.0     3.08     0.0   \n",
       "11239  0.355424  0.484182  0.160346  ...      0.0     0.00     0.0   \n",
       "11240  0.536769  0.465548  0.282484  ...      0.0     0.00     0.0   \n",
       "11241 -0.318485 -0.063570  0.587312  ...      0.0     0.00     0.0   \n",
       "\n",
       "       NOUN_count  VERB_count  ADJ_count           OwnedFor  OwnedCategorized  \\\n",
       "0              19          14          7  more than 2 years                 6   \n",
       "1               1           5          2  more than 2 years                 6   \n",
       "2               4           1          3  more than 2 years                 6   \n",
       "3               1           2          1  more than 2 years                 6   \n",
       "4               2           2          2  more than 2 years                 6   \n",
       "...           ...         ...        ...                ...               ...   \n",
       "11237          25          10         10          10 months                 3   \n",
       "11238           5           2          2            3 weeks                 1   \n",
       "11239           2           2          0             1 year                 4   \n",
       "11240          18          11          6           7 months                 3   \n",
       "11241           3           4          0             1 year                 4   \n",
       "\n",
       "       review_len  Rating  \n",
       "0              43       2  \n",
       "1              10       3  \n",
       "2               8       5  \n",
       "3               5       5  \n",
       "4               5       5  \n",
       "...           ...     ...  \n",
       "11237          42       4  \n",
       "11238          11       5  \n",
       "11239           5       5  \n",
       "11240          38       5  \n",
       "11241           7       5  \n",
       "\n",
       "[11242 rows x 1224 columns]"
      ]
     },
     "execution_count": 69,
     "metadata": {},
     "output_type": "execute_result"
    }
   ],
   "source": [
    "apple_processed_df_bert_large_mean = merging_embeds_ngrams_pos(model2,apple_df,apple_df_liwc, stop_words, 100, (2,2))\n",
    "apple_processed_df_bert_large_mean"
   ]
  },
  {
   "cell_type": "code",
   "execution_count": 70,
   "metadata": {},
   "outputs": [
    {
     "name": "stderr",
     "output_type": "stream",
     "text": [
      "/var/folders/7k/9hch0q794xqdgy99gw9ytbgw0000gn/T/ipykernel_5650/4019386682.py:26: PerformanceWarning: DataFrame is highly fragmented.  This is usually the result of calling `frame.insert` many times, which has poor performance.  Consider joining all columns at once using pd.concat(axis=1) instead. To get a de-fragmented frame, use `newframe = frame.copy()`\n",
      "  combined_df['review_len'] = Llen\n",
      "/var/folders/7k/9hch0q794xqdgy99gw9ytbgw0000gn/T/ipykernel_5650/4019386682.py:27: PerformanceWarning: DataFrame is highly fragmented.  This is usually the result of calling `frame.insert` many times, which has poor performance.  Consider joining all columns at once using pd.concat(axis=1) instead. To get a de-fragmented frame, use `newframe = frame.copy()`\n",
      "  combined_df['Rating'] = df['Rating']\n"
     ]
    },
    {
     "data": {
      "text/html": [
       "<div>\n",
       "<style scoped>\n",
       "    .dataframe tbody tr th:only-of-type {\n",
       "        vertical-align: middle;\n",
       "    }\n",
       "\n",
       "    .dataframe tbody tr th {\n",
       "        vertical-align: top;\n",
       "    }\n",
       "\n",
       "    .dataframe thead th {\n",
       "        text-align: right;\n",
       "    }\n",
       "</style>\n",
       "<table border=\"1\" class=\"dataframe\">\n",
       "  <thead>\n",
       "    <tr style=\"text-align: right;\">\n",
       "      <th></th>\n",
       "      <th>0</th>\n",
       "      <th>1</th>\n",
       "      <th>2</th>\n",
       "      <th>3</th>\n",
       "      <th>4</th>\n",
       "      <th>5</th>\n",
       "      <th>6</th>\n",
       "      <th>7</th>\n",
       "      <th>8</th>\n",
       "      <th>9</th>\n",
       "      <th>...</th>\n",
       "      <th>Apostro</th>\n",
       "      <th>Parenth</th>\n",
       "      <th>OtherP</th>\n",
       "      <th>NOUN_count</th>\n",
       "      <th>VERB_count</th>\n",
       "      <th>ADJ_count</th>\n",
       "      <th>OwnedFor</th>\n",
       "      <th>OwnedCategorized</th>\n",
       "      <th>review_len</th>\n",
       "      <th>Rating</th>\n",
       "    </tr>\n",
       "  </thead>\n",
       "  <tbody>\n",
       "    <tr>\n",
       "      <th>0</th>\n",
       "      <td>-0.387530</td>\n",
       "      <td>-0.343766</td>\n",
       "      <td>0.328157</td>\n",
       "      <td>-0.418332</td>\n",
       "      <td>-0.018955</td>\n",
       "      <td>-0.104976</td>\n",
       "      <td>0.370176</td>\n",
       "      <td>0.288072</td>\n",
       "      <td>0.521418</td>\n",
       "      <td>0.134975</td>\n",
       "      <td>...</td>\n",
       "      <td>9.09</td>\n",
       "      <td>0.0</td>\n",
       "      <td>0.0</td>\n",
       "      <td>2</td>\n",
       "      <td>2</td>\n",
       "      <td>2</td>\n",
       "      <td>7 months</td>\n",
       "      <td>3</td>\n",
       "      <td>5</td>\n",
       "      <td>5</td>\n",
       "    </tr>\n",
       "    <tr>\n",
       "      <th>1</th>\n",
       "      <td>-0.233446</td>\n",
       "      <td>0.176839</td>\n",
       "      <td>0.731137</td>\n",
       "      <td>-0.033977</td>\n",
       "      <td>0.359495</td>\n",
       "      <td>-0.209553</td>\n",
       "      <td>-0.359573</td>\n",
       "      <td>-0.352328</td>\n",
       "      <td>0.814820</td>\n",
       "      <td>0.772516</td>\n",
       "      <td>...</td>\n",
       "      <td>0.00</td>\n",
       "      <td>0.0</td>\n",
       "      <td>0.0</td>\n",
       "      <td>0</td>\n",
       "      <td>1</td>\n",
       "      <td>0</td>\n",
       "      <td>1.5 years</td>\n",
       "      <td>5</td>\n",
       "      <td>4</td>\n",
       "      <td>5</td>\n",
       "    </tr>\n",
       "    <tr>\n",
       "      <th>2</th>\n",
       "      <td>-0.590831</td>\n",
       "      <td>0.028837</td>\n",
       "      <td>-0.059291</td>\n",
       "      <td>-0.282376</td>\n",
       "      <td>-0.290941</td>\n",
       "      <td>0.551704</td>\n",
       "      <td>-0.745856</td>\n",
       "      <td>0.672127</td>\n",
       "      <td>-0.119256</td>\n",
       "      <td>-0.271754</td>\n",
       "      <td>...</td>\n",
       "      <td>3.70</td>\n",
       "      <td>0.0</td>\n",
       "      <td>0.0</td>\n",
       "      <td>2</td>\n",
       "      <td>6</td>\n",
       "      <td>2</td>\n",
       "      <td>10 months</td>\n",
       "      <td>3</td>\n",
       "      <td>12</td>\n",
       "      <td>5</td>\n",
       "    </tr>\n",
       "    <tr>\n",
       "      <th>3</th>\n",
       "      <td>0.134091</td>\n",
       "      <td>0.680461</td>\n",
       "      <td>0.506746</td>\n",
       "      <td>-0.026489</td>\n",
       "      <td>-0.209298</td>\n",
       "      <td>-0.155616</td>\n",
       "      <td>0.476643</td>\n",
       "      <td>0.130981</td>\n",
       "      <td>0.830065</td>\n",
       "      <td>-0.182159</td>\n",
       "      <td>...</td>\n",
       "      <td>0.00</td>\n",
       "      <td>0.0</td>\n",
       "      <td>0.0</td>\n",
       "      <td>5</td>\n",
       "      <td>4</td>\n",
       "      <td>0</td>\n",
       "      <td>1 year</td>\n",
       "      <td>4</td>\n",
       "      <td>11</td>\n",
       "      <td>5</td>\n",
       "    </tr>\n",
       "    <tr>\n",
       "      <th>4</th>\n",
       "      <td>0.199409</td>\n",
       "      <td>-0.149464</td>\n",
       "      <td>0.466718</td>\n",
       "      <td>-0.417564</td>\n",
       "      <td>-0.343135</td>\n",
       "      <td>0.189888</td>\n",
       "      <td>0.471262</td>\n",
       "      <td>0.005682</td>\n",
       "      <td>0.985675</td>\n",
       "      <td>-0.147950</td>\n",
       "      <td>...</td>\n",
       "      <td>9.09</td>\n",
       "      <td>0.0</td>\n",
       "      <td>0.0</td>\n",
       "      <td>1</td>\n",
       "      <td>1</td>\n",
       "      <td>2</td>\n",
       "      <td>1.5 years</td>\n",
       "      <td>5</td>\n",
       "      <td>5</td>\n",
       "      <td>5</td>\n",
       "    </tr>\n",
       "    <tr>\n",
       "      <th>...</th>\n",
       "      <td>...</td>\n",
       "      <td>...</td>\n",
       "      <td>...</td>\n",
       "      <td>...</td>\n",
       "      <td>...</td>\n",
       "      <td>...</td>\n",
       "      <td>...</td>\n",
       "      <td>...</td>\n",
       "      <td>...</td>\n",
       "      <td>...</td>\n",
       "      <td>...</td>\n",
       "      <td>...</td>\n",
       "      <td>...</td>\n",
       "      <td>...</td>\n",
       "      <td>...</td>\n",
       "      <td>...</td>\n",
       "      <td>...</td>\n",
       "      <td>...</td>\n",
       "      <td>...</td>\n",
       "      <td>...</td>\n",
       "      <td>...</td>\n",
       "    </tr>\n",
       "    <tr>\n",
       "      <th>31641</th>\n",
       "      <td>-0.549887</td>\n",
       "      <td>-0.480782</td>\n",
       "      <td>0.822559</td>\n",
       "      <td>-0.504220</td>\n",
       "      <td>-0.976744</td>\n",
       "      <td>0.388145</td>\n",
       "      <td>0.398437</td>\n",
       "      <td>0.529197</td>\n",
       "      <td>0.332029</td>\n",
       "      <td>-0.473861</td>\n",
       "      <td>...</td>\n",
       "      <td>8.33</td>\n",
       "      <td>0.0</td>\n",
       "      <td>0.0</td>\n",
       "      <td>2</td>\n",
       "      <td>3</td>\n",
       "      <td>2</td>\n",
       "      <td>3 weeks</td>\n",
       "      <td>1</td>\n",
       "      <td>4</td>\n",
       "      <td>5</td>\n",
       "    </tr>\n",
       "    <tr>\n",
       "      <th>31642</th>\n",
       "      <td>-0.087678</td>\n",
       "      <td>-0.446432</td>\n",
       "      <td>0.533848</td>\n",
       "      <td>-0.723522</td>\n",
       "      <td>-0.287357</td>\n",
       "      <td>0.325775</td>\n",
       "      <td>0.587033</td>\n",
       "      <td>0.100868</td>\n",
       "      <td>0.077650</td>\n",
       "      <td>0.512428</td>\n",
       "      <td>...</td>\n",
       "      <td>0.00</td>\n",
       "      <td>0.0</td>\n",
       "      <td>0.0</td>\n",
       "      <td>0</td>\n",
       "      <td>2</td>\n",
       "      <td>2</td>\n",
       "      <td>2 weeks</td>\n",
       "      <td>1</td>\n",
       "      <td>5</td>\n",
       "      <td>5</td>\n",
       "    </tr>\n",
       "    <tr>\n",
       "      <th>31643</th>\n",
       "      <td>0.211648</td>\n",
       "      <td>-0.191998</td>\n",
       "      <td>0.408904</td>\n",
       "      <td>-0.741727</td>\n",
       "      <td>-0.174053</td>\n",
       "      <td>0.791228</td>\n",
       "      <td>-0.044261</td>\n",
       "      <td>0.730582</td>\n",
       "      <td>0.292432</td>\n",
       "      <td>0.354426</td>\n",
       "      <td>...</td>\n",
       "      <td>0.00</td>\n",
       "      <td>0.0</td>\n",
       "      <td>0.0</td>\n",
       "      <td>5</td>\n",
       "      <td>2</td>\n",
       "      <td>1</td>\n",
       "      <td>1 month</td>\n",
       "      <td>2</td>\n",
       "      <td>6</td>\n",
       "      <td>5</td>\n",
       "    </tr>\n",
       "    <tr>\n",
       "      <th>31644</th>\n",
       "      <td>-0.123762</td>\n",
       "      <td>-0.355554</td>\n",
       "      <td>0.049586</td>\n",
       "      <td>-0.268684</td>\n",
       "      <td>-0.423600</td>\n",
       "      <td>1.218652</td>\n",
       "      <td>-0.052844</td>\n",
       "      <td>0.347887</td>\n",
       "      <td>1.231456</td>\n",
       "      <td>0.177464</td>\n",
       "      <td>...</td>\n",
       "      <td>0.00</td>\n",
       "      <td>0.0</td>\n",
       "      <td>0.0</td>\n",
       "      <td>2</td>\n",
       "      <td>4</td>\n",
       "      <td>1</td>\n",
       "      <td>7 months</td>\n",
       "      <td>3</td>\n",
       "      <td>7</td>\n",
       "      <td>5</td>\n",
       "    </tr>\n",
       "    <tr>\n",
       "      <th>31645</th>\n",
       "      <td>-0.323788</td>\n",
       "      <td>0.262465</td>\n",
       "      <td>0.151909</td>\n",
       "      <td>-0.634573</td>\n",
       "      <td>-0.334830</td>\n",
       "      <td>-0.034803</td>\n",
       "      <td>-0.146278</td>\n",
       "      <td>0.522450</td>\n",
       "      <td>0.621321</td>\n",
       "      <td>-0.208444</td>\n",
       "      <td>...</td>\n",
       "      <td>5.56</td>\n",
       "      <td>0.0</td>\n",
       "      <td>0.0</td>\n",
       "      <td>3</td>\n",
       "      <td>4</td>\n",
       "      <td>1</td>\n",
       "      <td>1 month</td>\n",
       "      <td>2</td>\n",
       "      <td>11</td>\n",
       "      <td>5</td>\n",
       "    </tr>\n",
       "  </tbody>\n",
       "</table>\n",
       "<p>31646 rows × 1224 columns</p>\n",
       "</div>"
      ],
      "text/plain": [
       "              0         1         2         3         4         5         6  \\\n",
       "0     -0.387530 -0.343766  0.328157 -0.418332 -0.018955 -0.104976  0.370176   \n",
       "1     -0.233446  0.176839  0.731137 -0.033977  0.359495 -0.209553 -0.359573   \n",
       "2     -0.590831  0.028837 -0.059291 -0.282376 -0.290941  0.551704 -0.745856   \n",
       "3      0.134091  0.680461  0.506746 -0.026489 -0.209298 -0.155616  0.476643   \n",
       "4      0.199409 -0.149464  0.466718 -0.417564 -0.343135  0.189888  0.471262   \n",
       "...         ...       ...       ...       ...       ...       ...       ...   \n",
       "31641 -0.549887 -0.480782  0.822559 -0.504220 -0.976744  0.388145  0.398437   \n",
       "31642 -0.087678 -0.446432  0.533848 -0.723522 -0.287357  0.325775  0.587033   \n",
       "31643  0.211648 -0.191998  0.408904 -0.741727 -0.174053  0.791228 -0.044261   \n",
       "31644 -0.123762 -0.355554  0.049586 -0.268684 -0.423600  1.218652 -0.052844   \n",
       "31645 -0.323788  0.262465  0.151909 -0.634573 -0.334830 -0.034803 -0.146278   \n",
       "\n",
       "              7         8         9  ...  Apostro  Parenth  OtherP  \\\n",
       "0      0.288072  0.521418  0.134975  ...     9.09      0.0     0.0   \n",
       "1     -0.352328  0.814820  0.772516  ...     0.00      0.0     0.0   \n",
       "2      0.672127 -0.119256 -0.271754  ...     3.70      0.0     0.0   \n",
       "3      0.130981  0.830065 -0.182159  ...     0.00      0.0     0.0   \n",
       "4      0.005682  0.985675 -0.147950  ...     9.09      0.0     0.0   \n",
       "...         ...       ...       ...  ...      ...      ...     ...   \n",
       "31641  0.529197  0.332029 -0.473861  ...     8.33      0.0     0.0   \n",
       "31642  0.100868  0.077650  0.512428  ...     0.00      0.0     0.0   \n",
       "31643  0.730582  0.292432  0.354426  ...     0.00      0.0     0.0   \n",
       "31644  0.347887  1.231456  0.177464  ...     0.00      0.0     0.0   \n",
       "31645  0.522450  0.621321 -0.208444  ...     5.56      0.0     0.0   \n",
       "\n",
       "       NOUN_count  VERB_count  ADJ_count   OwnedFor  OwnedCategorized  \\\n",
       "0               2           2          2   7 months                 3   \n",
       "1               0           1          0  1.5 years                 5   \n",
       "2               2           6          2  10 months                 3   \n",
       "3               5           4          0     1 year                 4   \n",
       "4               1           1          2  1.5 years                 5   \n",
       "...           ...         ...        ...        ...               ...   \n",
       "31641           2           3          2    3 weeks                 1   \n",
       "31642           0           2          2    2 weeks                 1   \n",
       "31643           5           2          1    1 month                 2   \n",
       "31644           2           4          1   7 months                 3   \n",
       "31645           3           4          1    1 month                 2   \n",
       "\n",
       "       review_len  Rating  \n",
       "0               5       5  \n",
       "1               4       5  \n",
       "2              12       5  \n",
       "3              11       5  \n",
       "4               5       5  \n",
       "...           ...     ...  \n",
       "31641           4       5  \n",
       "31642           5       5  \n",
       "31643           6       5  \n",
       "31644           7       5  \n",
       "31645          11       5  \n",
       "\n",
       "[31646 rows x 1224 columns]"
      ]
     },
     "execution_count": 70,
     "metadata": {},
     "output_type": "execute_result"
    }
   ],
   "source": [
    "amazon_processed_df_bert_large_mean = merging_embeds_ngrams_pos(model2,amazon_df,amazon_df_liwc, stop_words, 100, (2,2))\n",
    "amazon_processed_df_bert_large_mean"
   ]
  },
  {
   "cell_type": "code",
   "execution_count": 71,
   "metadata": {},
   "outputs": [
    {
     "name": "stderr",
     "output_type": "stream",
     "text": [
      "/var/folders/7k/9hch0q794xqdgy99gw9ytbgw0000gn/T/ipykernel_5650/4019386682.py:26: PerformanceWarning: DataFrame is highly fragmented.  This is usually the result of calling `frame.insert` many times, which has poor performance.  Consider joining all columns at once using pd.concat(axis=1) instead. To get a de-fragmented frame, use `newframe = frame.copy()`\n",
      "  combined_df['review_len'] = Llen\n",
      "/var/folders/7k/9hch0q794xqdgy99gw9ytbgw0000gn/T/ipykernel_5650/4019386682.py:27: PerformanceWarning: DataFrame is highly fragmented.  This is usually the result of calling `frame.insert` many times, which has poor performance.  Consider joining all columns at once using pd.concat(axis=1) instead. To get a de-fragmented frame, use `newframe = frame.copy()`\n",
      "  combined_df['Rating'] = df['Rating']\n"
     ]
    },
    {
     "data": {
      "text/html": [
       "<div>\n",
       "<style scoped>\n",
       "    .dataframe tbody tr th:only-of-type {\n",
       "        vertical-align: middle;\n",
       "    }\n",
       "\n",
       "    .dataframe tbody tr th {\n",
       "        vertical-align: top;\n",
       "    }\n",
       "\n",
       "    .dataframe thead th {\n",
       "        text-align: right;\n",
       "    }\n",
       "</style>\n",
       "<table border=\"1\" class=\"dataframe\">\n",
       "  <thead>\n",
       "    <tr style=\"text-align: right;\">\n",
       "      <th></th>\n",
       "      <th>0</th>\n",
       "      <th>1</th>\n",
       "      <th>2</th>\n",
       "      <th>3</th>\n",
       "      <th>4</th>\n",
       "      <th>5</th>\n",
       "      <th>6</th>\n",
       "      <th>7</th>\n",
       "      <th>8</th>\n",
       "      <th>9</th>\n",
       "      <th>...</th>\n",
       "      <th>Apostro</th>\n",
       "      <th>Parenth</th>\n",
       "      <th>OtherP</th>\n",
       "      <th>NOUN_count</th>\n",
       "      <th>VERB_count</th>\n",
       "      <th>ADJ_count</th>\n",
       "      <th>OwnedFor</th>\n",
       "      <th>OwnedCategorized</th>\n",
       "      <th>review_len</th>\n",
       "      <th>Rating</th>\n",
       "    </tr>\n",
       "  </thead>\n",
       "  <tbody>\n",
       "    <tr>\n",
       "      <th>0</th>\n",
       "      <td>0.672337</td>\n",
       "      <td>0.854248</td>\n",
       "      <td>0.773330</td>\n",
       "      <td>0.056404</td>\n",
       "      <td>-0.576963</td>\n",
       "      <td>-0.262524</td>\n",
       "      <td>0.436262</td>\n",
       "      <td>-0.529420</td>\n",
       "      <td>0.454456</td>\n",
       "      <td>1.043217</td>\n",
       "      <td>...</td>\n",
       "      <td>9.09</td>\n",
       "      <td>0.0</td>\n",
       "      <td>0.0</td>\n",
       "      <td>7</td>\n",
       "      <td>6</td>\n",
       "      <td>1</td>\n",
       "      <td>more than 2 years</td>\n",
       "      <td>6</td>\n",
       "      <td>17</td>\n",
       "      <td>3</td>\n",
       "    </tr>\n",
       "    <tr>\n",
       "      <th>1</th>\n",
       "      <td>-0.144254</td>\n",
       "      <td>-0.192437</td>\n",
       "      <td>0.225685</td>\n",
       "      <td>-0.360089</td>\n",
       "      <td>-0.246640</td>\n",
       "      <td>0.301679</td>\n",
       "      <td>0.048764</td>\n",
       "      <td>0.712613</td>\n",
       "      <td>1.171394</td>\n",
       "      <td>-0.475150</td>\n",
       "      <td>...</td>\n",
       "      <td>0.00</td>\n",
       "      <td>0.0</td>\n",
       "      <td>0.0</td>\n",
       "      <td>3</td>\n",
       "      <td>6</td>\n",
       "      <td>2</td>\n",
       "      <td>1.5 years</td>\n",
       "      <td>5</td>\n",
       "      <td>13</td>\n",
       "      <td>5</td>\n",
       "    </tr>\n",
       "    <tr>\n",
       "      <th>2</th>\n",
       "      <td>0.531002</td>\n",
       "      <td>-0.010234</td>\n",
       "      <td>0.930918</td>\n",
       "      <td>0.863019</td>\n",
       "      <td>0.845590</td>\n",
       "      <td>0.125862</td>\n",
       "      <td>0.625441</td>\n",
       "      <td>-0.829762</td>\n",
       "      <td>0.592936</td>\n",
       "      <td>0.895808</td>\n",
       "      <td>...</td>\n",
       "      <td>3.70</td>\n",
       "      <td>0.0</td>\n",
       "      <td>0.0</td>\n",
       "      <td>17</td>\n",
       "      <td>6</td>\n",
       "      <td>6</td>\n",
       "      <td>more than 2 years</td>\n",
       "      <td>6</td>\n",
       "      <td>34</td>\n",
       "      <td>4</td>\n",
       "    </tr>\n",
       "    <tr>\n",
       "      <th>3</th>\n",
       "      <td>-0.216513</td>\n",
       "      <td>-0.634806</td>\n",
       "      <td>0.379636</td>\n",
       "      <td>0.047578</td>\n",
       "      <td>0.484953</td>\n",
       "      <td>-0.093403</td>\n",
       "      <td>-0.586881</td>\n",
       "      <td>0.186238</td>\n",
       "      <td>-0.215680</td>\n",
       "      <td>0.526547</td>\n",
       "      <td>...</td>\n",
       "      <td>0.00</td>\n",
       "      <td>0.0</td>\n",
       "      <td>0.0</td>\n",
       "      <td>4</td>\n",
       "      <td>3</td>\n",
       "      <td>3</td>\n",
       "      <td>1.5 years</td>\n",
       "      <td>5</td>\n",
       "      <td>10</td>\n",
       "      <td>5</td>\n",
       "    </tr>\n",
       "    <tr>\n",
       "      <th>4</th>\n",
       "      <td>0.593953</td>\n",
       "      <td>-0.396204</td>\n",
       "      <td>1.024600</td>\n",
       "      <td>-0.234298</td>\n",
       "      <td>-0.509628</td>\n",
       "      <td>0.879982</td>\n",
       "      <td>-0.418010</td>\n",
       "      <td>-0.007302</td>\n",
       "      <td>0.586269</td>\n",
       "      <td>0.420421</td>\n",
       "      <td>...</td>\n",
       "      <td>9.09</td>\n",
       "      <td>0.0</td>\n",
       "      <td>0.0</td>\n",
       "      <td>2</td>\n",
       "      <td>1</td>\n",
       "      <td>3</td>\n",
       "      <td>1 year</td>\n",
       "      <td>4</td>\n",
       "      <td>8</td>\n",
       "      <td>4</td>\n",
       "    </tr>\n",
       "    <tr>\n",
       "      <th>...</th>\n",
       "      <td>...</td>\n",
       "      <td>...</td>\n",
       "      <td>...</td>\n",
       "      <td>...</td>\n",
       "      <td>...</td>\n",
       "      <td>...</td>\n",
       "      <td>...</td>\n",
       "      <td>...</td>\n",
       "      <td>...</td>\n",
       "      <td>...</td>\n",
       "      <td>...</td>\n",
       "      <td>...</td>\n",
       "      <td>...</td>\n",
       "      <td>...</td>\n",
       "      <td>...</td>\n",
       "      <td>...</td>\n",
       "      <td>...</td>\n",
       "      <td>...</td>\n",
       "      <td>...</td>\n",
       "      <td>...</td>\n",
       "      <td>...</td>\n",
       "    </tr>\n",
       "    <tr>\n",
       "      <th>10371</th>\n",
       "      <td>0.152233</td>\n",
       "      <td>0.024385</td>\n",
       "      <td>0.470213</td>\n",
       "      <td>-0.081044</td>\n",
       "      <td>-0.064601</td>\n",
       "      <td>0.429439</td>\n",
       "      <td>-0.579068</td>\n",
       "      <td>-0.117074</td>\n",
       "      <td>0.633113</td>\n",
       "      <td>1.061356</td>\n",
       "      <td>...</td>\n",
       "      <td>0.00</td>\n",
       "      <td>0.0</td>\n",
       "      <td>0.0</td>\n",
       "      <td>4</td>\n",
       "      <td>6</td>\n",
       "      <td>1</td>\n",
       "      <td>1 month</td>\n",
       "      <td>2</td>\n",
       "      <td>13</td>\n",
       "      <td>4</td>\n",
       "    </tr>\n",
       "    <tr>\n",
       "      <th>10372</th>\n",
       "      <td>0.314987</td>\n",
       "      <td>0.967224</td>\n",
       "      <td>0.662877</td>\n",
       "      <td>-0.311762</td>\n",
       "      <td>0.165357</td>\n",
       "      <td>0.278207</td>\n",
       "      <td>0.093601</td>\n",
       "      <td>1.057282</td>\n",
       "      <td>0.895730</td>\n",
       "      <td>0.474023</td>\n",
       "      <td>...</td>\n",
       "      <td>0.00</td>\n",
       "      <td>0.0</td>\n",
       "      <td>0.0</td>\n",
       "      <td>1</td>\n",
       "      <td>1</td>\n",
       "      <td>4</td>\n",
       "      <td>2 months</td>\n",
       "      <td>2</td>\n",
       "      <td>9</td>\n",
       "      <td>4</td>\n",
       "    </tr>\n",
       "    <tr>\n",
       "      <th>10373</th>\n",
       "      <td>0.064644</td>\n",
       "      <td>0.593535</td>\n",
       "      <td>0.306331</td>\n",
       "      <td>0.880406</td>\n",
       "      <td>0.586682</td>\n",
       "      <td>0.754203</td>\n",
       "      <td>0.400304</td>\n",
       "      <td>0.149576</td>\n",
       "      <td>1.535935</td>\n",
       "      <td>-0.017747</td>\n",
       "      <td>...</td>\n",
       "      <td>0.00</td>\n",
       "      <td>0.0</td>\n",
       "      <td>0.0</td>\n",
       "      <td>5</td>\n",
       "      <td>4</td>\n",
       "      <td>2</td>\n",
       "      <td>1 month</td>\n",
       "      <td>2</td>\n",
       "      <td>12</td>\n",
       "      <td>5</td>\n",
       "    </tr>\n",
       "    <tr>\n",
       "      <th>10374</th>\n",
       "      <td>-0.042478</td>\n",
       "      <td>0.036142</td>\n",
       "      <td>0.446225</td>\n",
       "      <td>-0.648029</td>\n",
       "      <td>-0.387849</td>\n",
       "      <td>0.344451</td>\n",
       "      <td>0.686100</td>\n",
       "      <td>0.052986</td>\n",
       "      <td>0.980697</td>\n",
       "      <td>-0.216748</td>\n",
       "      <td>...</td>\n",
       "      <td>0.00</td>\n",
       "      <td>0.0</td>\n",
       "      <td>0.0</td>\n",
       "      <td>2</td>\n",
       "      <td>2</td>\n",
       "      <td>1</td>\n",
       "      <td>3 weeks</td>\n",
       "      <td>1</td>\n",
       "      <td>7</td>\n",
       "      <td>5</td>\n",
       "    </tr>\n",
       "    <tr>\n",
       "      <th>10375</th>\n",
       "      <td>-0.434285</td>\n",
       "      <td>-0.131782</td>\n",
       "      <td>0.339324</td>\n",
       "      <td>-1.214881</td>\n",
       "      <td>-0.103758</td>\n",
       "      <td>-0.040746</td>\n",
       "      <td>-0.141145</td>\n",
       "      <td>-0.245291</td>\n",
       "      <td>0.254662</td>\n",
       "      <td>0.686973</td>\n",
       "      <td>...</td>\n",
       "      <td>0.00</td>\n",
       "      <td>0.0</td>\n",
       "      <td>0.0</td>\n",
       "      <td>1</td>\n",
       "      <td>6</td>\n",
       "      <td>1</td>\n",
       "      <td>1 month</td>\n",
       "      <td>2</td>\n",
       "      <td>8</td>\n",
       "      <td>5</td>\n",
       "    </tr>\n",
       "  </tbody>\n",
       "</table>\n",
       "<p>10376 rows × 1224 columns</p>\n",
       "</div>"
      ],
      "text/plain": [
       "              0         1         2         3         4         5         6  \\\n",
       "0      0.672337  0.854248  0.773330  0.056404 -0.576963 -0.262524  0.436262   \n",
       "1     -0.144254 -0.192437  0.225685 -0.360089 -0.246640  0.301679  0.048764   \n",
       "2      0.531002 -0.010234  0.930918  0.863019  0.845590  0.125862  0.625441   \n",
       "3     -0.216513 -0.634806  0.379636  0.047578  0.484953 -0.093403 -0.586881   \n",
       "4      0.593953 -0.396204  1.024600 -0.234298 -0.509628  0.879982 -0.418010   \n",
       "...         ...       ...       ...       ...       ...       ...       ...   \n",
       "10371  0.152233  0.024385  0.470213 -0.081044 -0.064601  0.429439 -0.579068   \n",
       "10372  0.314987  0.967224  0.662877 -0.311762  0.165357  0.278207  0.093601   \n",
       "10373  0.064644  0.593535  0.306331  0.880406  0.586682  0.754203  0.400304   \n",
       "10374 -0.042478  0.036142  0.446225 -0.648029 -0.387849  0.344451  0.686100   \n",
       "10375 -0.434285 -0.131782  0.339324 -1.214881 -0.103758 -0.040746 -0.141145   \n",
       "\n",
       "              7         8         9  ...  Apostro  Parenth  OtherP  \\\n",
       "0     -0.529420  0.454456  1.043217  ...     9.09      0.0     0.0   \n",
       "1      0.712613  1.171394 -0.475150  ...     0.00      0.0     0.0   \n",
       "2     -0.829762  0.592936  0.895808  ...     3.70      0.0     0.0   \n",
       "3      0.186238 -0.215680  0.526547  ...     0.00      0.0     0.0   \n",
       "4     -0.007302  0.586269  0.420421  ...     9.09      0.0     0.0   \n",
       "...         ...       ...       ...  ...      ...      ...     ...   \n",
       "10371 -0.117074  0.633113  1.061356  ...     0.00      0.0     0.0   \n",
       "10372  1.057282  0.895730  0.474023  ...     0.00      0.0     0.0   \n",
       "10373  0.149576  1.535935 -0.017747  ...     0.00      0.0     0.0   \n",
       "10374  0.052986  0.980697 -0.216748  ...     0.00      0.0     0.0   \n",
       "10375 -0.245291  0.254662  0.686973  ...     0.00      0.0     0.0   \n",
       "\n",
       "       NOUN_count  VERB_count  ADJ_count           OwnedFor  OwnedCategorized  \\\n",
       "0               7           6          1  more than 2 years                 6   \n",
       "1               3           6          2          1.5 years                 5   \n",
       "2              17           6          6  more than 2 years                 6   \n",
       "3               4           3          3          1.5 years                 5   \n",
       "4               2           1          3             1 year                 4   \n",
       "...           ...         ...        ...                ...               ...   \n",
       "10371           4           6          1            1 month                 2   \n",
       "10372           1           1          4           2 months                 2   \n",
       "10373           5           4          2            1 month                 2   \n",
       "10374           2           2          1            3 weeks                 1   \n",
       "10375           1           6          1            1 month                 2   \n",
       "\n",
       "       review_len  Rating  \n",
       "0              17       3  \n",
       "1              13       5  \n",
       "2              34       4  \n",
       "3              10       5  \n",
       "4               8       4  \n",
       "...           ...     ...  \n",
       "10371          13       4  \n",
       "10372           9       4  \n",
       "10373          12       5  \n",
       "10374           7       5  \n",
       "10375           8       5  \n",
       "\n",
       "[10376 rows x 1224 columns]"
      ]
     },
     "execution_count": 71,
     "metadata": {},
     "output_type": "execute_result"
    }
   ],
   "source": [
    "google_processed_df_bert_large_mean = merging_embeds_ngrams_pos(model2,google_df,amazon_df_liwc, stop_words, 100, (2,2))\n",
    "google_processed_df_bert_large_mean"
   ]
  },
  {
   "cell_type": "markdown",
   "metadata": {},
   "source": [
    "## Storing these Embedding as .csv to not load them again and again"
   ]
  },
  {
   "cell_type": "code",
   "execution_count": 74,
   "metadata": {},
   "outputs": [],
   "source": [
    "apple_processed_BERT_mean.to_csv('apple_embeddings_df_BERT_mean.csv', index = False)\n",
    "\n",
    "amazon_processed_BERT_mean.to_csv('amazon_embeddings_df_BERT_mean.csv', index = False)\n",
    "\n",
    "google_processed_BERT_mean.to_csv('google_embeddings_df_BERT_mean.csv', index = False)\n",
    "\n",
    "\n",
    "#######################################\n",
    "\n",
    "apple_processed_df_bert_large_mean.to_csv('apple_embeddings_df_BERT_large_mean.csv', index = False)\n",
    "\n",
    "amazon_processed_df_bert_large_mean.to_csv('amazon_embeddings_df_BERT_large_mean.csv', index = False)\n",
    "\n",
    "google_processed_df_bert_large_mean.to_csv('google_embeddings_df_BERT_large_mean.csv', index = False)\n",
    "\n",
    "\n",
    "\n",
    "#####################################\n",
    "\n",
    "apple_processed_df_bert_large.to_csv('apple_embeddings_df_BERT_large.csv', index = False)\n",
    "\n",
    "amazon_processed_df_bert_large.to_csv('amazon_embeddings_df_BERT_large.csv', index = False)\n",
    "\n",
    "google_processed_df_bert_large.to_csv('google_embeddings_df_BERT_large.csv', index = False)"
   ]
  },
  {
   "cell_type": "markdown",
   "metadata": {},
   "source": [
    "# Random Forrest"
   ]
  },
  {
   "cell_type": "code",
   "execution_count": 87,
   "metadata": {},
   "outputs": [],
   "source": [
    "def RandomForrest_with_PCA_CV(df):\n",
    "    X = df.drop(columns = ['OwnedFor','Rating'])\n",
    "    y = df['Rating']\n",
    "    \n",
    "    X_std = StandardScaler().fit_transform(X)\n",
    "#     output = np.mean(cross_val_score(X_std, y, cv = 5))\n",
    "    \n",
    "    pca = PCA().fit(X_std, y)\n",
    "    print('currently here')\n",
    "    for i in range(len(pca.explained_variance_ratio_.cumsum())):\n",
    "        if (pca.explained_variance_ratio_.cumsum()[i] > 0.90):\n",
    "    #         print(i)\n",
    "            k = i\n",
    "            break\n",
    "    \n",
    "    X_pca = PCA(n_components = k).fit_transform(X_std)\n",
    "    \n",
    "#     X_train, X_test, y_train, y_test = train_test_split(X_std,y,test_size = 0.3, random_state = 12)\n",
    "    \n",
    "    start = time.process_time()\n",
    "#     rf = RandomForestClassifier(random_state = 42).fit(X_train, y_train)\n",
    "    print('now started ')\n",
    "    print(k)\n",
    "    rf = RandomForestClassifier(random_state = 42)\n",
    "    print('here')\n",
    "    output = np.mean(cross_val_score(rf, X_pca, y, cv = 10))\n",
    "    \n",
    "#     pred = rf.predict(X_test)\n",
    "    \n",
    "#     acc = accuracy_score(y_test,pred)\n",
    "#     f1 = f1_score(y_test,pred, average = 'macro')\n",
    "#     prec = precision_score(y_test, pred,average = 'macro')\n",
    "#     rec = recall_score(y_test, pred,average = 'macro')\n",
    "    \n",
    "#     features_dict = dict(zip(X.columns, rf.feature_importances_))\n",
    "    \n",
    "    end = time.process_time()\n",
    "    \n",
    "    time_taken = end - start\n",
    "#     return acc,f1,prec,rec, time_taken,features_dict\n",
    "    return output, time_taken"
   ]
  },
  {
   "cell_type": "code",
   "execution_count": 82,
   "metadata": {},
   "outputs": [],
   "source": [
    "def RandomForrest_with_features(df):\n",
    "    X = df.drop(columns = ['OwnedFor','Rating'])\n",
    "    y = df['Rating']\n",
    "    \n",
    "    X_std = StandardScaler().fit_transform(X)\n",
    "#     output = np.mean(cross_val_score(X_std, y, cv = 5))\n",
    "    \n",
    "    X_train, X_test, y_train, y_test = train_test_split(X_std,y,test_size = 0.3, random_state = 12)\n",
    "    \n",
    "    start = time.process_time()\n",
    "    rf = RandomForestClassifier(random_state = 42).fit(X_train, y_train)\n",
    "    \n",
    "#     rf = RandomForestClassifier(random_state = 42)\n",
    "\n",
    "#     output = np.mean(cross_val_score(rf, X_std, y, cv = 5))\n",
    "    \n",
    "    pred = rf.predict(X_test)\n",
    "    \n",
    "    acc = accuracy_score(y_test,pred)\n",
    "    f1 = f1_score(y_test,pred, average = 'macro')\n",
    "    prec = precision_score(y_test, pred,average = 'macro')\n",
    "    rec = recall_score(y_test, pred,average = 'macro')\n",
    "    \n",
    "    features_dict = dict(zip(X.columns, rf.feature_importances_))\n",
    "    \n",
    "    end = time.process_time()\n",
    "    \n",
    "    time_taken = end - start\n",
    "    return acc,f1,prec,rec, time_taken,features_dict\n",
    "#     return output, time_taken"
   ]
  },
  {
   "cell_type": "markdown",
   "metadata": {},
   "source": [
    "# BERT Mean Tokens"
   ]
  },
  {
   "cell_type": "code",
   "execution_count": 89,
   "metadata": {
    "id": "TWFPyEsZZTix"
   },
   "outputs": [],
   "source": [
    "# # apple_acc_bert_mean,apple_f1_bert_mean,apple_prec_bert_mean,apple_rec_bert_mean, apple_time_bert_mean,features_dict_apple_mean = RandomForrest(apple_processed_BERT_mean)\n",
    "\n",
    "# apple_cv_score_mean, apple_time_mean = RandomForrest_with_PCA_CV(apple_processed_BERT_mean)\n",
    "# print('Cross Validation Score is  ' + str(round(apple_cv_score_mean,4)*100))\n",
    "# print('Time taken is ' + str(round(apple_time_mean,4)) + ' Seconds')\n",
    "\n",
    "# print('*****************************************************/n')\n",
    "\n",
    "# amazon_cv_score_mean, amazon_time_mean = RandomForrest_with_PCA_CV(amazon_processed_BERT_mean)\n",
    "# print('Cross Validation Score is  ' + str(round(amazon_cv_score_mean,4)*100))\n",
    "# print('Time taken is ' + str(round(amazon_time_mean,4)) + ' Seconds')\n",
    "\n",
    "# print('*****************************************************/n')\n",
    "\n",
    "# google_cv_score_mean, google_time_mean = RandomForrest_with_PCA_CV(google_processed_BERT_mean)\n",
    "# print('Cross Validation Score is  ' + str(round(google_cv_score_mean,4)*100))\n",
    "# print('Time taken is ' + str(round(google_time_mean,4)) + ' Seconds')\n",
    "\n",
    "# print('*****************************************************/n')"
   ]
  },
  {
   "cell_type": "code",
   "execution_count": 90,
   "metadata": {},
   "outputs": [
    {
     "name": "stderr",
     "output_type": "stream",
     "text": [
      "/Users/haris/anaconda3/lib/python3.11/site-packages/sklearn/metrics/_classification.py:1469: UndefinedMetricWarning: Precision is ill-defined and being set to 0.0 in labels with no predicted samples. Use `zero_division` parameter to control this behavior.\n",
      "  _warn_prf(average, modifier, msg_start, len(result))\n"
     ]
    },
    {
     "name": "stdout",
     "output_type": "stream",
     "text": [
      "Accuracy is 81.03\n",
      "F1 Score is 26.31\n",
      "Precision is 46.75\n",
      "Recall is 25.369999999999997\n",
      "Time taken is 43.7958 Seconds\n",
      "*****************************************************/n\n",
      "Accuracy is 83.12\n",
      "F1 Score is 19.57\n",
      "Precision is 55.93\n",
      "Recall is 20.68\n",
      "Time taken is 171.2075 Seconds\n",
      "*****************************************************/n\n",
      "Accuracy is 79.41\n",
      "F1 Score is 20.97\n",
      "Precision is 49.08\n",
      "Recall is 21.7\n",
      "Time taken is 42.6332 Seconds\n"
     ]
    },
    {
     "name": "stderr",
     "output_type": "stream",
     "text": [
      "/Users/haris/anaconda3/lib/python3.11/site-packages/sklearn/metrics/_classification.py:1469: UndefinedMetricWarning: Precision is ill-defined and being set to 0.0 in labels with no predicted samples. Use `zero_division` parameter to control this behavior.\n",
      "  _warn_prf(average, modifier, msg_start, len(result))\n"
     ]
    }
   ],
   "source": [
    "apple_acc_bert_mean,apple_f1_bert_mean,apple_prec_bert_mean,apple_rec_bert_mean, apple_time_bert_mean,features_dict_apple_mean = RandomForrest_with_features(apple_processed_BERT_mean)\n",
    "\n",
    "print('Accuracy is ' + str(round(apple_acc_bert_mean,4)*100))\n",
    "print('F1 Score is ' + str(round(apple_f1_bert_mean,4)*100))\n",
    "print('Precision is ' + str(round(apple_prec_bert_mean,4)*100))\n",
    "print('Recall is ' + str(round(apple_rec_bert_mean,4)*100))\n",
    "print('Time taken is ' + str(round(apple_time_bert_mean,4)) + ' Seconds')\n",
    "\n",
    "print('*****************************************************/n')\n",
    "\n",
    "amazon_acc_bert_mean,amazon_f1_bert_mean,amazon_prec_bert_mean,amazon_rec_bert_mean, amazon_time_bert_mean,features_dict_amazon_mean = RandomForrest_with_features(amazon_processed_BERT_mean)\n",
    "\n",
    "print('Accuracy is ' + str(round(amazon_acc_bert_mean,4)*100))\n",
    "print('F1 Score is ' + str(round(amazon_f1_bert_mean,4)*100))\n",
    "print('Precision is ' + str(round(amazon_prec_bert_mean,4)*100))\n",
    "print('Recall is ' + str(round(amazon_rec_bert_mean,4)*100))\n",
    "print('Time taken is ' + str(round(amazon_time_bert_mean,4)) + ' Seconds')\n",
    "\n",
    "print('*****************************************************/n')\n",
    "\n",
    "google_acc_bert_mean,google_f1_bert_mean,google_prec_bert_mean,google_rec_bert_mean, google_time_bert_mean,features_dict_google_mean = RandomForrest_with_features(google_processed_BERT_mean)\n",
    "\n",
    "print('Accuracy is ' + str(round(google_acc_bert_mean,4)*100))\n",
    "print('F1 Score is ' + str(round(google_f1_bert_mean,4)*100))\n",
    "print('Precision is ' + str(round(google_prec_bert_mean,4)*100))\n",
    "print('Recall is ' + str(round(google_rec_bert_mean,4)*100))\n",
    "print('Time taken is ' + str(round(google_time_bert_mean,4)) + ' Seconds')"
   ]
  },
  {
   "cell_type": "code",
   "execution_count": 91,
   "metadata": {
    "scrolled": true
   },
   "outputs": [
    {
     "data": {
      "text/plain": [
       "[('164', 0.006655859938404499),\n",
       " ('216', 0.004843404515389105),\n",
       " ('296', 0.0046764371053631395),\n",
       " ('726', 0.004034249539700372),\n",
       " ('115', 0.004028637911025714),\n",
       " ('25', 0.004023378016462385),\n",
       " ('114', 0.003989766011096869),\n",
       " ('38', 0.003849327802701039),\n",
       " ('293', 0.00372966110405567),\n",
       " ('367', 0.0036389623059107632),\n",
       " ('244', 0.003337382856660342),\n",
       " ('713', 0.0032520364722990786),\n",
       " ('92', 0.0031708922816940815),\n",
       " ('372', 0.003036247803197854),\n",
       " ('698', 0.0030139682119988704),\n",
       " ('259', 0.0029053962226797438),\n",
       " ('298', 0.002897393249978358),\n",
       " ('342', 0.002866039471773699),\n",
       " ('253', 0.002840871323332145),\n",
       " ('643', 0.0028220966585298947),\n",
       " ('436', 0.0028142392395809597),\n",
       " ('74', 0.0027245678660506424),\n",
       " ('140', 0.0027051597609047064),\n",
       " ('407', 0.002661436342847428),\n",
       " ('378', 0.002638316912326967),\n",
       " ('620', 0.0026222956264448953),\n",
       " ('144', 0.002611097315101228),\n",
       " ('427', 0.00247785808377986),\n",
       " ('148', 0.002431669481217401),\n",
       " ('63', 0.002405902173619993),\n",
       " ('448', 0.0023636843766760753),\n",
       " ('512', 0.0023480550034086596),\n",
       " ('618', 0.0023333800677741573),\n",
       " ('410', 0.00226591419444831),\n",
       " ('539', 0.002212984775985461),\n",
       " ('48', 0.002186905641724415),\n",
       " ('113', 0.002156171744175853),\n",
       " ('394', 0.0021317091596559684),\n",
       " ('577', 0.002111177572914351),\n",
       " ('762', 0.0020512093321760393),\n",
       " ('145', 0.002041095879623543),\n",
       " ('77', 0.0020401811228828903),\n",
       " ('62', 0.002038033734497118),\n",
       " ('236', 0.0020314151589127267),\n",
       " ('678', 0.00201604167645138),\n",
       " ('146', 0.0019940220474418927),\n",
       " ('434', 0.001966757372572219),\n",
       " ('574', 0.0019306745947596596),\n",
       " ('192', 0.0019237421148485584),\n",
       " ('388', 0.0019097354021651563),\n",
       " ('332', 0.0019085850683457771),\n",
       " ('56', 0.0019028120950506044),\n",
       " ('463', 0.0018894362312014846),\n",
       " ('197', 0.0018849533273462133),\n",
       " ('175', 0.001858408648122061),\n",
       " ('308', 0.0018459801580713688),\n",
       " ('632', 0.0018204206748005545),\n",
       " ('340', 0.0018185749406319609),\n",
       " ('627', 0.001776110217393103),\n",
       " ('529', 0.0017756752733989786),\n",
       " ('570', 0.0017724978622434455),\n",
       " ('707', 0.0017669084132647748),\n",
       " ('430', 0.0017653300873897652),\n",
       " ('85', 0.0017294265657211262),\n",
       " ('578', 0.0017187416176231284),\n",
       " ('352', 0.0017137421320621501),\n",
       " ('5', 0.0017083971326987404),\n",
       " ('406', 0.0016835727258373834),\n",
       " ('522', 0.0016771765019673078),\n",
       " ('44', 0.0016719387672288646),\n",
       " ('403', 0.001671568346192878),\n",
       " ('249', 0.0016616615641962826),\n",
       " ('219', 0.0016569027812542872),\n",
       " ('676', 0.0016558694108821461),\n",
       " ('478', 0.001651774630538251),\n",
       " ('45', 0.0016455885189900754),\n",
       " ('528', 0.001640322532682189),\n",
       " ('58', 0.001639860417796491),\n",
       " ('191', 0.0016387960408140681),\n",
       " ('552', 0.0016347622369402319),\n",
       " ('657', 0.0016275356049235028),\n",
       " ('302', 0.001624245984009253),\n",
       " ('688', 0.0016236808434650371),\n",
       " ('575', 0.0016118362757520717),\n",
       " ('677', 0.0016013869370027304),\n",
       " ('585', 0.0015932187930951722),\n",
       " ('555', 0.0015882989565471448),\n",
       " ('257', 0.001584458748764431),\n",
       " ('263', 0.0015819961016767694),\n",
       " ('366', 0.0015757077759562912),\n",
       " ('391', 0.0015679191218538574),\n",
       " ('392', 0.001566998355884838),\n",
       " ('450', 0.0015612194693291328),\n",
       " ('724', 0.0015571841907918848),\n",
       " ('467', 0.0015459154318162376),\n",
       " ('205', 0.0015453010153862064),\n",
       " ('9', 0.0015434821463095724),\n",
       " ('278', 0.001543074170724461),\n",
       " ('531', 0.0015381313543162802),\n",
       " ('548', 0.0015319207766302106)]"
      ]
     },
     "execution_count": 91,
     "metadata": {},
     "output_type": "execute_result"
    }
   ],
   "source": [
    "top_features_apple_mean = sorted(features_dict_apple_mean.items(), key = lambda x: x[1], reverse = True)[0:100]\n",
    "top_features_apple_mean"
   ]
  },
  {
   "cell_type": "code",
   "execution_count": 92,
   "metadata": {
    "scrolled": true
   },
   "outputs": [
    {
     "data": {
      "text/plain": [
       "[('negate', 0.0053442822641999255),\n",
       " ('differ', 0.004708723858112266),\n",
       " ('293', 0.0037325661323156637),\n",
       " ('25', 0.00350152351968386),\n",
       " ('298', 0.0033681570492827034),\n",
       " ('164', 0.003275630699948743),\n",
       " ('77', 0.002984126245870934),\n",
       " ('296', 0.002908070656239921),\n",
       " ('362', 0.0026874697808022202),\n",
       " ('713', 0.0026705344193735424),\n",
       " ('38', 0.002661937276414778),\n",
       " ('596', 0.0026553379554884638),\n",
       " ('259', 0.0025460544238730854),\n",
       " ('cogproc', 0.002499690929330381),\n",
       " ('698', 0.0023852049083490172),\n",
       " ('bio', 0.0023147893909474027),\n",
       " ('216', 0.0020891312184546647),\n",
       " ('333', 0.002025310731381819),\n",
       " ('244', 0.0019627427055903253),\n",
       " ('427', 0.001933009278795068),\n",
       " ('tentat', 0.0019032553130806922),\n",
       " ('434', 0.0018988589076335744),\n",
       " ('440', 0.001890501127394744),\n",
       " ('63', 0.0018781539374138779),\n",
       " ('Clout', 0.0018775735388350328),\n",
       " ('114', 0.0018546022591322633),\n",
       " ('affiliation', 0.0018154577193334397),\n",
       " ('verb', 0.0017602316838526899),\n",
       " ('607', 0.0017295809757470705),\n",
       " ('304', 0.0017230625656478038),\n",
       " ('175', 0.0017156322013510705),\n",
       " ('678', 0.0017062105208478348),\n",
       " ('113', 0.0017061863692004991),\n",
       " ('342', 0.0017036723619935168),\n",
       " ('689', 0.0017014002081223473),\n",
       " ('574', 0.001698050821590634),\n",
       " ('59', 0.00169283318711348),\n",
       " ('74', 0.0016843688325448275),\n",
       " ('692', 0.0016829641198741157),\n",
       " ('384', 0.0016697709438533046),\n",
       " ('253', 0.0016628056481615668),\n",
       " ('494', 0.0016442221960577409),\n",
       " ('140', 0.0016018374599382202),\n",
       " ('367', 0.0015969177402085383),\n",
       " ('532', 0.0015902027397919124),\n",
       " ('448', 0.0015884948772534441),\n",
       " ('632', 0.001582009715224243),\n",
       " ('402', 0.0015729186661744493),\n",
       " ('83', 0.001567885901681427),\n",
       " ('702', 0.001564908396275433),\n",
       " ('642', 0.0015584477335022248),\n",
       " ('275', 0.001557226507074494),\n",
       " ('533', 0.00155331007702456),\n",
       " ('172', 0.0015510054395056253),\n",
       " ('197', 0.001550283124500715),\n",
       " ('260', 0.0015481318369856883),\n",
       " ('475', 0.0015456592623851223),\n",
       " ('325', 0.001544656843554583),\n",
       " ('243', 0.0015424194244713272),\n",
       " ('372', 0.0015396583291182376),\n",
       " ('7', 0.0015370978471416193),\n",
       " ('582', 0.0015345886327705685),\n",
       " ('577', 0.0015314223209762273),\n",
       " ('297', 0.0015303613485668419),\n",
       " ('308', 0.001528106463511288),\n",
       " ('41', 0.0015093471859001202),\n",
       " ('97', 0.0015072704124266941),\n",
       " ('182', 0.001505120652530245),\n",
       " ('300', 0.0015031704402070586),\n",
       " ('526', 0.001500828235450746),\n",
       " ('501', 0.0014942767416323303),\n",
       " ('726', 0.0014933118801552644),\n",
       " ('392', 0.001488961992461772),\n",
       " ('115', 0.0014807692887719276),\n",
       " ('497', 0.0014766843263035675),\n",
       " ('134', 0.0014512590647100395),\n",
       " ('731', 0.001450882098070354),\n",
       " ('411', 0.0014491090141776828),\n",
       " ('92', 0.0014478774702710048),\n",
       " ('458', 0.0014450087664702245),\n",
       " ('62', 0.0014444054639278343),\n",
       " ('484', 0.0014404172115728595),\n",
       " ('748', 0.0014399762536072916),\n",
       " ('551', 0.0014391722586081961),\n",
       " ('46', 0.0014389425953730698),\n",
       " ('549', 0.0014383688606319145),\n",
       " ('283', 0.0014321024154984405),\n",
       " ('541', 0.001427892802253491),\n",
       " ('2', 0.0014244474654340339),\n",
       " ('252', 0.0014193253241901486),\n",
       " ('331', 0.0014179460818780916),\n",
       " ('507', 0.001415213667845534),\n",
       " ('679', 0.0014139087293996119),\n",
       " ('570', 0.0014129518070479872),\n",
       " ('376', 0.001412106465729037),\n",
       " ('221', 0.0014091468060176372),\n",
       " ('399', 0.0014081625534006768),\n",
       " ('727', 0.0014069220124707067),\n",
       " ('282', 0.0014030222902856593),\n",
       " ('76', 0.0013990389157883787)]"
      ]
     },
     "execution_count": 92,
     "metadata": {},
     "output_type": "execute_result"
    }
   ],
   "source": [
    "top_features_amazon_mean = sorted(features_dict_amazon_mean.items(), key = lambda x: x[1], reverse = True)[0:100]\n",
    "top_features_amazon_mean"
   ]
  },
  {
   "cell_type": "code",
   "execution_count": 93,
   "metadata": {
    "scrolled": true
   },
   "outputs": [
    {
     "data": {
      "text/plain": [
       "[('25', 0.003665139939590966),\n",
       " ('293', 0.0035619352510940163),\n",
       " ('164', 0.0031333196833978677),\n",
       " ('698', 0.002882397257434495),\n",
       " ('113', 0.0028487384404385805),\n",
       " ('707', 0.002653208691706309),\n",
       " ('582', 0.0026393442938363854),\n",
       " ('253', 0.0025738355331458573),\n",
       " ('77', 0.0025396538080047514),\n",
       " ('427', 0.002482709384615533),\n",
       " ('713', 0.002452639634594493),\n",
       " ('618', 0.0024338029917716163),\n",
       " ('726', 0.0024202173346974157),\n",
       " ('216', 0.0024116855257090013),\n",
       " ('63', 0.002356867185812608),\n",
       " ('372', 0.0023204466872464745),\n",
       " ('259', 0.002313785753390429),\n",
       " ('296', 0.0022726096235186587),\n",
       " ('528', 0.002257884139104952),\n",
       " ('494', 0.0021726870968588317),\n",
       " ('730', 0.0021172790067178764),\n",
       " ('38', 0.0020809131784852147),\n",
       " ('596', 0.0020789476986556032),\n",
       " ('367', 0.00206138542297897),\n",
       " ('275', 0.0020597996376609663),\n",
       " ('620', 0.002049435246257355),\n",
       " ('342', 0.002047668989755273),\n",
       " ('114', 0.0020272156498460374),\n",
       " ('300', 0.0020143679981541093),\n",
       " ('56', 0.002014254761465132),\n",
       " ('376', 0.0019910959250757005),\n",
       " ('298', 0.0019468772171854782),\n",
       " ('41', 0.0019217033773442102),\n",
       " ('362', 0.001877411282030023),\n",
       " ('286', 0.001876974390120025),\n",
       " ('440', 0.0018749879555781),\n",
       " ('411', 0.0018532496798776773),\n",
       " ('115', 0.0018427744601939961),\n",
       " ('654', 0.0018323181442796443),\n",
       " ('607', 0.0017977162117606845),\n",
       " ('197', 0.001797271331434045),\n",
       " ('688', 0.0017579457097754644),\n",
       " ('193', 0.0017390964506313914),\n",
       " ('148', 0.0017206187697119707),\n",
       " ('402', 0.0017205073884289709),\n",
       " ('692', 0.0017067443401362946),\n",
       " ('308', 0.0017002583933704324),\n",
       " ('172', 0.0016943046310786939),\n",
       " ('349', 0.001688688610971656),\n",
       " ('182', 0.0016855121132887787),\n",
       " ('457', 0.001663970546743891),\n",
       " ('448', 0.0016636636282427722),\n",
       " ('570', 0.001663442738122916),\n",
       " ('522', 0.0016610336113343394),\n",
       " ('61', 0.0016586377761056215),\n",
       " ('434', 0.00165570955818237),\n",
       " ('265', 0.0016462723683096242),\n",
       " ('294', 0.0016455563737391527),\n",
       " ('598', 0.0016439740483795368),\n",
       " ('332', 0.0016432166806346709),\n",
       " ('574', 0.001640958248311223),\n",
       " ('392', 0.0016372955089196959),\n",
       " ('645', 0.0016347259991370306),\n",
       " ('627', 0.0016318977186455883),\n",
       " ('268', 0.0016209081446450044),\n",
       " ('417', 0.0016161791781789253),\n",
       " ('74', 0.0016147998634398722),\n",
       " ('496', 0.0016144510242447894),\n",
       " ('236', 0.001610872587392449),\n",
       " ('15', 0.0016087675643805018),\n",
       " ('83', 0.0016061666498195517),\n",
       " ('391', 0.0016021847785293753),\n",
       " ('330', 0.001600024618990936),\n",
       " ('371', 0.0015898475353051666),\n",
       " ('249', 0.001585263561590448),\n",
       " ('579', 0.0015836803536039281),\n",
       " ('271', 0.0015833820850165747),\n",
       " ('519', 0.0015724929300750526),\n",
       " ('333', 0.001572310906592106),\n",
       " ('734', 0.0015719856410713678),\n",
       " ('156', 0.0015635077148560368),\n",
       " ('710', 0.001559299769909665),\n",
       " ('679', 0.0015542101694829143),\n",
       " ('170', 0.0015530471432051757),\n",
       " ('238', 0.0015456816988466424),\n",
       " ('4', 0.0015452193597785449),\n",
       " ('636', 0.0015319684136540076),\n",
       " ('62', 0.0015315716147027937),\n",
       " ('282', 0.0015305165316927658),\n",
       " ('515', 0.0015295149086337937),\n",
       " ('331', 0.0015271361364921218),\n",
       " ('337', 0.001523827513649408),\n",
       " ('112', 0.0015205821854086573),\n",
       " ('603', 0.0015198209546123905),\n",
       " ('479', 0.0015165997441339623),\n",
       " ('668', 0.0015164543002193877),\n",
       " ('706', 0.0015078603958710967),\n",
       " ('533', 0.0014943721406511395),\n",
       " ('145', 0.0014906939439348677),\n",
       " ('590', 0.0014899354351996313)]"
      ]
     },
     "execution_count": 93,
     "metadata": {},
     "output_type": "execute_result"
    }
   ],
   "source": [
    "top_features_google_mean = sorted(features_dict_google_mean.items(), key = lambda x: x[1], reverse = True)[0:100]\n",
    "top_features_google_mean"
   ]
  },
  {
   "cell_type": "markdown",
   "metadata": {},
   "source": [
    "##  BERT Large Mean Tokens"
   ]
  },
  {
   "cell_type": "code",
   "execution_count": null,
   "metadata": {},
   "outputs": [],
   "source": [
    "# # apple_acc_bert_mean,apple_f1_bert_mean,apple_prec_bert_mean,apple_rec_bert_mean, apple_time_bert_mean,features_dict_apple_mean = RandomForrest(apple_processed_BERT_mean)\n",
    "\n",
    "# apple_cv_score_large_mean, apple_time_large_mean = RandomForrest_with_PCA_CV(apple_processed_BERT_mean)\n",
    "# print('Cross Validation Score is  ' + str(round(apple_cv_score_large_mean,4)*100))\n",
    "# print('Time taken is ' + str(round(apple_time_large_mean,4)) + ' Seconds')\n",
    "\n",
    "# print('*****************************************************/n')\n",
    "\n",
    "# amazon_cv_score_large_mean, amazon_time_large_mean = RandomForrest_with_PCA_CV(amazon_processed_BERT_mean)\n",
    "# print('Cross Validation Score is  ' + str(round(amazon_cv_score_large_mean,4)*100))\n",
    "# print('Time taken is ' + str(round(amazon_time_large_mean,4)) + ' Seconds')\n",
    "\n",
    "# print('*****************************************************/n')\n",
    "\n",
    "# google_cv_score_large_mean, google_time_large_mean = RandomForrest_with_PCA_CV(google_processed_BERT_mean)\n",
    "# print('Cross Validation Score is  ' + str(round(google_cv_score_large_mean,4)*100))\n",
    "# print('Time taken is ' + str(round(google_time_large_mean,4)) + ' Seconds')\n",
    "\n",
    "# print('*****************************************************/n')"
   ]
  },
  {
   "cell_type": "code",
   "execution_count": 94,
   "metadata": {},
   "outputs": [
    {
     "name": "stdout",
     "output_type": "stream",
     "text": [
      "Accuracy is 80.97\n",
      "F1 Score is 27.33\n",
      "Precision is 49.370000000000005\n",
      "Recall is 26.229999999999997\n",
      "Time taken is 49.8972 Seconds\n",
      "*****************************************************/n\n",
      "Accuracy is 83.17\n",
      "F1 Score is 19.73\n",
      "Precision is 61.17\n",
      "Recall is 20.77\n",
      "Time taken is 188.1179 Seconds\n",
      "*****************************************************/n\n",
      "Accuracy is 79.38\n",
      "F1 Score is 22.74\n",
      "Precision is 71.34\n",
      "Recall is 22.61\n",
      "Time taken is 46.1146 Seconds\n"
     ]
    }
   ],
   "source": [
    "apple_acc_bert_large_mean,apple_f1_bert_large_mean,apple_prec_bert_large_mean,apple_rec_bert_large_mean,apple_time_bert_large_mean, features_apple_large_mean = RandomForrest_with_features(apple_processed_df_bert_large_mean)\n",
    "\n",
    "print('Accuracy is ' + str(round(apple_acc_bert_large_mean,4)*100))\n",
    "print('F1 Score is ' + str(round(apple_f1_bert_large_mean,4)*100))\n",
    "print('Precision is ' + str(round(apple_prec_bert_large_mean,4)*100))\n",
    "print('Recall is ' + str(round(apple_rec_bert_large_mean,4)*100))\n",
    "print('Time taken is ' + str(round(apple_time_bert_large_mean,4)) + ' Seconds')\n",
    "\n",
    "\n",
    "print('*****************************************************/n')\n",
    "amazon_acc_bert_large_mean,amazon_f1_bert_large_mean,amazon_prec_bert_large_mean,amazon_rec_bert_large_mean, amazon_time_bert_large_mean,features_amazon_large_mean = RandomForrest_with_features(amazon_processed_df_bert_large_mean)\n",
    "\n",
    "print('Accuracy is ' + str(round(amazon_acc_bert_large_mean,4)*100))\n",
    "print('F1 Score is ' + str(round(amazon_f1_bert_large_mean,4)*100))\n",
    "print('Precision is ' + str(round(amazon_prec_bert_large_mean,4)*100))\n",
    "print('Recall is ' + str(round(amazon_rec_bert_large_mean,4)*100))\n",
    "print('Time taken is ' + str(round(amazon_time_bert_large_mean,4)) + ' Seconds')\n",
    "\n",
    "\n",
    "print('*****************************************************/n')\n",
    "google_acc_bert_large_mean,google_f1_bert_large_mean,google_prec_bert_large_mean,google_rec_bert_large_mean, google_time_bert_large_mean,features_google_large_mean = RandomForrest_with_features(google_processed_df_bert_large_mean)\n",
    "\n",
    "print('Accuracy is ' + str(round(google_acc_bert_large_mean,4)*100))\n",
    "print('F1 Score is ' + str(round(google_f1_bert_large_mean,4)*100))\n",
    "print('Precision is ' + str(round(google_prec_bert_large_mean,4)*100))\n",
    "print('Recall is ' + str(round(google_rec_bert_large_mean,4)*100))\n",
    "print('Time taken is ' + str(round(google_time_bert_large_mean,4)) + ' Seconds')"
   ]
  },
  {
   "cell_type": "code",
   "execution_count": 95,
   "metadata": {
    "scrolled": true
   },
   "outputs": [
    {
     "data": {
      "text/plain": [
       "[('164', 0.006655859938404499),\n",
       " ('216', 0.004843404515389105),\n",
       " ('296', 0.0046764371053631395),\n",
       " ('726', 0.004034249539700372),\n",
       " ('115', 0.004028637911025714),\n",
       " ('25', 0.004023378016462385),\n",
       " ('114', 0.003989766011096869),\n",
       " ('38', 0.003849327802701039),\n",
       " ('293', 0.00372966110405567),\n",
       " ('367', 0.0036389623059107632),\n",
       " ('244', 0.003337382856660342),\n",
       " ('713', 0.0032520364722990786),\n",
       " ('92', 0.0031708922816940815),\n",
       " ('372', 0.003036247803197854),\n",
       " ('698', 0.0030139682119988704),\n",
       " ('259', 0.0029053962226797438),\n",
       " ('298', 0.002897393249978358),\n",
       " ('342', 0.002866039471773699),\n",
       " ('253', 0.002840871323332145),\n",
       " ('643', 0.0028220966585298947),\n",
       " ('436', 0.0028142392395809597),\n",
       " ('74', 0.0027245678660506424),\n",
       " ('140', 0.0027051597609047064),\n",
       " ('407', 0.002661436342847428),\n",
       " ('378', 0.002638316912326967),\n",
       " ('620', 0.0026222956264448953),\n",
       " ('144', 0.002611097315101228),\n",
       " ('427', 0.00247785808377986),\n",
       " ('148', 0.002431669481217401),\n",
       " ('63', 0.002405902173619993),\n",
       " ('448', 0.0023636843766760753),\n",
       " ('512', 0.0023480550034086596),\n",
       " ('618', 0.0023333800677741573),\n",
       " ('410', 0.00226591419444831),\n",
       " ('539', 0.002212984775985461),\n",
       " ('48', 0.002186905641724415),\n",
       " ('113', 0.002156171744175853),\n",
       " ('394', 0.0021317091596559684),\n",
       " ('577', 0.002111177572914351),\n",
       " ('762', 0.0020512093321760393),\n",
       " ('145', 0.002041095879623543),\n",
       " ('77', 0.0020401811228828903),\n",
       " ('62', 0.002038033734497118),\n",
       " ('236', 0.0020314151589127267),\n",
       " ('678', 0.00201604167645138),\n",
       " ('146', 0.0019940220474418927),\n",
       " ('434', 0.001966757372572219),\n",
       " ('574', 0.0019306745947596596),\n",
       " ('192', 0.0019237421148485584),\n",
       " ('388', 0.0019097354021651563),\n",
       " ('332', 0.0019085850683457771),\n",
       " ('56', 0.0019028120950506044),\n",
       " ('463', 0.0018894362312014846),\n",
       " ('197', 0.0018849533273462133),\n",
       " ('175', 0.001858408648122061),\n",
       " ('308', 0.0018459801580713688),\n",
       " ('632', 0.0018204206748005545),\n",
       " ('340', 0.0018185749406319609),\n",
       " ('627', 0.001776110217393103),\n",
       " ('529', 0.0017756752733989786),\n",
       " ('570', 0.0017724978622434455),\n",
       " ('707', 0.0017669084132647748),\n",
       " ('430', 0.0017653300873897652),\n",
       " ('85', 0.0017294265657211262),\n",
       " ('578', 0.0017187416176231284),\n",
       " ('352', 0.0017137421320621501),\n",
       " ('5', 0.0017083971326987404),\n",
       " ('406', 0.0016835727258373834),\n",
       " ('522', 0.0016771765019673078),\n",
       " ('44', 0.0016719387672288646),\n",
       " ('403', 0.001671568346192878),\n",
       " ('249', 0.0016616615641962826),\n",
       " ('219', 0.0016569027812542872),\n",
       " ('676', 0.0016558694108821461),\n",
       " ('478', 0.001651774630538251),\n",
       " ('45', 0.0016455885189900754),\n",
       " ('528', 0.001640322532682189),\n",
       " ('58', 0.001639860417796491),\n",
       " ('191', 0.0016387960408140681),\n",
       " ('552', 0.0016347622369402319),\n",
       " ('657', 0.0016275356049235028),\n",
       " ('302', 0.001624245984009253),\n",
       " ('688', 0.0016236808434650371),\n",
       " ('575', 0.0016118362757520717),\n",
       " ('677', 0.0016013869370027304),\n",
       " ('585', 0.0015932187930951722),\n",
       " ('555', 0.0015882989565471448),\n",
       " ('257', 0.001584458748764431),\n",
       " ('263', 0.0015819961016767694),\n",
       " ('366', 0.0015757077759562912),\n",
       " ('391', 0.0015679191218538574),\n",
       " ('392', 0.001566998355884838),\n",
       " ('450', 0.0015612194693291328),\n",
       " ('724', 0.0015571841907918848),\n",
       " ('467', 0.0015459154318162376),\n",
       " ('205', 0.0015453010153862064),\n",
       " ('9', 0.0015434821463095724),\n",
       " ('278', 0.001543074170724461),\n",
       " ('531', 0.0015381313543162802),\n",
       " ('548', 0.0015319207766302106)]"
      ]
     },
     "execution_count": 95,
     "metadata": {},
     "output_type": "execute_result"
    }
   ],
   "source": [
    "top_features_apple_large_mean = sorted(features_apple_large_mean.items(), key = lambda x: x[1], reverse = True)[0:100]\n",
    "top_features_apple_mean"
   ]
  },
  {
   "cell_type": "code",
   "execution_count": 96,
   "metadata": {
    "scrolled": true
   },
   "outputs": [
    {
     "data": {
      "text/plain": [
       "[('negate', 0.0053442822641999255),\n",
       " ('differ', 0.004708723858112266),\n",
       " ('293', 0.0037325661323156637),\n",
       " ('25', 0.00350152351968386),\n",
       " ('298', 0.0033681570492827034),\n",
       " ('164', 0.003275630699948743),\n",
       " ('77', 0.002984126245870934),\n",
       " ('296', 0.002908070656239921),\n",
       " ('362', 0.0026874697808022202),\n",
       " ('713', 0.0026705344193735424),\n",
       " ('38', 0.002661937276414778),\n",
       " ('596', 0.0026553379554884638),\n",
       " ('259', 0.0025460544238730854),\n",
       " ('cogproc', 0.002499690929330381),\n",
       " ('698', 0.0023852049083490172),\n",
       " ('bio', 0.0023147893909474027),\n",
       " ('216', 0.0020891312184546647),\n",
       " ('333', 0.002025310731381819),\n",
       " ('244', 0.0019627427055903253),\n",
       " ('427', 0.001933009278795068),\n",
       " ('tentat', 0.0019032553130806922),\n",
       " ('434', 0.0018988589076335744),\n",
       " ('440', 0.001890501127394744),\n",
       " ('63', 0.0018781539374138779),\n",
       " ('Clout', 0.0018775735388350328),\n",
       " ('114', 0.0018546022591322633),\n",
       " ('affiliation', 0.0018154577193334397),\n",
       " ('verb', 0.0017602316838526899),\n",
       " ('607', 0.0017295809757470705),\n",
       " ('304', 0.0017230625656478038),\n",
       " ('175', 0.0017156322013510705),\n",
       " ('678', 0.0017062105208478348),\n",
       " ('113', 0.0017061863692004991),\n",
       " ('342', 0.0017036723619935168),\n",
       " ('689', 0.0017014002081223473),\n",
       " ('574', 0.001698050821590634),\n",
       " ('59', 0.00169283318711348),\n",
       " ('74', 0.0016843688325448275),\n",
       " ('692', 0.0016829641198741157),\n",
       " ('384', 0.0016697709438533046),\n",
       " ('253', 0.0016628056481615668),\n",
       " ('494', 0.0016442221960577409),\n",
       " ('140', 0.0016018374599382202),\n",
       " ('367', 0.0015969177402085383),\n",
       " ('532', 0.0015902027397919124),\n",
       " ('448', 0.0015884948772534441),\n",
       " ('632', 0.001582009715224243),\n",
       " ('402', 0.0015729186661744493),\n",
       " ('83', 0.001567885901681427),\n",
       " ('702', 0.001564908396275433),\n",
       " ('642', 0.0015584477335022248),\n",
       " ('275', 0.001557226507074494),\n",
       " ('533', 0.00155331007702456),\n",
       " ('172', 0.0015510054395056253),\n",
       " ('197', 0.001550283124500715),\n",
       " ('260', 0.0015481318369856883),\n",
       " ('475', 0.0015456592623851223),\n",
       " ('325', 0.001544656843554583),\n",
       " ('243', 0.0015424194244713272),\n",
       " ('372', 0.0015396583291182376),\n",
       " ('7', 0.0015370978471416193),\n",
       " ('582', 0.0015345886327705685),\n",
       " ('577', 0.0015314223209762273),\n",
       " ('297', 0.0015303613485668419),\n",
       " ('308', 0.001528106463511288),\n",
       " ('41', 0.0015093471859001202),\n",
       " ('97', 0.0015072704124266941),\n",
       " ('182', 0.001505120652530245),\n",
       " ('300', 0.0015031704402070586),\n",
       " ('526', 0.001500828235450746),\n",
       " ('501', 0.0014942767416323303),\n",
       " ('726', 0.0014933118801552644),\n",
       " ('392', 0.001488961992461772),\n",
       " ('115', 0.0014807692887719276),\n",
       " ('497', 0.0014766843263035675),\n",
       " ('134', 0.0014512590647100395),\n",
       " ('731', 0.001450882098070354),\n",
       " ('411', 0.0014491090141776828),\n",
       " ('92', 0.0014478774702710048),\n",
       " ('458', 0.0014450087664702245),\n",
       " ('62', 0.0014444054639278343),\n",
       " ('484', 0.0014404172115728595),\n",
       " ('748', 0.0014399762536072916),\n",
       " ('551', 0.0014391722586081961),\n",
       " ('46', 0.0014389425953730698),\n",
       " ('549', 0.0014383688606319145),\n",
       " ('283', 0.0014321024154984405),\n",
       " ('541', 0.001427892802253491),\n",
       " ('2', 0.0014244474654340339),\n",
       " ('252', 0.0014193253241901486),\n",
       " ('331', 0.0014179460818780916),\n",
       " ('507', 0.001415213667845534),\n",
       " ('679', 0.0014139087293996119),\n",
       " ('570', 0.0014129518070479872),\n",
       " ('376', 0.001412106465729037),\n",
       " ('221', 0.0014091468060176372),\n",
       " ('399', 0.0014081625534006768),\n",
       " ('727', 0.0014069220124707067),\n",
       " ('282', 0.0014030222902856593),\n",
       " ('76', 0.0013990389157883787)]"
      ]
     },
     "execution_count": 96,
     "metadata": {},
     "output_type": "execute_result"
    }
   ],
   "source": [
    "top_features_amazon_large_mean = sorted(features_amazon_large_mean.items(), key = lambda x: x[1], reverse = True)[0:100]\n",
    "top_features_amazon_mean"
   ]
  },
  {
   "cell_type": "code",
   "execution_count": 97,
   "metadata": {
    "scrolled": true
   },
   "outputs": [
    {
     "data": {
      "text/plain": [
       "[('333', 0.004057265407007137),\n",
       " ('779', 0.0033046673441905995),\n",
       " ('841', 0.003234627297532726),\n",
       " ('258', 0.0029796659972322315),\n",
       " ('669', 0.0025556080131940565),\n",
       " ('329', 0.0024503431075571),\n",
       " ('714', 0.0023933211653613742),\n",
       " ('606', 0.002329636759997121),\n",
       " ('131', 0.0022669601297186214),\n",
       " ('510', 0.0022576857423980733),\n",
       " ('241', 0.0022426260274349278),\n",
       " ('776', 0.002204372133256452),\n",
       " ('161', 0.0021995489798777973),\n",
       " ('496', 0.002179149861743875),\n",
       " ('179', 0.0019848087907335522),\n",
       " ('676', 0.0019504091693421308),\n",
       " ('793', 0.001939980582170239),\n",
       " ('861', 0.0019320017228440763),\n",
       " ('610', 0.001859946254536507),\n",
       " ('470', 0.001858916361436683),\n",
       " ('794', 0.0018349564456495355),\n",
       " ('270', 0.001773163350789475),\n",
       " ('125', 0.0017563587907950661),\n",
       " ('937', 0.0017557481222245303),\n",
       " ('240', 0.0017504679579134735),\n",
       " ('752', 0.0017420723814628681),\n",
       " ('865', 0.0017389265690863334),\n",
       " ('519', 0.001726238202029413),\n",
       " ('471', 0.0016528515699107391),\n",
       " ('771', 0.0016118079642940767),\n",
       " ('156', 0.001598577199322476),\n",
       " ('668', 0.0015975527087262328),\n",
       " ('7', 0.001595492232590357),\n",
       " ('1007', 0.0015729555741114667),\n",
       " ('896', 0.0015638000883514166),\n",
       " ('199', 0.0015558674765958939),\n",
       " ('506', 0.0015341966652515785),\n",
       " ('262', 0.0015300650455665767),\n",
       " ('525', 0.0015182540975244255),\n",
       " ('547', 0.0015095236095371816),\n",
       " ('269', 0.0014685440685115636),\n",
       " ('564', 0.0014593999846980498),\n",
       " ('92', 0.001452417137264379),\n",
       " ('832', 0.0014506661042286192),\n",
       " ('725', 0.0014441575012513563),\n",
       " ('292', 0.0014390150557404184),\n",
       " ('487', 0.001434465077114015),\n",
       " ('468', 0.001432547674419625),\n",
       " ('236', 0.0014286624290246878),\n",
       " ('871', 0.0014223611983713144),\n",
       " ('749', 0.0014106185073732933),\n",
       " ('46', 0.0014007109380591589),\n",
       " ('446', 0.0013879068301000347),\n",
       " ('22', 0.001376563387672421),\n",
       " ('726', 0.0013744099287536485),\n",
       " ('555', 0.0013580702598834293),\n",
       " ('662', 0.0013556368509505135),\n",
       " ('396', 0.0013484757891259528),\n",
       " ('730', 0.0013481731930802814),\n",
       " ('120', 0.0013465417889036116),\n",
       " ('929', 0.0013343651897474661),\n",
       " ('303', 0.0013260251193969708),\n",
       " ('891', 0.0013204260593210706),\n",
       " ('842', 0.0013172714440800486),\n",
       " ('466', 0.0013123174799332948),\n",
       " ('66', 0.0013115185605419985),\n",
       " ('447', 0.0013089287250548738),\n",
       " ('32', 0.0013080321608299624),\n",
       " ('302', 0.0013029826016665086),\n",
       " ('864', 0.0013014056029231288),\n",
       " ('1022', 0.0012968997547179353),\n",
       " ('132', 0.001294458266712713),\n",
       " ('94', 0.0012938337875170697),\n",
       " ('932', 0.001291727435598506),\n",
       " ('392', 0.0012915783657646385),\n",
       " ('178', 0.0012873356993584465),\n",
       " ('221', 0.0012864289045619705),\n",
       " ('418', 0.0012798936197654656),\n",
       " ('636', 0.001279308166947501),\n",
       " ('57', 0.0012652455193511844),\n",
       " ('225', 0.0012632499737149985),\n",
       " ('88', 0.0012585704390337764),\n",
       " ('49', 0.0012562915426725953),\n",
       " ('944', 0.0012479858076817536),\n",
       " ('782', 0.001247558862971758),\n",
       " ('388', 0.0012471497050351558),\n",
       " ('553', 0.0012376494460956575),\n",
       " ('838', 0.0012349451053869118),\n",
       " ('80', 0.0012343799746526067),\n",
       " ('541', 0.0012343780497464556),\n",
       " ('414', 0.0012316639087906044),\n",
       " ('44', 0.0012243682566963566),\n",
       " ('737', 0.0012155769336210718),\n",
       " ('360', 0.0012155758968280129),\n",
       " ('802', 0.0012119850245229506),\n",
       " ('59', 0.0012098792700741537),\n",
       " ('855', 0.0012061181471759508),\n",
       " ('191', 0.0012051219962741588),\n",
       " ('919', 0.001202852416193564),\n",
       " ('148', 0.0012017484485838186)]"
      ]
     },
     "execution_count": 97,
     "metadata": {},
     "output_type": "execute_result"
    }
   ],
   "source": [
    "top_features_google_large_mean = sorted(features_google_large_mean.items(), key = lambda x: x[1], reverse = True)[0:100]\n",
    "top_features_google_large_mean"
   ]
  },
  {
   "cell_type": "markdown",
   "metadata": {},
   "source": [
    "## BERT Large"
   ]
  },
  {
   "cell_type": "code",
   "execution_count": null,
   "metadata": {},
   "outputs": [],
   "source": [
    "# apple_cv_score_large, apple_time_large = RandomForrest_with_PCA_CV(apple_processed_BERT_mean)\n",
    "# print('Cross Validation Score is  ' + str(round(apple_cv_score_large,4)*100))\n",
    "# print('Time taken is ' + str(round(apple_time_large,4)) + ' Seconds')\n",
    "\n",
    "# print('*****************************************************/n')\n",
    "\n",
    "# amazon_cv_score_large, amazon_time_large = RandomForrest_with_PCA_CV(amazon_processed_BERT_mean)\n",
    "# print('Cross Validation Score is  ' + str(round(amazon_cv_score_large,4)*100))\n",
    "# print('Time taken is ' + str(round(amazon_time_large,4)) + ' Seconds')\n",
    "\n",
    "# print('*****************************************************/n')\n",
    "\n",
    "# google_cv_score_large, google_time_large = RandomForrest_with_PCA_CV(google_processed_BERT_mean)\n",
    "# print('Cross Validation Score is  ' + str(round(google_cv_score_large,4)*100))\n",
    "# print('Time taken is ' + str(round(google_time_large,4)) + ' Seconds')\n",
    "\n",
    "# print('*****************************************************/n')"
   ]
  },
  {
   "cell_type": "code",
   "execution_count": 99,
   "metadata": {},
   "outputs": [
    {
     "name": "stderr",
     "output_type": "stream",
     "text": [
      "/Users/haris/anaconda3/lib/python3.11/site-packages/sklearn/metrics/_classification.py:1469: UndefinedMetricWarning: Precision is ill-defined and being set to 0.0 in labels with no predicted samples. Use `zero_division` parameter to control this behavior.\n",
      "  _warn_prf(average, modifier, msg_start, len(result))\n"
     ]
    },
    {
     "name": "stdout",
     "output_type": "stream",
     "text": [
      "Accuracy is 80.94\n",
      "F1 Score is 26.36\n",
      "Precision is 45.79\n",
      "Recall is 25.69\n",
      "Time taken is 49.3881 Seconds\n",
      "*****************************************************/n\n",
      "Accuracy is 83.13000000000001\n",
      "F1 Score is 20.36\n",
      "Precision is 66.64999999999999\n",
      "Recall is 21.099999999999998\n",
      "Time taken is 190.9297 Seconds\n",
      "*****************************************************/n\n",
      "Accuracy is 79.38\n",
      "F1 Score is 22.97\n",
      "Precision is 66.27\n",
      "Recall is 22.759999999999998\n",
      "Time taken is 45.5922 Seconds\n"
     ]
    }
   ],
   "source": [
    "apple_acc_bert_large,apple_f1_bert_large,apple_prec_bert_large,apple_rec_bert_large, apple_time_bert_large,features_apple_large = RandomForrest_with_features(apple_processed_df_bert_large)\n",
    "\n",
    "print('Accuracy is ' + str(round(apple_acc_bert_large,4)*100))\n",
    "print('F1 Score is ' + str(round(apple_f1_bert_large,4)*100))\n",
    "print('Precision is ' + str(round(apple_prec_bert_large,4)*100))\n",
    "print('Recall is ' + str(round(apple_rec_bert_large,4)*100))\n",
    "print('Time taken is ' + str(round(apple_time_bert_large,4)) + ' Seconds')\n",
    "\n",
    "\n",
    "print('*****************************************************/n')\n",
    "\n",
    "amazon_acc_bert_large,amazon_f1_bert_large,amazon_prec_bert_large,amazon_rec_bert_large, amazon_time_bert_large,features_amazon_large = RandomForrest_with_features(amazon_processed_df_bert_large)\n",
    "\n",
    "print('Accuracy is ' + str(round(amazon_acc_bert_large,4)*100))\n",
    "print('F1 Score is ' + str(round(amazon_f1_bert_large,4)*100))\n",
    "print('Precision is ' + str(round(amazon_prec_bert_large,4)*100))\n",
    "print('Recall is ' + str(round(amazon_rec_bert_large,4)*100))\n",
    "print('Time taken is ' + str(round(amazon_time_bert_large,4)) + ' Seconds')\n",
    "\n",
    "\n",
    "print('*****************************************************/n')\n",
    "\n",
    "google_acc_bert_large,google_f1_bert_large,google_prec_bert_large,google_rec_bert_large, google_time_bert_large,features_google_large = RandomForrest_with_features(google_processed_df_bert_large)\n",
    "\n",
    "print('Accuracy is ' + str(round(google_acc_bert_large,4)*100))\n",
    "print('F1 Score is ' + str(round(google_f1_bert_large,4)*100))\n",
    "print('Precision is ' + str(round(google_prec_bert_large,4)*100))\n",
    "print('Recall is ' + str(round(google_rec_bert_large,4)*100))\n",
    "print('Time taken is ' + str(round(google_time_bert_large,4)) + ' Seconds')"
   ]
  },
  {
   "cell_type": "code",
   "execution_count": 100,
   "metadata": {
    "scrolled": true
   },
   "outputs": [
    {
     "data": {
      "text/plain": [
       "[('517', 0.004955228594413742),\n",
       " ('510', 0.004505836924417687),\n",
       " ('871', 0.0041223167901556015),\n",
       " ('7', 0.003770265197660906),\n",
       " ('828', 0.0036429098538945316),\n",
       " ('369', 0.0034381338977919652),\n",
       " ('749', 0.003401561421726106),\n",
       " ('448', 0.003134997803927302),\n",
       " ('340', 0.0029041985737662313),\n",
       " ('929', 0.0028900446791044203),\n",
       " ('668', 0.0028880734915540007),\n",
       " ('793', 0.002786147099550183),\n",
       " ('610', 0.002743283743280902),\n",
       " ('565', 0.002510070440225246),\n",
       " ('949', 0.002466290537975749),\n",
       " ('550', 0.002415799841425059),\n",
       " ('779', 0.0024106588781620157),\n",
       " ('669', 0.002390900835315595),\n",
       " ('198', 0.0023714815168222876),\n",
       " ('239', 0.002356472762097852),\n",
       " ('179', 0.0022904407614805066),\n",
       " ('649', 0.002258209818151832),\n",
       " ('991', 0.0022389247544529044),\n",
       " ('59', 0.0021637440552624123),\n",
       " ('911', 0.0021541419345338275),\n",
       " ('68', 0.002136658951271039),\n",
       " ('333', 0.0020943281167291466),\n",
       " ('163', 0.0020678450643822704),\n",
       " ('647', 0.0020588076125659634),\n",
       " ('841', 0.0020361427002062457),\n",
       " ('354', 0.0019611713868898043),\n",
       " ('839', 0.0019216176862978036),\n",
       " ('331', 0.0018980017761017337),\n",
       " ('267', 0.001891219581033671),\n",
       " ('937', 0.0018687003088204313),\n",
       " ('891', 0.0018665054725544197),\n",
       " ('196', 0.0018634588476195907),\n",
       " ('623', 0.0018244718374392434),\n",
       " ('984', 0.0017968845464250989),\n",
       " ('100', 0.0017775733507268403),\n",
       " ('263', 0.0017548908236722327),\n",
       " ('713', 0.0017480156149366933),\n",
       " ('644', 0.0017388283583915293),\n",
       " ('709', 0.0017062214731924168),\n",
       " ('46', 0.0017054982110167682),\n",
       " ('808', 0.0016921873428474782),\n",
       " ('594', 0.0016869032229964425),\n",
       " ('VERB_count', 0.001675138993478522),\n",
       " ('527', 0.0016630330602849898),\n",
       " ('852', 0.0016574730427912506),\n",
       " ('549', 0.0016555039936629176),\n",
       " ('664', 0.0016510796381721004),\n",
       " ('312', 0.0016399906074122167),\n",
       " ('65', 0.001616435998861604),\n",
       " ('review_len', 0.0016157425966543014),\n",
       " ('396', 0.001591792560158303),\n",
       " ('720', 0.0015782260977628764),\n",
       " ('47', 0.0015713313935681328),\n",
       " ('832', 0.0015606560765430205),\n",
       " ('627', 0.0015415695371076236),\n",
       " ('25', 0.0015214016443233064),\n",
       " ('917', 0.0015158296237776816),\n",
       " ('908', 0.0015124183436577324),\n",
       " ('830', 0.0015102899831337996),\n",
       " ('199', 0.001494379616429332),\n",
       " ('528', 0.0014894462122898577),\n",
       " ('92', 0.0014723065975968618),\n",
       " ('9', 0.0014686653869340862),\n",
       " ('166', 0.0014419844012426286),\n",
       " ('606', 0.001439464269225122),\n",
       " ('888', 0.0014347098423496474),\n",
       " ('771', 0.0014134929565842852),\n",
       " ('798', 0.0014023837369267261),\n",
       " ('322', 0.0014002010746242254),\n",
       " ('877', 0.0013923727439775384),\n",
       " ('377', 0.0013828711110156317),\n",
       " ('292', 0.001381862387771394),\n",
       " ('861', 0.0013804071078517745),\n",
       " ('189', 0.0013757569093789319),\n",
       " ('211', 0.0013750614256097954),\n",
       " ('241', 0.0013731770109224927),\n",
       " ('557', 0.0013692509158170338),\n",
       " ('NOUN_count', 0.001367661255659016),\n",
       " ('397', 0.00136257792513865),\n",
       " ('554', 0.0013620345324852382),\n",
       " ('859', 0.0013576536365909556),\n",
       " ('168', 0.0013492042139376136),\n",
       " ('22', 0.00134641007706142),\n",
       " ('511', 0.0013462316247934304),\n",
       " ('995', 0.0013358425311259547),\n",
       " ('210', 0.0013342266451798735),\n",
       " ('714', 0.001321121709094256),\n",
       " ('1007', 0.0013031296538485075),\n",
       " ('587', 0.0013011883695850466),\n",
       " ('776', 0.0013005089741123291),\n",
       " ('758', 0.0013001647658215942),\n",
       " ('846', 0.0012964622918195156),\n",
       " ('795', 0.001292556312960755),\n",
       " ('204', 0.0012915131479422004),\n",
       " ('770', 0.0012889816783685467)]"
      ]
     },
     "execution_count": 100,
     "metadata": {},
     "output_type": "execute_result"
    }
   ],
   "source": [
    "top_features_apple_large = sorted(features_apple_large.items(), key = lambda x: x[1], reverse = True)[0:100]\n",
    "top_features_apple_large"
   ]
  },
  {
   "cell_type": "code",
   "execution_count": 101,
   "metadata": {
    "scrolled": true
   },
   "outputs": [
    {
     "data": {
      "text/plain": [
       "[('negate', 0.005223358180748212),\n",
       " ('differ', 0.00474445002441084),\n",
       " ('cogproc', 0.002538628396298205),\n",
       " ('644', 0.0025335396110180365),\n",
       " ('832', 0.002454120083691591),\n",
       " ('841', 0.0023190884036769633),\n",
       " ('852', 0.0022109081742938126),\n",
       " ('929', 0.0022103529994651626),\n",
       " ('871', 0.002082733889201047),\n",
       " ('267', 0.0019765483590792636),\n",
       " ('776', 0.0019719183517494985),\n",
       " ('861', 0.001822555438948009),\n",
       " ('949', 0.0018208602509766074),\n",
       " ('verb', 0.001795231040697074),\n",
       " ('510', 0.0017922133488334226),\n",
       " ('517', 0.0017867632845564938),\n",
       " ('Clout', 0.001778572960309962),\n",
       " ('720', 0.001740600020962703),\n",
       " ('258', 0.0017036413608232338),\n",
       " ('448', 0.0016820270390606419),\n",
       " ('210', 0.0016802013867205916),\n",
       " ('affiliation', 0.0016604304500209303),\n",
       " ('bio', 0.0016024394577741656),\n",
       " ('275', 0.0015969530953220722),\n",
       " ('8', 0.0015764214541432737),\n",
       " ('895', 0.0015760082893214705),\n",
       " ('369', 0.0015644508920755207),\n",
       " ('587', 0.0015530446516482954),\n",
       " ('669', 0.0015455829054781306),\n",
       " ('340', 0.0015220423150639957),\n",
       " ('7', 0.0015210616533359459),\n",
       " ('749', 0.0014959078801368411),\n",
       " ('179', 0.0014841262595766292),\n",
       " ('548', 0.0014783892825497138),\n",
       " ('354', 0.0014577969736964472),\n",
       " ('610', 0.0014493749543150944),\n",
       " ('284', 0.001445695894005681),\n",
       " ('837', 0.0014196990836589838),\n",
       " ('149', 0.0014179626371002868),\n",
       " ('891', 0.001414535847932097),\n",
       " ('446', 0.0014136437812173738),\n",
       " ('59', 0.0014132831580463937),\n",
       " ('333', 0.0014123425948002761),\n",
       " ('907', 0.0013923083619983292),\n",
       " ('344', 0.001385100457050734),\n",
       " ('865', 0.0013773238827301335),\n",
       " ('322', 0.001374054391865504),\n",
       " ('771', 0.0013713893653719647),\n",
       " ('tentat', 0.0013637540073522523),\n",
       " ('253', 0.0013582870385821144),\n",
       " ('917', 0.001345208620412696),\n",
       " ('329', 0.0013412762688898685),\n",
       " ('793', 0.0013399872529569847),\n",
       " ('82', 0.0013295934523993142),\n",
       " ('615', 0.0013267260437675485),\n",
       " ('465', 0.0013260897948994413),\n",
       " ('627', 0.0013191110185555098),\n",
       " ('371', 0.001309620989967059),\n",
       " ('263', 0.0013079614821870339),\n",
       " ('161', 0.001300739961047268),\n",
       " ('277', 0.0012958822344936777),\n",
       " ('589', 0.001274033871417255),\n",
       " ('998', 0.0012648230645945177),\n",
       " ('830', 0.0012591175714444258),\n",
       " ('236', 0.0012568585122772378),\n",
       " ('714', 0.0012558001374496372),\n",
       " ('25', 0.0012512987923159172),\n",
       " ('549', 0.0012469546634980514),\n",
       " ('190', 0.0012466472109687993),\n",
       " ('558', 0.0012377380876137016),\n",
       " ('973', 0.0012336993109097127),\n",
       " ('92', 0.0012280981736064636),\n",
       " ('937', 0.0012200940108352861),\n",
       " ('562', 0.0012178510396762216),\n",
       " ('342', 0.0012174793194475644),\n",
       " ('786', 0.0012047567603023222),\n",
       " ('514', 0.0012047337498863173),\n",
       " ('537', 0.0012040334530865051),\n",
       " ('225', 0.0012029412413956007),\n",
       " ('730', 0.0011986415360882795),\n",
       " ('160', 0.0011932805265924896),\n",
       " ('9', 0.0011901911052534199),\n",
       " ('75', 0.0011896702241066034),\n",
       " ('752', 0.0011879799880603345),\n",
       " ('598', 0.0011875298102056015),\n",
       " ('779', 0.0011865245951521754),\n",
       " ('647', 0.00118643725058375),\n",
       " ('984', 0.0011846148670066957),\n",
       " ('241', 0.0011811124148073066),\n",
       " ('1013', 0.0011768581367066519),\n",
       " ('657', 0.0011764020760857367),\n",
       " ('801', 0.0011756339383716147),\n",
       " ('818', 0.0011692819466611532),\n",
       " ('995', 0.0011685538231535645),\n",
       " ('682', 0.0011670442870107599),\n",
       " ('239', 0.001161739050186249),\n",
       " ('685', 0.0011535097788771067),\n",
       " ('668', 0.0011493209194529236),\n",
       " ('50', 0.0011447949314724055),\n",
       " ('974', 0.0011447924365557793)]"
      ]
     },
     "execution_count": 101,
     "metadata": {},
     "output_type": "execute_result"
    }
   ],
   "source": [
    "top_features_amazon_large = sorted(features_amazon_large.items(), key = lambda x: x[1], reverse = True)[0:100]\n",
    "top_features_amazon_large"
   ]
  },
  {
   "cell_type": "code",
   "execution_count": 102,
   "metadata": {
    "scrolled": true
   },
   "outputs": [
    {
     "data": {
      "text/plain": [
       "[('669', 0.003224202714675975),\n",
       " ('510', 0.0028659246489431654),\n",
       " ('832', 0.002839580698475774),\n",
       " ('448', 0.0028154856856362335),\n",
       " ('7', 0.002746376934251169),\n",
       " ('949', 0.002546771835232736),\n",
       " ('929', 0.0023220714845519365),\n",
       " ('340', 0.002158358492412847),\n",
       " ('644', 0.001975347083982662),\n",
       " ('841', 0.0019618190729588127),\n",
       " ('65', 0.0019264100604656279),\n",
       " ('241', 0.0019196964029105088),\n",
       " ('776', 0.001839832666721939),\n",
       " ('239', 0.0018396890784613566),\n",
       " ('22', 0.0018343809418170263),\n",
       " ('565', 0.0018332637045886163),\n",
       " ('771', 0.0018154367380137334),\n",
       " ('179', 0.0017955841755285021),\n",
       " ('517', 0.0017833015801701439),\n",
       " ('871', 0.001765431146693833),\n",
       " ('275', 0.0017635763152070425),\n",
       " ('730', 0.0017271672243834263),\n",
       " ('369', 0.001722515783384755),\n",
       " ('333', 0.001709364449166419),\n",
       " ('749', 0.0017001231977474137),\n",
       " ('217', 0.0016733520119691816),\n",
       " ('895', 0.0016314557677264178),\n",
       " ('606', 0.0016295138021404775),\n",
       " ('865', 0.0016034568594477435),\n",
       " ('331', 0.001579282815007862),\n",
       " ('610', 0.0015749683770194059),\n",
       " ('190', 0.0015744811231117287),\n",
       " ('984', 0.0015680863817129865),\n",
       " ('465', 0.0015577316511394483),\n",
       " ('852', 0.0015518157786128485),\n",
       " ('59', 0.0015489021345076695),\n",
       " ('161', 0.0015384176377329765),\n",
       " ('668', 0.0015376178966141898),\n",
       " ('93', 0.0015364492147629902),\n",
       " ('32', 0.0015209187399454125),\n",
       " ('786', 0.00147313251948614),\n",
       " ('160', 0.0014669973687147528),\n",
       " ('548', 0.0014519653259326452),\n",
       " ('997', 0.0014467100347040395),\n",
       " ('92', 0.0014408854274679359),\n",
       " ('577', 0.0014404942611476834),\n",
       " ('46', 0.0014376937160733472),\n",
       " ('108', 0.0014291596515801758),\n",
       " ('540', 0.001428373186217433),\n",
       " ('720', 0.0014222432608360627),\n",
       " ('779', 0.0014142586739677968),\n",
       " ('828', 0.0014107777820942398),\n",
       " ('322', 0.0014104781284101304),\n",
       " ('629', 0.0014015796189481037),\n",
       " ('83', 0.0013883360965208796),\n",
       " ('917', 0.0013670405655603368),\n",
       " ('514', 0.0013617396400307546),\n",
       " ('284', 0.0013564216666777833),\n",
       " ('45', 0.0013541433972611508),\n",
       " ('354', 0.0013528178805928667),\n",
       " ('891', 0.001352698836040623),\n",
       " ('312', 0.0013516593677835925),\n",
       " ('975', 0.001346665141855428),\n",
       " ('664', 0.001340732739791967),\n",
       " ('893', 0.0013404383599087432),\n",
       " ('558', 0.0013400780978739032),\n",
       " ('104', 0.0013353264398155706),\n",
       " ('246', 0.001313156127193917),\n",
       " ('808', 0.0013099807808849332),\n",
       " ('267', 0.0013096474708649095),\n",
       " ('996', 0.0013096128586471965),\n",
       " ('861', 0.0013038954912170605),\n",
       " ('849', 0.0012981413618069503),\n",
       " ('144', 0.0012863042695330617),\n",
       " ('726', 0.0012852786591279932),\n",
       " ('503', 0.0012850595371784329),\n",
       " ('793', 0.0012785603783851012),\n",
       " ('541', 0.0012782108703828805),\n",
       " ('782', 0.001276074935244629),\n",
       " ('839', 0.001266053724042248),\n",
       " ('329', 0.0012650516370234638),\n",
       " ('859', 0.0012615951698018923),\n",
       " ('1020', 0.0012612194110604865),\n",
       " ('464', 0.0012572350204237616),\n",
       " ('907', 0.0012560439285809939),\n",
       " ('636', 0.0012527290588894389),\n",
       " ('188', 0.0012517717004132537),\n",
       " ('550', 0.0012515374034452035),\n",
       " ('523', 0.001251434951528823),\n",
       " ('536', 0.00123956629810935),\n",
       " ('587', 0.0012365330025080877),\n",
       " ('68', 0.0012354643243734657),\n",
       " ('500', 0.0012335401011646257),\n",
       " ('254', 0.0012318326002489454),\n",
       " ('820', 0.0012310481643757012),\n",
       " ('575', 0.0012281208842085344),\n",
       " ('193', 0.0012214692464024921),\n",
       " ('210', 0.001215683679122612),\n",
       " ('607', 0.00121512547604244),\n",
       " ('403', 0.0012107954191518991)]"
      ]
     },
     "execution_count": 102,
     "metadata": {},
     "output_type": "execute_result"
    }
   ],
   "source": [
    "top_features_google_large = sorted(features_google_large.items(), key = lambda x: x[1], reverse = True)[0:100]\n",
    "top_features_google_large"
   ]
  },
  {
   "cell_type": "markdown",
   "metadata": {},
   "source": [
    "## TF-IDF Implementation"
   ]
  },
  {
   "cell_type": "code",
   "execution_count": 103,
   "metadata": {},
   "outputs": [],
   "source": [
    "def tf_idf_df(df,df_liwc, stop_words):\n",
    "\n",
    "    selected_tfidf_reviews,Llen = cleaning_reviews(df,stop_words)\n",
    "    tfidf_vectorizer = TfidfVectorizer(stop_words=stop_words)\n",
    "    tfidf_matrix = tfidf_vectorizer.fit_transform(selected_tfidf_reviews)\n",
    "\n",
    "    tfidf_arr = tfidf_matrix.toarray()\n",
    "\n",
    "    vocab = list(tfidf_vectorizer.get_feature_names_out())\n",
    "    tf_idf_df = pd.DataFrame(tfidf_arr, columns=vocab)\n",
    "    \n",
    "    n_gram_df = top_ngrams_df(selected_tfidf_reviews, 100, (2,2))\n",
    "    \n",
    "    combined_df = pd.concat([tf_idf_df,n_gram_df], axis = 1)\n",
    "    \n",
    "    for col_liwc in df_liwc.columns[5:]:\n",
    "        combined_df[col_liwc] = df_liwc[0:len(combined_df)][col_liwc] \n",
    "    \n",
    "    pos_cols = ['VERB_count','NOUN_count','ADJ_count','OwnedFor','OwnedCategorized']\n",
    "\n",
    "    for col in pos_cols:\n",
    "        combined_df[col] = df[0:len(combined_df)][col]\n",
    "    \n",
    "    combined_df['review_len'] = Llen\n",
    "    combined_df['Rating'] = df['Rating']\n",
    "    cols_list = []\n",
    "\n",
    "    for col in combined_df.columns:\n",
    "        cols_list.append(str(col))\n",
    "\n",
    "    combined_df.columns = cols_list\n",
    "    \n",
    "    return combined_df\n"
   ]
  },
  {
   "cell_type": "code",
   "execution_count": 105,
   "metadata": {},
   "outputs": [
    {
     "name": "stderr",
     "output_type": "stream",
     "text": [
      "/var/folders/7k/9hch0q794xqdgy99gw9ytbgw0000gn/T/ipykernel_5650/3685118944.py:24: PerformanceWarning: DataFrame is highly fragmented.  This is usually the result of calling `frame.insert` many times, which has poor performance.  Consider joining all columns at once using pd.concat(axis=1) instead. To get a de-fragmented frame, use `newframe = frame.copy()`\n",
      "  combined_df['review_len'] = Llen\n",
      "/var/folders/7k/9hch0q794xqdgy99gw9ytbgw0000gn/T/ipykernel_5650/3685118944.py:25: PerformanceWarning: DataFrame is highly fragmented.  This is usually the result of calling `frame.insert` many times, which has poor performance.  Consider joining all columns at once using pd.concat(axis=1) instead. To get a de-fragmented frame, use `newframe = frame.copy()`\n",
      "  combined_df['Rating'] = df['Rating']\n",
      "/var/folders/7k/9hch0q794xqdgy99gw9ytbgw0000gn/T/ipykernel_5650/3685118944.py:24: PerformanceWarning: DataFrame is highly fragmented.  This is usually the result of calling `frame.insert` many times, which has poor performance.  Consider joining all columns at once using pd.concat(axis=1) instead. To get a de-fragmented frame, use `newframe = frame.copy()`\n",
      "  combined_df['review_len'] = Llen\n",
      "/var/folders/7k/9hch0q794xqdgy99gw9ytbgw0000gn/T/ipykernel_5650/3685118944.py:25: PerformanceWarning: DataFrame is highly fragmented.  This is usually the result of calling `frame.insert` many times, which has poor performance.  Consider joining all columns at once using pd.concat(axis=1) instead. To get a de-fragmented frame, use `newframe = frame.copy()`\n",
      "  combined_df['Rating'] = df['Rating']\n",
      "/var/folders/7k/9hch0q794xqdgy99gw9ytbgw0000gn/T/ipykernel_5650/3685118944.py:24: PerformanceWarning: DataFrame is highly fragmented.  This is usually the result of calling `frame.insert` many times, which has poor performance.  Consider joining all columns at once using pd.concat(axis=1) instead. To get a de-fragmented frame, use `newframe = frame.copy()`\n",
      "  combined_df['review_len'] = Llen\n",
      "/var/folders/7k/9hch0q794xqdgy99gw9ytbgw0000gn/T/ipykernel_5650/3685118944.py:25: PerformanceWarning: DataFrame is highly fragmented.  This is usually the result of calling `frame.insert` many times, which has poor performance.  Consider joining all columns at once using pd.concat(axis=1) instead. To get a de-fragmented frame, use `newframe = frame.copy()`\n",
      "  combined_df['Rating'] = df['Rating']\n"
     ]
    }
   ],
   "source": [
    "apple_tfidf_ngram_df = tf_idf_df(apple_df, apple_df_liwc, stop_words)\n",
    "amazon_tfidf_ngram_df = tf_idf_df(amazon_df,amazon_df_liwc, stop_words)\n",
    "google_tfidf_ngram_df = tf_idf_df(google_df,google_df_liwc, stop_words)\n"
   ]
  },
  {
   "cell_type": "code",
   "execution_count": null,
   "metadata": {},
   "outputs": [],
   "source": [
    "# apple_cv_score_tf, apple_time_tf = RandomForrest_with_PCA_CV(apple_tfidf_ngram_df)\n",
    "# print('Cross Validation Score is  ' + str(round(apple_cv_score_tf,4)*100))\n",
    "# print('Time taken is ' + str(round(apple_time_tf,4)) + ' Seconds')\n",
    "\n",
    "# print('*****************************************************/n')\n",
    "\n",
    "# amazon_cv_score_tf, amazon_time_tf = RandomForrest_with_PCA_CV(amazon_tfidf_ngram_df)\n",
    "# print('Cross Validation Score is  ' + str(round(amazon_cv_score_tf,4)*100))\n",
    "# print('Time taken is ' + str(round(amazon_time_tf,4)) + ' Seconds')\n",
    "\n",
    "# print('*****************************************************/n')\n",
    "\n",
    "# google_cv_score_tf, google_time_tf = RandomForrest_with_PCA_CV(google_tfidf_ngram_df)\n",
    "# print('Cross Validation Score is  ' + str(round(google_cv_score_tf,4)*100))\n",
    "# print('Time taken is ' + str(round(google_time_tf,4)) + ' Seconds')\n",
    "\n"
   ]
  },
  {
   "cell_type": "code",
   "execution_count": 195,
   "metadata": {},
   "outputs": [
    {
     "name": "stdout",
     "output_type": "stream",
     "text": [
      "Accuracy is 80.64\n",
      "F1 Score is 20.91\n",
      "Precision is 47.510000000000005\n",
      "Recall is 21.560000000000002\n",
      "Time taken is 19.2325 Seconds\n",
      "*****************************************************/n\n",
      "Accuracy is 83.13000000000001\n",
      "F1 Score is 19.35\n",
      "Precision is 60.75000000000001\n",
      "Recall is 20.59\n",
      "Time taken is 54.3962 Seconds\n",
      "*****************************************************/n\n",
      "Accuracy is 78.67\n",
      "F1 Score is 18.029999999999998\n",
      "Precision is 21.349999999999998\n",
      "Recall is 20.169999999999998\n",
      "Time taken is 18.8968 Seconds\n"
     ]
    }
   ],
   "source": [
    "apple_acc_tf,apple_f1_tf, apple_prec_tf, apple_rec_tf, apple_time_tf,features_apple_tfidf = RandomForrest_with_features(apple_tfidf_ngram_df)\n",
    "\n",
    "print('Accuracy is ' + str(round(apple_acc_tf,4)*100))\n",
    "print('F1 Score is ' + str(round(apple_f1_tf,4)*100))\n",
    "print('Precision is ' + str(round(apple_prec_tf,4)*100))\n",
    "print('Recall is ' + str(round(apple_rec_tf,4)*100))\n",
    "\n",
    "print('Time taken is ' + str(round(apple_time_tf,4)) + ' Seconds')\n",
    "\n",
    "print('*****************************************************/n')\n",
    "\n",
    "amazon_acc_tf, amazon_f1_tf, amazon_prec_tf, amazon_rec_tf, amazon_time_tf,features_amazon_tfidf = RandomForrest_with_features(amazon_tfidf_ngram_df)\n",
    "\n",
    "print('Accuracy is ' + str(round(amazon_acc_tf,4)*100))\n",
    "print('F1 Score is ' + str(round(amazon_f1_tf,4)*100))\n",
    "print('Precision is ' + str(round(amazon_prec_tf,4)*100))\n",
    "print('Recall is ' + str(round(amazon_rec_tf,4)*100))\n",
    "\n",
    "print('Time taken is ' + str(round(amazon_time_tf,4)) + ' Seconds')\n",
    "\n",
    "print('*****************************************************/n')\n",
    "\n",
    "google_acc_tf,google_f1_tf, google_prec_tf, google_rec_tf, google_time_tf, features_google_tfidf = RandomForrest_with_features(google_tfidf_ngram_df)\n",
    "\n",
    "\n",
    "print('Accuracy is ' + str(round(google_acc_tf,4)*100))\n",
    "print('F1 Score is ' + str(round(google_f1_tf,4)*100))\n",
    "print('Precision is ' + str(round(google_prec_tf,4)*100))\n",
    "print('Recall is ' + str(round(google_rec_tf,4)*100))\n",
    "\n",
    "print('Time taken is ' + str(round(google_time_tf,4)) + ' Seconds')"
   ]
  },
  {
   "cell_type": "code",
   "execution_count": 196,
   "metadata": {
    "scrolled": true
   },
   "outputs": [
    {
     "data": {
      "text/plain": [
       "[('review_len', 0.009034620277091617),\n",
       " ('VERB_count', 0.008557039371515984),\n",
       " ('NOUN_count', 0.007830610684558306),\n",
       " ('good', 0.007692847934132072),\n",
       " ('stars', 0.007277195294531953),\n",
       " ('WPS', 0.006579973716080085),\n",
       " ('Dic', 0.006343130667922992),\n",
       " ('affect', 0.006341342906622167),\n",
       " ('prep', 0.006090364755993284),\n",
       " ('WC', 0.005990933040532425),\n",
       " ('drives', 0.0059641901891720915),\n",
       " ('Sixltr', 0.0059496649050404275),\n",
       " ('verb', 0.0059463407550334815),\n",
       " ('great', 0.005942897108132193),\n",
       " ('function', 0.005871769333437533),\n",
       " ('sound', 0.005839342178245634),\n",
       " ('ADJ_count', 0.005833255527750975),\n",
       " ('adj', 0.005799824350830818),\n",
       " ('focuspresent', 0.005789244498546563),\n",
       " ('posemo', 0.005766227092838371),\n",
       " ('love', 0.005702614155440116),\n",
       " ('relativ', 0.005666232334215106),\n",
       " ('Analytic', 0.005651078933989155),\n",
       " ('Clout', 0.00561910544084035),\n",
       " ('cogproc', 0.005608654159867507),\n",
       " ('article', 0.005551839017796371),\n",
       " ('AllPunc', 0.005506056880397998),\n",
       " ('Authentic', 0.005486268275770692),\n",
       " ('conj', 0.005482840502973121),\n",
       " ('pronoun', 0.005481009274175777),\n",
       " ('however', 0.005375849342471119),\n",
       " ('ppron', 0.005368761221010606),\n",
       " ('Period', 0.005364758873874847),\n",
       " ('social', 0.005323770152248822),\n",
       " ('auxverb', 0.005265585958763386),\n",
       " ('percept', 0.005253633963154008),\n",
       " ('ipron', 0.005218346385240839),\n",
       " ('space', 0.005168780412623772),\n",
       " ('adverb', 0.0050355321344256465),\n",
       " ('hear', 0.005028470366220122),\n",
       " ('reward', 0.004686338201426376),\n",
       " ('bluetooth', 0.00465577427941528),\n",
       " ('i', 0.0044529024575656),\n",
       " ('sometimes', 0.004368558089218965),\n",
       " ('money', 0.00434837821008843),\n",
       " ('differ', 0.004280867060103312),\n",
       " ('time', 0.00407172103360712),\n",
       " ('returned', 0.003991297991397721),\n",
       " ('work', 0.003898501280281925),\n",
       " ('power', 0.0038601155779023188),\n",
       " ('would', 0.0038588053786904864),\n",
       " ('like', 0.003848039192592847),\n",
       " ('compare', 0.0037991296316538196),\n",
       " ('achieve', 0.0037350933461465135),\n",
       " ('OwnedCategorized', 0.003668834398105827),\n",
       " ('focuspast', 0.0036527347026769374),\n",
       " ('cause', 0.0036285441467807894),\n",
       " ('quant', 0.0035773064114416235),\n",
       " ('number', 0.003505848439882557),\n",
       " ('still', 0.0035004898888724646),\n",
       " ('certain', 0.0034848126232610477),\n",
       " ('bio', 0.0034408735503149808),\n",
       " ('home', 0.0033720913127102486),\n",
       " ('tentat', 0.003312461600099414),\n",
       " ('affiliation', 0.00325627300198805),\n",
       " ('discrep', 0.003230674846811046),\n",
       " ('leisure', 0.00316558346689159),\n",
       " ('could', 0.003076306242535875),\n",
       " ('speaker', 0.003046342155569529),\n",
       " ('Apostro', 0.0029899730644516696),\n",
       " ('Tone', 0.002924932991021982),\n",
       " ('disappointed', 0.0029030567712330364),\n",
       " ('negate', 0.002859617246627405),\n",
       " ('bit', 0.0028406940283614186),\n",
       " ('issue', 0.0027944704996296305),\n",
       " ('easy', 0.0027373666671516423),\n",
       " ('Exclam', 0.0027359096507025248),\n",
       " ('limited', 0.002731241835565233),\n",
       " ('though', 0.002722274721433094),\n",
       " ('get', 0.0027022220784855278),\n",
       " ('star', 0.002637523438604399),\n",
       " ('quality', 0.002628677137846248),\n",
       " ('insight', 0.002570732967660119),\n",
       " ('amazing', 0.002561873854966432),\n",
       " ('motion', 0.0025257465434866144),\n",
       " ('decent', 0.0024805192311304768),\n",
       " ('ok', 0.0024541334481702885),\n",
       " ('annoying', 0.002401239408099079),\n",
       " ('you', 0.0023948222046745677),\n",
       " ('informal', 0.002340165529053648),\n",
       " ('wish', 0.0022887349626103796),\n",
       " ('hard', 0.0022711118088379082),\n",
       " ('wireless', 0.002242896401072915),\n",
       " ('issues', 0.0022336643861939937),\n",
       " ('music', 0.002210374269578144),\n",
       " ('overall', 0.0022060025850412124),\n",
       " ('focusfuture', 0.0021944508712957358),\n",
       " ('interrog', 0.002130690433262898),\n",
       " ('they', 0.002117469201417496),\n",
       " ('spotify', 0.0021087062848672237)]"
      ]
     },
     "execution_count": 196,
     "metadata": {},
     "output_type": "execute_result"
    }
   ],
   "source": [
    "top_features_apple_tf = sorted(features_apple_tfidf.items(), key = lambda x: x[1], reverse = True)[0:100]\n",
    "top_features_apple_tf"
   ]
  },
  {
   "cell_type": "code",
   "execution_count": 197,
   "metadata": {
    "scrolled": true
   },
   "outputs": [
    {
     "data": {
      "text/plain": [
       "[('cogproc', 0.010878497252147555),\n",
       " ('verb', 0.010565832778072581),\n",
       " ('differ', 0.010553702008279103),\n",
       " ('Clout', 0.010138285205764817),\n",
       " ('negate', 0.009905120820430253),\n",
       " ('posemo', 0.009441017907794344),\n",
       " ('function', 0.009418623201705991),\n",
       " ('WPS', 0.009175190172861529),\n",
       " ('Analytic', 0.009031464976821594),\n",
       " ('affect', 0.008846008641352416),\n",
       " ('focuspresent', 0.008593289348130124),\n",
       " ('Sixltr', 0.008498421903425887),\n",
       " ('prep', 0.008449786974241293),\n",
       " ('Dic', 0.008423320088504136),\n",
       " ('AllPunc', 0.008381342269939819),\n",
       " ('drives', 0.008347767605125402),\n",
       " ('ppron', 0.008330217778514426),\n",
       " ('Period', 0.008175092679698525),\n",
       " ('pronoun', 0.00817177550724962),\n",
       " ('auxverb', 0.008136362162853307),\n",
       " ('ipron', 0.008106284532937576),\n",
       " ('adj', 0.008059752143489548),\n",
       " ('social', 0.007825787891316984),\n",
       " ('Authentic', 0.007802077751636775),\n",
       " ('conj', 0.00774038448874634),\n",
       " ('WC', 0.00771640700245023),\n",
       " ('relativ', 0.007670985364226602),\n",
       " ('article', 0.007501043189573227),\n",
       " ('review_len', 0.0074448694625436655),\n",
       " ('NOUN_count', 0.006849649455264409),\n",
       " ('i', 0.00679650410126256),\n",
       " ('tentat', 0.006693705599839715),\n",
       " ('reward', 0.006683308564801757),\n",
       " ('VERB_count', 0.006593814481906676),\n",
       " ('adverb', 0.006500146782938722),\n",
       " ('percept', 0.0064872260733873175),\n",
       " ('ADJ_count', 0.006213544628390667),\n",
       " ('space', 0.006067523449872806),\n",
       " ('cause', 0.005933737126534799),\n",
       " ('affiliation', 0.005842477293793719),\n",
       " ('time', 0.005838109930421595),\n",
       " ('hear', 0.0057714644378270485),\n",
       " ('bio', 0.005624553243866054),\n",
       " ('compare', 0.005561229747411482),\n",
       " ('Tone', 0.0055570250422350125),\n",
       " ('focuspast', 0.0055275876645043565),\n",
       " ('OwnedCategorized', 0.005470355969203144),\n",
       " ('discrep', 0.005234679297009673),\n",
       " ('achieve', 0.005232160159996545),\n",
       " ('Apostro', 0.005214726777784327),\n",
       " ('good', 0.005176538628911803),\n",
       " ('love', 0.005078676698601798),\n",
       " ('great', 0.004965180128483828),\n",
       " ('work', 0.004946643796312132),\n",
       " ('money', 0.004879303273869235),\n",
       " ('quant', 0.004817031171909944),\n",
       " ('leisure', 0.004530768654833986),\n",
       " ('Exclam', 0.004472952372161304),\n",
       " ('certain', 0.0043752069261342175),\n",
       " ('power', 0.004329430367942758),\n",
       " ('home', 0.004047834474983498),\n",
       " ('insight', 0.003983920593185235),\n",
       " ('use', 0.0038075100996055517),\n",
       " ('interrog', 0.0037576911088400408),\n",
       " ('informal', 0.003495025539237314),\n",
       " ('focusfuture', 0.0033837731900174563),\n",
       " ('negemo', 0.0032035209146188725),\n",
       " ('sometimes', 0.003194157567398866),\n",
       " ('number', 0.0031940463206949336),\n",
       " ('like', 0.00313065277923711),\n",
       " ('music', 0.0030812276679714444),\n",
       " ('easy', 0.0030206825735767887),\n",
       " ('motion', 0.0030195541828954226),\n",
       " ('works', 0.0030071983249564125),\n",
       " ('sound', 0.0029760103603492863),\n",
       " ('nice', 0.0028645921446144584),\n",
       " ('speaker', 0.0028279734882135626),\n",
       " ('you', 0.0027901914645064338),\n",
       " ('ok', 0.002637829084356663),\n",
       " ('product', 0.002501477200325357),\n",
       " ('see', 0.0024529535370523296),\n",
       " ('free', 0.0023920256549977746),\n",
       " ('nonflu', 0.0022003039422283863),\n",
       " ('one', 0.0021594429089614627),\n",
       " ('quality', 0.002157872946950375),\n",
       " ('better', 0.0020719675950246342),\n",
       " ('risk', 0.002006125158603655),\n",
       " ('well', 0.0019929961293157668),\n",
       " ('still', 0.0019835761030154186),\n",
       " ('device', 0.001951281242198353),\n",
       " ('family', 0.0019244530520044858),\n",
       " ('little', 0.00190791277728816),\n",
       " ('smart', 0.0018760321040784983),\n",
       " ('feel', 0.0018552161154473516),\n",
       " ('set', 0.001849648192318181),\n",
       " ('price', 0.001831506853225303),\n",
       " ('shehe', 0.001827847533482611),\n",
       " ('would', 0.001823875437029437),\n",
       " ('they', 0.0018114495873343761),\n",
       " ('tv', 0.0017975336484517658)]"
      ]
     },
     "execution_count": 197,
     "metadata": {},
     "output_type": "execute_result"
    }
   ],
   "source": [
    "top_features_amazon_tf = sorted(features_amazon_tfidf.items(), key = lambda x: x[1], reverse = True)[0:100]\n",
    "top_features_amazon_tf"
   ]
  },
  {
   "cell_type": "code",
   "execution_count": 198,
   "metadata": {
    "scrolled": true
   },
   "outputs": [
    {
     "data": {
      "text/plain": [
       "[('sometimes', 0.0073096011036799845),\n",
       " ('verb', 0.007252641784253095),\n",
       " ('cogproc', 0.007210012551269113),\n",
       " ('prep', 0.0071457538603509115),\n",
       " ('WPS', 0.007121546407823655),\n",
       " ('posemo', 0.006952639544224939),\n",
       " ('review_len', 0.006930648576489614),\n",
       " ('function', 0.0068100911668355765),\n",
       " ('Analytic', 0.006805072244314985),\n",
       " ('Dic', 0.0067744045438283),\n",
       " ('pronoun', 0.006772319239921384),\n",
       " ('Clout', 0.006703012118690131),\n",
       " ('VERB_count', 0.006699090404138392),\n",
       " ('drives', 0.006645643642884344),\n",
       " ('Sixltr', 0.006601663895273946),\n",
       " ('AllPunc', 0.006551776120299729),\n",
       " ('focuspresent', 0.006398265847073929),\n",
       " ('adj', 0.006274308104221735),\n",
       " ('social', 0.006232976841200604),\n",
       " ('conj', 0.006216836513688644),\n",
       " ('WC', 0.006211429562766524),\n",
       " ('affect', 0.006201848633821324),\n",
       " ('Authentic', 0.0061958716988061826),\n",
       " ('NOUN_count', 0.006103798416758455),\n",
       " ('auxverb', 0.006042771308652453),\n",
       " ('relativ', 0.0060369010475304),\n",
       " ('ppron', 0.005975646271151488),\n",
       " ('Period', 0.005935915080422335),\n",
       " ('love', 0.005826809005596678),\n",
       " ('percept', 0.005810022382650228),\n",
       " ('ipron', 0.005782362685298233),\n",
       " ('article', 0.005775320082814349),\n",
       " ('great', 0.0057499837571460995),\n",
       " ('ok', 0.005747019309454026),\n",
       " ('adverb', 0.0055717940312550885),\n",
       " ('good', 0.0054564277323667625),\n",
       " ('space', 0.005373178907106316),\n",
       " ('reward', 0.00517390282303177),\n",
       " ('OwnedCategorized', 0.004905129232178357),\n",
       " ('ADJ_count', 0.0048251553422615405),\n",
       " ('cause', 0.0048116215067597595),\n",
       " ('i', 0.004752345386759885),\n",
       " ('hear', 0.0045303255900330614),\n",
       " ('focuspast', 0.004523923606482489),\n",
       " ('achieve', 0.004506949985607081),\n",
       " ('differ', 0.004490747258711113),\n",
       " ('quant', 0.004447741458273343),\n",
       " ('work', 0.004419527983342614),\n",
       " ('time', 0.004312266391215662),\n",
       " ('power', 0.004295948459372753),\n",
       " ('compare', 0.004274664623250412),\n",
       " ('affiliation', 0.004249266611611534),\n",
       " ('home', 0.0038954198459069896),\n",
       " ('certain', 0.0038484745092462217),\n",
       " ('tentat', 0.0037506743470724874),\n",
       " ('number', 0.003699357482642486),\n",
       " ('leisure', 0.0036752851558052462),\n",
       " ('money', 0.003504877537445437),\n",
       " ('discrep', 0.003375077677974324),\n",
       " ('Apostro', 0.003363048307420819),\n",
       " ('still', 0.0032009006652418586),\n",
       " ('bio', 0.0031987746638941516),\n",
       " ('negate', 0.003192171328472466),\n",
       " ('use', 0.0031604625630201008),\n",
       " ('wish', 0.0031262030647111892),\n",
       " ('though', 0.0031201653003810836),\n",
       " ('Tone', 0.0030699761050258403),\n",
       " ('fine', 0.002927297975146303),\n",
       " ('easy', 0.0028749274919025324),\n",
       " ('insight', 0.002841501262632466),\n",
       " ('you', 0.0027168854979807947),\n",
       " ('Exclam', 0.0026669697059752786),\n",
       " ('informal', 0.0026452987029692543),\n",
       " ('focusfuture', 0.0026110354867345657),\n",
       " ('interrog', 0.0025616280486202283),\n",
       " ('music', 0.0025281977676929928),\n",
       " ('mini', 0.002511090759514392),\n",
       " ('like', 0.0024461667755588242),\n",
       " ('better', 0.002437250063997209),\n",
       " ('sound', 0.0023975598440911287),\n",
       " ('motion', 0.002379640074251968),\n",
       " ('negemo', 0.002375170914752527),\n",
       " ('see', 0.0023532242753022325),\n",
       " ('works', 0.0023521736158164056),\n",
       " ('sure', 0.0023277347916354375),\n",
       " ('we', 0.0022658369958052935),\n",
       " ('speaker', 0.0022509729946014177),\n",
       " ('used', 0.002185204932448909),\n",
       " ('need', 0.0021751796431891666),\n",
       " ('free', 0.0021395684131314784),\n",
       " ('pretty', 0.0020701351713118266),\n",
       " ('mostly', 0.002038239750043708),\n",
       " ('set', 0.0020152782927671483),\n",
       " ('limited', 0.00198379930349915),\n",
       " ('small', 0.0019436411739881085),\n",
       " ('phone', 0.0019100308290782406),\n",
       " ('useful', 0.0018734804948938608),\n",
       " ('returned', 0.0018588826267522693),\n",
       " ('would', 0.001858534883067559),\n",
       " ('overall', 0.0018525489935516952)]"
      ]
     },
     "execution_count": 198,
     "metadata": {},
     "output_type": "execute_result"
    }
   ],
   "source": [
    "top_features_google_tf = sorted(features_google_tfidf.items(), key = lambda x: x[1], reverse = True)[0:100]\n",
    "top_features_google_tf"
   ]
  },
  {
   "cell_type": "markdown",
   "metadata": {},
   "source": [
    "## Topic Modeling"
   ]
  },
  {
   "cell_type": "code",
   "execution_count": 5,
   "metadata": {},
   "outputs": [],
   "source": [
    "\n",
    "apple_df = pd.read_csv('apple_25Nov.csv')\n",
    "amazon_df = pd.read_csv('amazon_25Nov.csv')\n",
    "google_df = pd.read_csv('google_25Nov.csv')"
   ]
  },
  {
   "cell_type": "code",
   "execution_count": 6,
   "metadata": {},
   "outputs": [],
   "source": [
    "from bertopic import BERTopic"
   ]
  },
  {
   "cell_type": "code",
   "execution_count": 7,
   "metadata": {},
   "outputs": [
    {
     "name": "stdout",
     "output_type": "stream",
     "text": [
      "0\n",
      "1\n",
      "2\n",
      "3\n",
      "4\n",
      "5\n",
      "6\n"
     ]
    }
   ],
   "source": [
    "## Extracting data for each category in Owned For\n",
    "\n",
    "app_gby = apple_df.groupby(['OwnedCategorized'])\n",
    "\n",
    "for gby, subdf in app_gby:\n",
    "    print (gby)\n",
    "\n",
    "app_0 = app_gby.get_group(0).reset_index(drop = True)\n",
    "app_1 = app_gby.get_group(1).reset_index(drop = True)\n",
    "app_2 = app_gby.get_group(2).reset_index(drop = True)\n",
    "app_3 = app_gby.get_group(3).reset_index(drop = True)\n",
    "app_4 = app_gby.get_group(4).reset_index(drop = True)\n",
    "app_5 = app_gby.get_group(5).reset_index(drop = True)\n",
    "app_6 = app_gby.get_group(6).reset_index(drop = True)\n",
    "\n",
    "\n",
    "\n",
    "amz_gby = amazon_df.groupby(['OwnedCategorized'])\n",
    "\n",
    "amz_0 = amz_gby.get_group(0).reset_index(drop = True)\n",
    "amz_1 = amz_gby.get_group(1).reset_index(drop = True)\n",
    "amz_2 = amz_gby.get_group(2).reset_index(drop = True)\n",
    "amz_3 = amz_gby.get_group(3).reset_index(drop = True)\n",
    "amz_4 = amz_gby.get_group(4).reset_index(drop = True)\n",
    "amz_5 = amz_gby.get_group(5).reset_index(drop = True)\n",
    "amz_6 = amz_gby.get_group(6).reset_index(drop = True)\n",
    "\n",
    "\n",
    "goog_gby = google_df.groupby(['OwnedCategorized'])\n",
    "\n",
    "goog_0 = goog_gby.get_group(0).reset_index(drop = True)\n",
    "goog_1 = goog_gby.get_group(1).reset_index(drop = True)\n",
    "goog_2 = goog_gby.get_group(2).reset_index(drop = True)\n",
    "goog_3 = goog_gby.get_group(3).reset_index(drop = True)\n",
    "goog_4 = goog_gby.get_group(4).reset_index(drop = True)\n",
    "goog_5 = goog_gby.get_group(5).reset_index(drop = True)\n",
    "goog_6 = goog_gby.get_group(6).reset_index(drop = True)\n"
   ]
  },
  {
   "cell_type": "code",
   "execution_count": 8,
   "metadata": {},
   "outputs": [],
   "source": [
    "sentence_model = SentenceTransformer(\"all-MiniLM-L6-v2\")"
   ]
  },
  {
   "cell_type": "code",
   "execution_count": 9,
   "metadata": {},
   "outputs": [],
   "source": [
    "def get_topics(df_categorized, stop_words):\n",
    "    docs,_ = cleaning_reviews(df_categorized, stop_words)\n",
    "    embeddings = sentence_model.encode(docs, show_progress_bar=True)\n",
    "\n",
    "    # Create topic model\n",
    "    topic_model = BERTopic()\n",
    "    topics, probs = topic_model.fit_transform(docs, embeddings)\n",
    "    \n",
    "    return topic_model \n",
    "    "
   ]
  },
  {
   "cell_type": "code",
   "execution_count": 10,
   "metadata": {},
   "outputs": [
    {
     "ename": "NameError",
     "evalue": "name 'stop_words' is not defined",
     "output_type": "error",
     "traceback": [
      "\u001b[0;31m---------------------------------------------------------------------------\u001b[0m",
      "\u001b[0;31mNameError\u001b[0m                                 Traceback (most recent call last)",
      "Cell \u001b[0;32mIn[10], line 1\u001b[0m\n\u001b[0;32m----> 1\u001b[0m app0_topic_model \u001b[38;5;241m=\u001b[39m get_topics(app_0, stop_words)\n\u001b[1;32m      2\u001b[0m app1_topic_model \u001b[38;5;241m=\u001b[39m get_topics(app_1, stop_words)\n\u001b[1;32m      3\u001b[0m app2_topic_model \u001b[38;5;241m=\u001b[39m get_topics(app_2, stop_words)\n",
      "\u001b[0;31mNameError\u001b[0m: name 'stop_words' is not defined"
     ]
    }
   ],
   "source": [
    "app0_topic_model = get_topics(app_0, stop_words)\n",
    "app1_topic_model = get_topics(app_1, stop_words)\n",
    "app2_topic_model = get_topics(app_2, stop_words)\n",
    "app3_topic_model = get_topics(app_3, stop_words)\n",
    "app4_topic_model = get_topics(app_4, stop_words)\n",
    "app5_topic_model = get_topics(app_5, stop_words)\n",
    "app6_topic_model = get_topics(app_6, stop_words)\n",
    "\n",
    "#-----------------------------------------------#\n",
    "amz0_topic_model = get_topics(amz_0, stop_words)\n",
    "amz1_topic_model = get_topics(amz_1, stop_words)\n",
    "amz2_topic_model = get_topics(amz_2, stop_words)\n",
    "amz3_topic_model = get_topics(amz_3, stop_words)\n",
    "amz4_topic_model = get_topics(amz_4, stop_words)\n",
    "amz5_topic_model = get_topics(amz_5, stop_words)\n",
    "amz6_topic_model = get_topics(amz_6, stop_words)\n",
    "\n",
    "#-----------------------------------------------#\n",
    "\n",
    "goog0_topic_model = get_topics(goog_0, stop_words)\n",
    "goog1_topic_model = get_topics(goog_1, stop_words)\n",
    "goog2_topic_model = get_topics(goog_2, stop_words)\n",
    "goog3_topic_model = get_topics(goog_3, stop_words)\n",
    "goog4_topic_model = get_topics(goog_4, stop_words)\n",
    "goog5_topic_model = get_topics(goog_5, stop_words)\n",
    "goog6_topic_model = get_topics(goog_6, stop_words)"
   ]
  },
  {
   "cell_type": "markdown",
   "metadata": {},
   "source": [
    "## Apple Topics"
   ]
  },
  {
   "cell_type": "code",
   "execution_count": null,
   "metadata": {},
   "outputs": [],
   "source": [
    "app0_topic_model.generate_topic_labels(nr_words=10)\n",
    "app1_topic_model.generate_topic_labels(nr_words=10)\n",
    "app2_topic_model.generate_topic_labels(nr_words=10)\n",
    "app3_topic_model.generate_topic_labels(nr_words=10)\n",
    "app4_topic_model.generate_topic_labels(nr_words=10)\n",
    "app5_topic_model.generate_topic_labels(nr_words=10)\n",
    "app6_topic_model.generate_topic_labels(nr_words=10)"
   ]
  },
  {
   "cell_type": "code",
   "execution_count": null,
   "metadata": {},
   "outputs": [],
   "source": [
    "app0_topic_model.visualize_barchart(top_n_topics=4)"
   ]
  },
  {
   "cell_type": "code",
   "execution_count": null,
   "metadata": {},
   "outputs": [],
   "source": [
    "app1_topic_model.visualize_barchart(top_n_topics=4)"
   ]
  },
  {
   "cell_type": "code",
   "execution_count": null,
   "metadata": {},
   "outputs": [],
   "source": [
    "app2_topic_model.visualize_barchart(top_n_topics=4)"
   ]
  },
  {
   "cell_type": "code",
   "execution_count": null,
   "metadata": {},
   "outputs": [],
   "source": [
    "app3_topic_model.visualize_barchart(top_n_topics=4)"
   ]
  },
  {
   "cell_type": "code",
   "execution_count": null,
   "metadata": {},
   "outputs": [],
   "source": [
    "app4_topic_model.visualize_barchart(top_n_topics=4)"
   ]
  },
  {
   "cell_type": "code",
   "execution_count": null,
   "metadata": {},
   "outputs": [],
   "source": [
    "app5_topic_model.visualize_barchart(top_n_topics=4)"
   ]
  },
  {
   "cell_type": "code",
   "execution_count": null,
   "metadata": {},
   "outputs": [],
   "source": [
    "app6_topic_model.visualize_barchart(top_n_topics=4)"
   ]
  },
  {
   "cell_type": "code",
   "execution_count": null,
   "metadata": {},
   "outputs": [],
   "source": []
  },
  {
   "cell_type": "markdown",
   "metadata": {},
   "source": [
    "## Amazon Topics"
   ]
  },
  {
   "cell_type": "code",
   "execution_count": null,
   "metadata": {},
   "outputs": [],
   "source": [
    "amz0_topic_model.generate_topic_labels(nr_words=10)\n",
    "amz1_topic_model.generate_topic_labels(nr_words=10)\n",
    "amz2_topic_model.generate_topic_labels(nr_words=10)\n",
    "amz3_topic_model.generate_topic_labels(nr_words=10)\n",
    "amz4_topic_model.generate_topic_labels(nr_words=10)\n",
    "amz5_topic_model.generate_topic_labels(nr_words=10)\n",
    "amz6_topic_model.generate_topic_labels(nr_words=10)"
   ]
  },
  {
   "cell_type": "code",
   "execution_count": null,
   "metadata": {},
   "outputs": [],
   "source": [
    "amz0_topic_model.visualize_barchart(top_n_topics=4)\n"
   ]
  },
  {
   "cell_type": "code",
   "execution_count": null,
   "metadata": {},
   "outputs": [],
   "source": [
    "amz1_topic_model.visualize_barchart(top_n_topics=4)\n"
   ]
  },
  {
   "cell_type": "code",
   "execution_count": null,
   "metadata": {},
   "outputs": [],
   "source": [
    "amz2_topic_model.visualize_barchart(top_n_topics=4)\n"
   ]
  },
  {
   "cell_type": "code",
   "execution_count": null,
   "metadata": {},
   "outputs": [],
   "source": [
    "amz3_topic_model.visualize_barchart(top_n_topics=4)\n"
   ]
  },
  {
   "cell_type": "code",
   "execution_count": null,
   "metadata": {},
   "outputs": [],
   "source": [
    "amz4_topic_model.visualize_barchart(top_n_topics=4)\n"
   ]
  },
  {
   "cell_type": "code",
   "execution_count": null,
   "metadata": {},
   "outputs": [],
   "source": [
    "amz5_topic_model.visualize_barchart(top_n_topics=4)\n"
   ]
  },
  {
   "cell_type": "code",
   "execution_count": null,
   "metadata": {},
   "outputs": [],
   "source": [
    "amz6_topic_model.visualize_barchart(top_n_topics=4)"
   ]
  },
  {
   "cell_type": "markdown",
   "metadata": {},
   "source": [
    "## Google Topics"
   ]
  },
  {
   "cell_type": "code",
   "execution_count": null,
   "metadata": {},
   "outputs": [],
   "source": [
    "goog0_topic_model.generate_topic_labels(nr_words=10)\n",
    "goog1_topic_model.generate_topic_labels(nr_words=10)\n",
    "goog2_topic_model.generate_topic_labels(nr_words=10)\n",
    "goog3_topic_model.generate_topic_labels(nr_words=10)\n",
    "goog4_topic_model.generate_topic_labels(nr_words=10)\n",
    "goog5_topic_model.generate_topic_labels(nr_words=10)\n",
    "goog6_topic_model.generate_topic_labels(nr_words=10)"
   ]
  },
  {
   "cell_type": "code",
   "execution_count": null,
   "metadata": {},
   "outputs": [],
   "source": [
    "goog0_topic_model.visualize_barchart(top_n_topics=4)\n"
   ]
  },
  {
   "cell_type": "code",
   "execution_count": null,
   "metadata": {},
   "outputs": [],
   "source": [
    "goog1_topic_model.visualize_barchart(top_n_topics=4)\n"
   ]
  },
  {
   "cell_type": "code",
   "execution_count": null,
   "metadata": {},
   "outputs": [],
   "source": [
    "goog2_topic_model.visualize_barchart(top_n_topics=4)\n"
   ]
  },
  {
   "cell_type": "code",
   "execution_count": null,
   "metadata": {},
   "outputs": [],
   "source": [
    "goog3_topic_model.visualize_barchart(top_n_topics=4)\n"
   ]
  },
  {
   "cell_type": "code",
   "execution_count": 11,
   "metadata": {},
   "outputs": [
    {
     "ename": "NameError",
     "evalue": "name 'goog4_topic_model' is not defined",
     "output_type": "error",
     "traceback": [
      "\u001b[0;31m---------------------------------------------------------------------------\u001b[0m",
      "\u001b[0;31mNameError\u001b[0m                                 Traceback (most recent call last)",
      "Cell \u001b[0;32mIn[11], line 1\u001b[0m\n\u001b[0;32m----> 1\u001b[0m goog4_topic_model\u001b[38;5;241m.\u001b[39mvisualize_barchart(top_n_topics\u001b[38;5;241m=\u001b[39m\u001b[38;5;241m4\u001b[39m)\n",
      "\u001b[0;31mNameError\u001b[0m: name 'goog4_topic_model' is not defined"
     ]
    }
   ],
   "source": [
    "goog4_topic_model.visualize_barchart(top_n_topics=4)\n"
   ]
  },
  {
   "cell_type": "code",
   "execution_count": 193,
   "metadata": {},
   "outputs": [
    {
     "data": {
      "application/vnd.plotly.v1+json": {
       "config": {
        "plotlyServerURL": "https://plot.ly"
       },
       "data": [
        {
         "marker": {
          "color": "#D55E00"
         },
         "orientation": "h",
         "type": "bar",
         "x": [
          0.043580703333286085,
          0.04727318523298292,
          0.04960525140576788,
          0.0732650576459214,
          0.13663610830131845
         ],
         "xaxis": "x",
         "y": [
          "small  ",
          "good  ",
          "sound  ",
          "smart  ",
          "speaker  "
         ],
         "yaxis": "y"
        },
        {
         "marker": {
          "color": "#0072B2"
         },
         "orientation": "h",
         "type": "bar",
         "x": [
          0.05446492739181167,
          0.05470579140708479,
          0.05623619245636299,
          0.1014505596532268,
          0.15062127078690055
         ],
         "xaxis": "x2",
         "y": [
          "one  ",
          "friend  ",
          "got  ",
          "bought  ",
          "gift  "
         ],
         "yaxis": "y2"
        },
        {
         "marker": {
          "color": "#CC79A7"
         },
         "orientation": "h",
         "type": "bar",
         "x": [
          0.0539270249382921,
          0.061047720425246574,
          0.06159459244463208,
          0.07022068741041756,
          0.10277710667338118
         ],
         "xaxis": "x3",
         "y": [
          "handy  ",
          "use  ",
          "works  ",
          "great  ",
          "product  "
         ],
         "yaxis": "y3"
        },
        {
         "marker": {
          "color": "#E69F00"
         },
         "orientation": "h",
         "type": "bar",
         "x": [
          0.03955771627179898,
          0.04050841638316747,
          0.04434854207823465,
          0.04445558533622221,
          0.05981544418747161
         ],
         "xaxis": "x4",
         "y": [
          "lights  ",
          "alarm  ",
          "play  ",
          "music  ",
          "weather  "
         ],
         "yaxis": "y4"
        }
       ],
       "layout": {
        "annotations": [
         {
          "font": {
           "size": 16
          },
          "showarrow": false,
          "text": "Topic 0",
          "x": 0.0875,
          "xanchor": "center",
          "xref": "paper",
          "y": 1,
          "yanchor": "bottom",
          "yref": "paper"
         },
         {
          "font": {
           "size": 16
          },
          "showarrow": false,
          "text": "Topic 1",
          "x": 0.36250000000000004,
          "xanchor": "center",
          "xref": "paper",
          "y": 1,
          "yanchor": "bottom",
          "yref": "paper"
         },
         {
          "font": {
           "size": 16
          },
          "showarrow": false,
          "text": "Topic 2",
          "x": 0.6375000000000001,
          "xanchor": "center",
          "xref": "paper",
          "y": 1,
          "yanchor": "bottom",
          "yref": "paper"
         },
         {
          "font": {
           "size": 16
          },
          "showarrow": false,
          "text": "Topic 3",
          "x": 0.9125,
          "xanchor": "center",
          "xref": "paper",
          "y": 1,
          "yanchor": "bottom",
          "yref": "paper"
         }
        ],
        "height": 325,
        "hoverlabel": {
         "bgcolor": "white",
         "font": {
          "family": "Rockwell",
          "size": 16
         }
        },
        "showlegend": false,
        "template": {
         "data": {
          "bar": [
           {
            "error_x": {
             "color": "#2a3f5f"
            },
            "error_y": {
             "color": "#2a3f5f"
            },
            "marker": {
             "line": {
              "color": "white",
              "width": 0.5
             },
             "pattern": {
              "fillmode": "overlay",
              "size": 10,
              "solidity": 0.2
             }
            },
            "type": "bar"
           }
          ],
          "barpolar": [
           {
            "marker": {
             "line": {
              "color": "white",
              "width": 0.5
             },
             "pattern": {
              "fillmode": "overlay",
              "size": 10,
              "solidity": 0.2
             }
            },
            "type": "barpolar"
           }
          ],
          "carpet": [
           {
            "aaxis": {
             "endlinecolor": "#2a3f5f",
             "gridcolor": "#C8D4E3",
             "linecolor": "#C8D4E3",
             "minorgridcolor": "#C8D4E3",
             "startlinecolor": "#2a3f5f"
            },
            "baxis": {
             "endlinecolor": "#2a3f5f",
             "gridcolor": "#C8D4E3",
             "linecolor": "#C8D4E3",
             "minorgridcolor": "#C8D4E3",
             "startlinecolor": "#2a3f5f"
            },
            "type": "carpet"
           }
          ],
          "choropleth": [
           {
            "colorbar": {
             "outlinewidth": 0,
             "ticks": ""
            },
            "type": "choropleth"
           }
          ],
          "contour": [
           {
            "colorbar": {
             "outlinewidth": 0,
             "ticks": ""
            },
            "colorscale": [
             [
              0,
              "#0d0887"
             ],
             [
              0.1111111111111111,
              "#46039f"
             ],
             [
              0.2222222222222222,
              "#7201a8"
             ],
             [
              0.3333333333333333,
              "#9c179e"
             ],
             [
              0.4444444444444444,
              "#bd3786"
             ],
             [
              0.5555555555555556,
              "#d8576b"
             ],
             [
              0.6666666666666666,
              "#ed7953"
             ],
             [
              0.7777777777777778,
              "#fb9f3a"
             ],
             [
              0.8888888888888888,
              "#fdca26"
             ],
             [
              1,
              "#f0f921"
             ]
            ],
            "type": "contour"
           }
          ],
          "contourcarpet": [
           {
            "colorbar": {
             "outlinewidth": 0,
             "ticks": ""
            },
            "type": "contourcarpet"
           }
          ],
          "heatmap": [
           {
            "colorbar": {
             "outlinewidth": 0,
             "ticks": ""
            },
            "colorscale": [
             [
              0,
              "#0d0887"
             ],
             [
              0.1111111111111111,
              "#46039f"
             ],
             [
              0.2222222222222222,
              "#7201a8"
             ],
             [
              0.3333333333333333,
              "#9c179e"
             ],
             [
              0.4444444444444444,
              "#bd3786"
             ],
             [
              0.5555555555555556,
              "#d8576b"
             ],
             [
              0.6666666666666666,
              "#ed7953"
             ],
             [
              0.7777777777777778,
              "#fb9f3a"
             ],
             [
              0.8888888888888888,
              "#fdca26"
             ],
             [
              1,
              "#f0f921"
             ]
            ],
            "type": "heatmap"
           }
          ],
          "heatmapgl": [
           {
            "colorbar": {
             "outlinewidth": 0,
             "ticks": ""
            },
            "colorscale": [
             [
              0,
              "#0d0887"
             ],
             [
              0.1111111111111111,
              "#46039f"
             ],
             [
              0.2222222222222222,
              "#7201a8"
             ],
             [
              0.3333333333333333,
              "#9c179e"
             ],
             [
              0.4444444444444444,
              "#bd3786"
             ],
             [
              0.5555555555555556,
              "#d8576b"
             ],
             [
              0.6666666666666666,
              "#ed7953"
             ],
             [
              0.7777777777777778,
              "#fb9f3a"
             ],
             [
              0.8888888888888888,
              "#fdca26"
             ],
             [
              1,
              "#f0f921"
             ]
            ],
            "type": "heatmapgl"
           }
          ],
          "histogram": [
           {
            "marker": {
             "pattern": {
              "fillmode": "overlay",
              "size": 10,
              "solidity": 0.2
             }
            },
            "type": "histogram"
           }
          ],
          "histogram2d": [
           {
            "colorbar": {
             "outlinewidth": 0,
             "ticks": ""
            },
            "colorscale": [
             [
              0,
              "#0d0887"
             ],
             [
              0.1111111111111111,
              "#46039f"
             ],
             [
              0.2222222222222222,
              "#7201a8"
             ],
             [
              0.3333333333333333,
              "#9c179e"
             ],
             [
              0.4444444444444444,
              "#bd3786"
             ],
             [
              0.5555555555555556,
              "#d8576b"
             ],
             [
              0.6666666666666666,
              "#ed7953"
             ],
             [
              0.7777777777777778,
              "#fb9f3a"
             ],
             [
              0.8888888888888888,
              "#fdca26"
             ],
             [
              1,
              "#f0f921"
             ]
            ],
            "type": "histogram2d"
           }
          ],
          "histogram2dcontour": [
           {
            "colorbar": {
             "outlinewidth": 0,
             "ticks": ""
            },
            "colorscale": [
             [
              0,
              "#0d0887"
             ],
             [
              0.1111111111111111,
              "#46039f"
             ],
             [
              0.2222222222222222,
              "#7201a8"
             ],
             [
              0.3333333333333333,
              "#9c179e"
             ],
             [
              0.4444444444444444,
              "#bd3786"
             ],
             [
              0.5555555555555556,
              "#d8576b"
             ],
             [
              0.6666666666666666,
              "#ed7953"
             ],
             [
              0.7777777777777778,
              "#fb9f3a"
             ],
             [
              0.8888888888888888,
              "#fdca26"
             ],
             [
              1,
              "#f0f921"
             ]
            ],
            "type": "histogram2dcontour"
           }
          ],
          "mesh3d": [
           {
            "colorbar": {
             "outlinewidth": 0,
             "ticks": ""
            },
            "type": "mesh3d"
           }
          ],
          "parcoords": [
           {
            "line": {
             "colorbar": {
              "outlinewidth": 0,
              "ticks": ""
             }
            },
            "type": "parcoords"
           }
          ],
          "pie": [
           {
            "automargin": true,
            "type": "pie"
           }
          ],
          "scatter": [
           {
            "fillpattern": {
             "fillmode": "overlay",
             "size": 10,
             "solidity": 0.2
            },
            "type": "scatter"
           }
          ],
          "scatter3d": [
           {
            "line": {
             "colorbar": {
              "outlinewidth": 0,
              "ticks": ""
             }
            },
            "marker": {
             "colorbar": {
              "outlinewidth": 0,
              "ticks": ""
             }
            },
            "type": "scatter3d"
           }
          ],
          "scattercarpet": [
           {
            "marker": {
             "colorbar": {
              "outlinewidth": 0,
              "ticks": ""
             }
            },
            "type": "scattercarpet"
           }
          ],
          "scattergeo": [
           {
            "marker": {
             "colorbar": {
              "outlinewidth": 0,
              "ticks": ""
             }
            },
            "type": "scattergeo"
           }
          ],
          "scattergl": [
           {
            "marker": {
             "colorbar": {
              "outlinewidth": 0,
              "ticks": ""
             }
            },
            "type": "scattergl"
           }
          ],
          "scattermapbox": [
           {
            "marker": {
             "colorbar": {
              "outlinewidth": 0,
              "ticks": ""
             }
            },
            "type": "scattermapbox"
           }
          ],
          "scatterpolar": [
           {
            "marker": {
             "colorbar": {
              "outlinewidth": 0,
              "ticks": ""
             }
            },
            "type": "scatterpolar"
           }
          ],
          "scatterpolargl": [
           {
            "marker": {
             "colorbar": {
              "outlinewidth": 0,
              "ticks": ""
             }
            },
            "type": "scatterpolargl"
           }
          ],
          "scatterternary": [
           {
            "marker": {
             "colorbar": {
              "outlinewidth": 0,
              "ticks": ""
             }
            },
            "type": "scatterternary"
           }
          ],
          "surface": [
           {
            "colorbar": {
             "outlinewidth": 0,
             "ticks": ""
            },
            "colorscale": [
             [
              0,
              "#0d0887"
             ],
             [
              0.1111111111111111,
              "#46039f"
             ],
             [
              0.2222222222222222,
              "#7201a8"
             ],
             [
              0.3333333333333333,
              "#9c179e"
             ],
             [
              0.4444444444444444,
              "#bd3786"
             ],
             [
              0.5555555555555556,
              "#d8576b"
             ],
             [
              0.6666666666666666,
              "#ed7953"
             ],
             [
              0.7777777777777778,
              "#fb9f3a"
             ],
             [
              0.8888888888888888,
              "#fdca26"
             ],
             [
              1,
              "#f0f921"
             ]
            ],
            "type": "surface"
           }
          ],
          "table": [
           {
            "cells": {
             "fill": {
              "color": "#EBF0F8"
             },
             "line": {
              "color": "white"
             }
            },
            "header": {
             "fill": {
              "color": "#C8D4E3"
             },
             "line": {
              "color": "white"
             }
            },
            "type": "table"
           }
          ]
         },
         "layout": {
          "annotationdefaults": {
           "arrowcolor": "#2a3f5f",
           "arrowhead": 0,
           "arrowwidth": 1
          },
          "autotypenumbers": "strict",
          "coloraxis": {
           "colorbar": {
            "outlinewidth": 0,
            "ticks": ""
           }
          },
          "colorscale": {
           "diverging": [
            [
             0,
             "#8e0152"
            ],
            [
             0.1,
             "#c51b7d"
            ],
            [
             0.2,
             "#de77ae"
            ],
            [
             0.3,
             "#f1b6da"
            ],
            [
             0.4,
             "#fde0ef"
            ],
            [
             0.5,
             "#f7f7f7"
            ],
            [
             0.6,
             "#e6f5d0"
            ],
            [
             0.7,
             "#b8e186"
            ],
            [
             0.8,
             "#7fbc41"
            ],
            [
             0.9,
             "#4d9221"
            ],
            [
             1,
             "#276419"
            ]
           ],
           "sequential": [
            [
             0,
             "#0d0887"
            ],
            [
             0.1111111111111111,
             "#46039f"
            ],
            [
             0.2222222222222222,
             "#7201a8"
            ],
            [
             0.3333333333333333,
             "#9c179e"
            ],
            [
             0.4444444444444444,
             "#bd3786"
            ],
            [
             0.5555555555555556,
             "#d8576b"
            ],
            [
             0.6666666666666666,
             "#ed7953"
            ],
            [
             0.7777777777777778,
             "#fb9f3a"
            ],
            [
             0.8888888888888888,
             "#fdca26"
            ],
            [
             1,
             "#f0f921"
            ]
           ],
           "sequentialminus": [
            [
             0,
             "#0d0887"
            ],
            [
             0.1111111111111111,
             "#46039f"
            ],
            [
             0.2222222222222222,
             "#7201a8"
            ],
            [
             0.3333333333333333,
             "#9c179e"
            ],
            [
             0.4444444444444444,
             "#bd3786"
            ],
            [
             0.5555555555555556,
             "#d8576b"
            ],
            [
             0.6666666666666666,
             "#ed7953"
            ],
            [
             0.7777777777777778,
             "#fb9f3a"
            ],
            [
             0.8888888888888888,
             "#fdca26"
            ],
            [
             1,
             "#f0f921"
            ]
           ]
          },
          "colorway": [
           "#636efa",
           "#EF553B",
           "#00cc96",
           "#ab63fa",
           "#FFA15A",
           "#19d3f3",
           "#FF6692",
           "#B6E880",
           "#FF97FF",
           "#FECB52"
          ],
          "font": {
           "color": "#2a3f5f"
          },
          "geo": {
           "bgcolor": "white",
           "lakecolor": "white",
           "landcolor": "white",
           "showlakes": true,
           "showland": true,
           "subunitcolor": "#C8D4E3"
          },
          "hoverlabel": {
           "align": "left"
          },
          "hovermode": "closest",
          "mapbox": {
           "style": "light"
          },
          "paper_bgcolor": "white",
          "plot_bgcolor": "white",
          "polar": {
           "angularaxis": {
            "gridcolor": "#EBF0F8",
            "linecolor": "#EBF0F8",
            "ticks": ""
           },
           "bgcolor": "white",
           "radialaxis": {
            "gridcolor": "#EBF0F8",
            "linecolor": "#EBF0F8",
            "ticks": ""
           }
          },
          "scene": {
           "xaxis": {
            "backgroundcolor": "white",
            "gridcolor": "#DFE8F3",
            "gridwidth": 2,
            "linecolor": "#EBF0F8",
            "showbackground": true,
            "ticks": "",
            "zerolinecolor": "#EBF0F8"
           },
           "yaxis": {
            "backgroundcolor": "white",
            "gridcolor": "#DFE8F3",
            "gridwidth": 2,
            "linecolor": "#EBF0F8",
            "showbackground": true,
            "ticks": "",
            "zerolinecolor": "#EBF0F8"
           },
           "zaxis": {
            "backgroundcolor": "white",
            "gridcolor": "#DFE8F3",
            "gridwidth": 2,
            "linecolor": "#EBF0F8",
            "showbackground": true,
            "ticks": "",
            "zerolinecolor": "#EBF0F8"
           }
          },
          "shapedefaults": {
           "line": {
            "color": "#2a3f5f"
           }
          },
          "ternary": {
           "aaxis": {
            "gridcolor": "#DFE8F3",
            "linecolor": "#A2B1C6",
            "ticks": ""
           },
           "baxis": {
            "gridcolor": "#DFE8F3",
            "linecolor": "#A2B1C6",
            "ticks": ""
           },
           "bgcolor": "white",
           "caxis": {
            "gridcolor": "#DFE8F3",
            "linecolor": "#A2B1C6",
            "ticks": ""
           }
          },
          "title": {
           "x": 0.05
          },
          "xaxis": {
           "automargin": true,
           "gridcolor": "#EBF0F8",
           "linecolor": "#EBF0F8",
           "ticks": "",
           "title": {
            "standoff": 15
           },
           "zerolinecolor": "#EBF0F8",
           "zerolinewidth": 2
          },
          "yaxis": {
           "automargin": true,
           "gridcolor": "#EBF0F8",
           "linecolor": "#EBF0F8",
           "ticks": "",
           "title": {
            "standoff": 15
           },
           "zerolinecolor": "#EBF0F8",
           "zerolinewidth": 2
          }
         }
        },
        "title": {
         "font": {
          "color": "Black",
          "size": 22
         },
         "text": "Topic Word Scores",
         "x": 0.5,
         "xanchor": "center",
         "yanchor": "top"
        },
        "width": 1000,
        "xaxis": {
         "anchor": "y",
         "domain": [
          0,
          0.175
         ],
         "showgrid": true
        },
        "xaxis2": {
         "anchor": "y2",
         "domain": [
          0.275,
          0.45
         ],
         "showgrid": true
        },
        "xaxis3": {
         "anchor": "y3",
         "domain": [
          0.55,
          0.7250000000000001
         ],
         "showgrid": true
        },
        "xaxis4": {
         "anchor": "y4",
         "domain": [
          0.825,
          1
         ],
         "showgrid": true
        },
        "yaxis": {
         "anchor": "x",
         "domain": [
          0,
          1
         ],
         "showgrid": true
        },
        "yaxis2": {
         "anchor": "x2",
         "domain": [
          0,
          1
         ],
         "showgrid": true
        },
        "yaxis3": {
         "anchor": "x3",
         "domain": [
          0,
          1
         ],
         "showgrid": true
        },
        "yaxis4": {
         "anchor": "x4",
         "domain": [
          0,
          1
         ],
         "showgrid": true
        }
       }
      },
      "text/html": [
       "<div>                            <div id=\"2c58629c-dc5e-45a4-9688-b8ff9c650851\" class=\"plotly-graph-div\" style=\"height:325.0px; width:1000px;\"></div>            <script type=\"text/javascript\">                require([\"plotly\"], function(Plotly) {                    window.PLOTLYENV=window.PLOTLYENV || {};                                    if (document.getElementById(\"2c58629c-dc5e-45a4-9688-b8ff9c650851\")) {                    Plotly.newPlot(                        \"2c58629c-dc5e-45a4-9688-b8ff9c650851\",                        [{\"marker\":{\"color\":\"#D55E00\"},\"orientation\":\"h\",\"x\":[0.043580703333286085,0.04727318523298292,0.04960525140576788,0.0732650576459214,0.13663610830131845],\"y\":[\"small  \",\"good  \",\"sound  \",\"smart  \",\"speaker  \"],\"type\":\"bar\",\"xaxis\":\"x\",\"yaxis\":\"y\"},{\"marker\":{\"color\":\"#0072B2\"},\"orientation\":\"h\",\"x\":[0.05446492739181167,0.05470579140708479,0.05623619245636299,0.1014505596532268,0.15062127078690055],\"y\":[\"one  \",\"friend  \",\"got  \",\"bought  \",\"gift  \"],\"type\":\"bar\",\"xaxis\":\"x2\",\"yaxis\":\"y2\"},{\"marker\":{\"color\":\"#CC79A7\"},\"orientation\":\"h\",\"x\":[0.0539270249382921,0.061047720425246574,0.06159459244463208,0.07022068741041756,0.10277710667338118],\"y\":[\"handy  \",\"use  \",\"works  \",\"great  \",\"product  \"],\"type\":\"bar\",\"xaxis\":\"x3\",\"yaxis\":\"y3\"},{\"marker\":{\"color\":\"#E69F00\"},\"orientation\":\"h\",\"x\":[0.03955771627179898,0.04050841638316747,0.04434854207823465,0.04445558533622221,0.05981544418747161],\"y\":[\"lights  \",\"alarm  \",\"play  \",\"music  \",\"weather  \"],\"type\":\"bar\",\"xaxis\":\"x4\",\"yaxis\":\"y4\"}],                        {\"template\":{\"data\":{\"barpolar\":[{\"marker\":{\"line\":{\"color\":\"white\",\"width\":0.5},\"pattern\":{\"fillmode\":\"overlay\",\"size\":10,\"solidity\":0.2}},\"type\":\"barpolar\"}],\"bar\":[{\"error_x\":{\"color\":\"#2a3f5f\"},\"error_y\":{\"color\":\"#2a3f5f\"},\"marker\":{\"line\":{\"color\":\"white\",\"width\":0.5},\"pattern\":{\"fillmode\":\"overlay\",\"size\":10,\"solidity\":0.2}},\"type\":\"bar\"}],\"carpet\":[{\"aaxis\":{\"endlinecolor\":\"#2a3f5f\",\"gridcolor\":\"#C8D4E3\",\"linecolor\":\"#C8D4E3\",\"minorgridcolor\":\"#C8D4E3\",\"startlinecolor\":\"#2a3f5f\"},\"baxis\":{\"endlinecolor\":\"#2a3f5f\",\"gridcolor\":\"#C8D4E3\",\"linecolor\":\"#C8D4E3\",\"minorgridcolor\":\"#C8D4E3\",\"startlinecolor\":\"#2a3f5f\"},\"type\":\"carpet\"}],\"choropleth\":[{\"colorbar\":{\"outlinewidth\":0,\"ticks\":\"\"},\"type\":\"choropleth\"}],\"contourcarpet\":[{\"colorbar\":{\"outlinewidth\":0,\"ticks\":\"\"},\"type\":\"contourcarpet\"}],\"contour\":[{\"colorbar\":{\"outlinewidth\":0,\"ticks\":\"\"},\"colorscale\":[[0.0,\"#0d0887\"],[0.1111111111111111,\"#46039f\"],[0.2222222222222222,\"#7201a8\"],[0.3333333333333333,\"#9c179e\"],[0.4444444444444444,\"#bd3786\"],[0.5555555555555556,\"#d8576b\"],[0.6666666666666666,\"#ed7953\"],[0.7777777777777778,\"#fb9f3a\"],[0.8888888888888888,\"#fdca26\"],[1.0,\"#f0f921\"]],\"type\":\"contour\"}],\"heatmapgl\":[{\"colorbar\":{\"outlinewidth\":0,\"ticks\":\"\"},\"colorscale\":[[0.0,\"#0d0887\"],[0.1111111111111111,\"#46039f\"],[0.2222222222222222,\"#7201a8\"],[0.3333333333333333,\"#9c179e\"],[0.4444444444444444,\"#bd3786\"],[0.5555555555555556,\"#d8576b\"],[0.6666666666666666,\"#ed7953\"],[0.7777777777777778,\"#fb9f3a\"],[0.8888888888888888,\"#fdca26\"],[1.0,\"#f0f921\"]],\"type\":\"heatmapgl\"}],\"heatmap\":[{\"colorbar\":{\"outlinewidth\":0,\"ticks\":\"\"},\"colorscale\":[[0.0,\"#0d0887\"],[0.1111111111111111,\"#46039f\"],[0.2222222222222222,\"#7201a8\"],[0.3333333333333333,\"#9c179e\"],[0.4444444444444444,\"#bd3786\"],[0.5555555555555556,\"#d8576b\"],[0.6666666666666666,\"#ed7953\"],[0.7777777777777778,\"#fb9f3a\"],[0.8888888888888888,\"#fdca26\"],[1.0,\"#f0f921\"]],\"type\":\"heatmap\"}],\"histogram2dcontour\":[{\"colorbar\":{\"outlinewidth\":0,\"ticks\":\"\"},\"colorscale\":[[0.0,\"#0d0887\"],[0.1111111111111111,\"#46039f\"],[0.2222222222222222,\"#7201a8\"],[0.3333333333333333,\"#9c179e\"],[0.4444444444444444,\"#bd3786\"],[0.5555555555555556,\"#d8576b\"],[0.6666666666666666,\"#ed7953\"],[0.7777777777777778,\"#fb9f3a\"],[0.8888888888888888,\"#fdca26\"],[1.0,\"#f0f921\"]],\"type\":\"histogram2dcontour\"}],\"histogram2d\":[{\"colorbar\":{\"outlinewidth\":0,\"ticks\":\"\"},\"colorscale\":[[0.0,\"#0d0887\"],[0.1111111111111111,\"#46039f\"],[0.2222222222222222,\"#7201a8\"],[0.3333333333333333,\"#9c179e\"],[0.4444444444444444,\"#bd3786\"],[0.5555555555555556,\"#d8576b\"],[0.6666666666666666,\"#ed7953\"],[0.7777777777777778,\"#fb9f3a\"],[0.8888888888888888,\"#fdca26\"],[1.0,\"#f0f921\"]],\"type\":\"histogram2d\"}],\"histogram\":[{\"marker\":{\"pattern\":{\"fillmode\":\"overlay\",\"size\":10,\"solidity\":0.2}},\"type\":\"histogram\"}],\"mesh3d\":[{\"colorbar\":{\"outlinewidth\":0,\"ticks\":\"\"},\"type\":\"mesh3d\"}],\"parcoords\":[{\"line\":{\"colorbar\":{\"outlinewidth\":0,\"ticks\":\"\"}},\"type\":\"parcoords\"}],\"pie\":[{\"automargin\":true,\"type\":\"pie\"}],\"scatter3d\":[{\"line\":{\"colorbar\":{\"outlinewidth\":0,\"ticks\":\"\"}},\"marker\":{\"colorbar\":{\"outlinewidth\":0,\"ticks\":\"\"}},\"type\":\"scatter3d\"}],\"scattercarpet\":[{\"marker\":{\"colorbar\":{\"outlinewidth\":0,\"ticks\":\"\"}},\"type\":\"scattercarpet\"}],\"scattergeo\":[{\"marker\":{\"colorbar\":{\"outlinewidth\":0,\"ticks\":\"\"}},\"type\":\"scattergeo\"}],\"scattergl\":[{\"marker\":{\"colorbar\":{\"outlinewidth\":0,\"ticks\":\"\"}},\"type\":\"scattergl\"}],\"scattermapbox\":[{\"marker\":{\"colorbar\":{\"outlinewidth\":0,\"ticks\":\"\"}},\"type\":\"scattermapbox\"}],\"scatterpolargl\":[{\"marker\":{\"colorbar\":{\"outlinewidth\":0,\"ticks\":\"\"}},\"type\":\"scatterpolargl\"}],\"scatterpolar\":[{\"marker\":{\"colorbar\":{\"outlinewidth\":0,\"ticks\":\"\"}},\"type\":\"scatterpolar\"}],\"scatter\":[{\"fillpattern\":{\"fillmode\":\"overlay\",\"size\":10,\"solidity\":0.2},\"type\":\"scatter\"}],\"scatterternary\":[{\"marker\":{\"colorbar\":{\"outlinewidth\":0,\"ticks\":\"\"}},\"type\":\"scatterternary\"}],\"surface\":[{\"colorbar\":{\"outlinewidth\":0,\"ticks\":\"\"},\"colorscale\":[[0.0,\"#0d0887\"],[0.1111111111111111,\"#46039f\"],[0.2222222222222222,\"#7201a8\"],[0.3333333333333333,\"#9c179e\"],[0.4444444444444444,\"#bd3786\"],[0.5555555555555556,\"#d8576b\"],[0.6666666666666666,\"#ed7953\"],[0.7777777777777778,\"#fb9f3a\"],[0.8888888888888888,\"#fdca26\"],[1.0,\"#f0f921\"]],\"type\":\"surface\"}],\"table\":[{\"cells\":{\"fill\":{\"color\":\"#EBF0F8\"},\"line\":{\"color\":\"white\"}},\"header\":{\"fill\":{\"color\":\"#C8D4E3\"},\"line\":{\"color\":\"white\"}},\"type\":\"table\"}]},\"layout\":{\"annotationdefaults\":{\"arrowcolor\":\"#2a3f5f\",\"arrowhead\":0,\"arrowwidth\":1},\"autotypenumbers\":\"strict\",\"coloraxis\":{\"colorbar\":{\"outlinewidth\":0,\"ticks\":\"\"}},\"colorscale\":{\"diverging\":[[0,\"#8e0152\"],[0.1,\"#c51b7d\"],[0.2,\"#de77ae\"],[0.3,\"#f1b6da\"],[0.4,\"#fde0ef\"],[0.5,\"#f7f7f7\"],[0.6,\"#e6f5d0\"],[0.7,\"#b8e186\"],[0.8,\"#7fbc41\"],[0.9,\"#4d9221\"],[1,\"#276419\"]],\"sequential\":[[0.0,\"#0d0887\"],[0.1111111111111111,\"#46039f\"],[0.2222222222222222,\"#7201a8\"],[0.3333333333333333,\"#9c179e\"],[0.4444444444444444,\"#bd3786\"],[0.5555555555555556,\"#d8576b\"],[0.6666666666666666,\"#ed7953\"],[0.7777777777777778,\"#fb9f3a\"],[0.8888888888888888,\"#fdca26\"],[1.0,\"#f0f921\"]],\"sequentialminus\":[[0.0,\"#0d0887\"],[0.1111111111111111,\"#46039f\"],[0.2222222222222222,\"#7201a8\"],[0.3333333333333333,\"#9c179e\"],[0.4444444444444444,\"#bd3786\"],[0.5555555555555556,\"#d8576b\"],[0.6666666666666666,\"#ed7953\"],[0.7777777777777778,\"#fb9f3a\"],[0.8888888888888888,\"#fdca26\"],[1.0,\"#f0f921\"]]},\"colorway\":[\"#636efa\",\"#EF553B\",\"#00cc96\",\"#ab63fa\",\"#FFA15A\",\"#19d3f3\",\"#FF6692\",\"#B6E880\",\"#FF97FF\",\"#FECB52\"],\"font\":{\"color\":\"#2a3f5f\"},\"geo\":{\"bgcolor\":\"white\",\"lakecolor\":\"white\",\"landcolor\":\"white\",\"showlakes\":true,\"showland\":true,\"subunitcolor\":\"#C8D4E3\"},\"hoverlabel\":{\"align\":\"left\"},\"hovermode\":\"closest\",\"mapbox\":{\"style\":\"light\"},\"paper_bgcolor\":\"white\",\"plot_bgcolor\":\"white\",\"polar\":{\"angularaxis\":{\"gridcolor\":\"#EBF0F8\",\"linecolor\":\"#EBF0F8\",\"ticks\":\"\"},\"bgcolor\":\"white\",\"radialaxis\":{\"gridcolor\":\"#EBF0F8\",\"linecolor\":\"#EBF0F8\",\"ticks\":\"\"}},\"scene\":{\"xaxis\":{\"backgroundcolor\":\"white\",\"gridcolor\":\"#DFE8F3\",\"gridwidth\":2,\"linecolor\":\"#EBF0F8\",\"showbackground\":true,\"ticks\":\"\",\"zerolinecolor\":\"#EBF0F8\"},\"yaxis\":{\"backgroundcolor\":\"white\",\"gridcolor\":\"#DFE8F3\",\"gridwidth\":2,\"linecolor\":\"#EBF0F8\",\"showbackground\":true,\"ticks\":\"\",\"zerolinecolor\":\"#EBF0F8\"},\"zaxis\":{\"backgroundcolor\":\"white\",\"gridcolor\":\"#DFE8F3\",\"gridwidth\":2,\"linecolor\":\"#EBF0F8\",\"showbackground\":true,\"ticks\":\"\",\"zerolinecolor\":\"#EBF0F8\"}},\"shapedefaults\":{\"line\":{\"color\":\"#2a3f5f\"}},\"ternary\":{\"aaxis\":{\"gridcolor\":\"#DFE8F3\",\"linecolor\":\"#A2B1C6\",\"ticks\":\"\"},\"baxis\":{\"gridcolor\":\"#DFE8F3\",\"linecolor\":\"#A2B1C6\",\"ticks\":\"\"},\"bgcolor\":\"white\",\"caxis\":{\"gridcolor\":\"#DFE8F3\",\"linecolor\":\"#A2B1C6\",\"ticks\":\"\"}},\"title\":{\"x\":0.05},\"xaxis\":{\"automargin\":true,\"gridcolor\":\"#EBF0F8\",\"linecolor\":\"#EBF0F8\",\"ticks\":\"\",\"title\":{\"standoff\":15},\"zerolinecolor\":\"#EBF0F8\",\"zerolinewidth\":2},\"yaxis\":{\"automargin\":true,\"gridcolor\":\"#EBF0F8\",\"linecolor\":\"#EBF0F8\",\"ticks\":\"\",\"title\":{\"standoff\":15},\"zerolinecolor\":\"#EBF0F8\",\"zerolinewidth\":2}}},\"xaxis\":{\"anchor\":\"y\",\"domain\":[0.0,0.175],\"showgrid\":true},\"yaxis\":{\"anchor\":\"x\",\"domain\":[0.0,1.0],\"showgrid\":true},\"xaxis2\":{\"anchor\":\"y2\",\"domain\":[0.275,0.45],\"showgrid\":true},\"yaxis2\":{\"anchor\":\"x2\",\"domain\":[0.0,1.0],\"showgrid\":true},\"xaxis3\":{\"anchor\":\"y3\",\"domain\":[0.55,0.7250000000000001],\"showgrid\":true},\"yaxis3\":{\"anchor\":\"x3\",\"domain\":[0.0,1.0],\"showgrid\":true},\"xaxis4\":{\"anchor\":\"y4\",\"domain\":[0.825,1.0],\"showgrid\":true},\"yaxis4\":{\"anchor\":\"x4\",\"domain\":[0.0,1.0],\"showgrid\":true},\"annotations\":[{\"font\":{\"size\":16},\"showarrow\":false,\"text\":\"Topic 0\",\"x\":0.0875,\"xanchor\":\"center\",\"xref\":\"paper\",\"y\":1.0,\"yanchor\":\"bottom\",\"yref\":\"paper\"},{\"font\":{\"size\":16},\"showarrow\":false,\"text\":\"Topic 1\",\"x\":0.36250000000000004,\"xanchor\":\"center\",\"xref\":\"paper\",\"y\":1.0,\"yanchor\":\"bottom\",\"yref\":\"paper\"},{\"font\":{\"size\":16},\"showarrow\":false,\"text\":\"Topic 2\",\"x\":0.6375000000000001,\"xanchor\":\"center\",\"xref\":\"paper\",\"y\":1.0,\"yanchor\":\"bottom\",\"yref\":\"paper\"},{\"font\":{\"size\":16},\"showarrow\":false,\"text\":\"Topic 3\",\"x\":0.9125,\"xanchor\":\"center\",\"xref\":\"paper\",\"y\":1.0,\"yanchor\":\"bottom\",\"yref\":\"paper\"}],\"title\":{\"font\":{\"size\":22,\"color\":\"Black\"},\"text\":\"Topic Word Scores\",\"x\":0.5,\"xanchor\":\"center\",\"yanchor\":\"top\"},\"hoverlabel\":{\"font\":{\"size\":16,\"family\":\"Rockwell\"},\"bgcolor\":\"white\"},\"showlegend\":false,\"width\":1000,\"height\":325.0},                        {\"responsive\": true}                    ).then(function(){\n",
       "                            \n",
       "var gd = document.getElementById('2c58629c-dc5e-45a4-9688-b8ff9c650851');\n",
       "var x = new MutationObserver(function (mutations, observer) {{\n",
       "        var display = window.getComputedStyle(gd).display;\n",
       "        if (!display || display === 'none') {{\n",
       "            console.log([gd, 'removed!']);\n",
       "            Plotly.purge(gd);\n",
       "            observer.disconnect();\n",
       "        }}\n",
       "}});\n",
       "\n",
       "// Listen for the removal of the full notebook cells\n",
       "var notebookContainer = gd.closest('#notebook-container');\n",
       "if (notebookContainer) {{\n",
       "    x.observe(notebookContainer, {childList: true});\n",
       "}}\n",
       "\n",
       "// Listen for the clearing of the current output cell\n",
       "var outputEl = gd.closest('.output');\n",
       "if (outputEl) {{\n",
       "    x.observe(outputEl, {childList: true});\n",
       "}}\n",
       "\n",
       "                        })                };                });            </script>        </div>"
      ]
     },
     "metadata": {},
     "output_type": "display_data"
    }
   ],
   "source": [
    "goog5_topic_model.visualize_barchart(top_n_topics=4)\n"
   ]
  },
  {
   "cell_type": "code",
   "execution_count": 194,
   "metadata": {},
   "outputs": [
    {
     "data": {
      "application/vnd.plotly.v1+json": {
       "config": {
        "plotlyServerURL": "https://plot.ly"
       },
       "data": [
        {
         "marker": {
          "color": "#D55E00"
         },
         "orientation": "h",
         "type": "bar",
         "x": [
          0.08317197742018327,
          0.08783164830381589,
          0.1120408405731713,
          0.14608735206358098,
          0.16892114083703522
         ],
         "xaxis": "x",
         "y": [
          "great  ",
          "quality  ",
          "smart  ",
          "sound  ",
          "speaker  "
         ],
         "yaxis": "y"
        },
        {
         "marker": {
          "color": "#0072B2"
         },
         "orientation": "h",
         "type": "bar",
         "x": [
          0.07194945717924073,
          0.0804544871154017,
          0.094504855378665,
          0.09453327859548945,
          0.14364378075486808
         ],
         "xaxis": "x2",
         "y": [
          "great  ",
          "got  ",
          "use  ",
          "good  ",
          "product  "
         ],
         "yaxis": "y2"
        },
        {
         "marker": {
          "color": "#CC79A7"
         },
         "orientation": "h",
         "type": "bar",
         "x": [
          0.0503257719530361,
          0.0503257719530361,
          0.07503241515253921,
          0.09054147583337879,
          0.12346564886369833
         ],
         "xaxis": "x3",
         "y": [
          "rooms  ",
          "perfect  ",
          "house  ",
          "one  ",
          "room  "
         ],
         "yaxis": "y3"
        },
        {
         "marker": {
          "color": "#E69F00"
         },
         "orientation": "h",
         "type": "bar",
         "x": [
          0.07228448663912275,
          0.07331759574924492,
          0.07526023028337323,
          0.12325707978635496,
          0.17778950073097957
         ],
         "xaxis": "x4",
         "y": [
          "love  ",
          "spotify  ",
          "use  ",
          "play  ",
          "music  "
         ],
         "yaxis": "y4"
        }
       ],
       "layout": {
        "annotations": [
         {
          "font": {
           "size": 16
          },
          "showarrow": false,
          "text": "Topic 0",
          "x": 0.0875,
          "xanchor": "center",
          "xref": "paper",
          "y": 1,
          "yanchor": "bottom",
          "yref": "paper"
         },
         {
          "font": {
           "size": 16
          },
          "showarrow": false,
          "text": "Topic 1",
          "x": 0.36250000000000004,
          "xanchor": "center",
          "xref": "paper",
          "y": 1,
          "yanchor": "bottom",
          "yref": "paper"
         },
         {
          "font": {
           "size": 16
          },
          "showarrow": false,
          "text": "Topic 2",
          "x": 0.6375000000000001,
          "xanchor": "center",
          "xref": "paper",
          "y": 1,
          "yanchor": "bottom",
          "yref": "paper"
         },
         {
          "font": {
           "size": 16
          },
          "showarrow": false,
          "text": "Topic 3",
          "x": 0.9125,
          "xanchor": "center",
          "xref": "paper",
          "y": 1,
          "yanchor": "bottom",
          "yref": "paper"
         }
        ],
        "height": 325,
        "hoverlabel": {
         "bgcolor": "white",
         "font": {
          "family": "Rockwell",
          "size": 16
         }
        },
        "showlegend": false,
        "template": {
         "data": {
          "bar": [
           {
            "error_x": {
             "color": "#2a3f5f"
            },
            "error_y": {
             "color": "#2a3f5f"
            },
            "marker": {
             "line": {
              "color": "white",
              "width": 0.5
             },
             "pattern": {
              "fillmode": "overlay",
              "size": 10,
              "solidity": 0.2
             }
            },
            "type": "bar"
           }
          ],
          "barpolar": [
           {
            "marker": {
             "line": {
              "color": "white",
              "width": 0.5
             },
             "pattern": {
              "fillmode": "overlay",
              "size": 10,
              "solidity": 0.2
             }
            },
            "type": "barpolar"
           }
          ],
          "carpet": [
           {
            "aaxis": {
             "endlinecolor": "#2a3f5f",
             "gridcolor": "#C8D4E3",
             "linecolor": "#C8D4E3",
             "minorgridcolor": "#C8D4E3",
             "startlinecolor": "#2a3f5f"
            },
            "baxis": {
             "endlinecolor": "#2a3f5f",
             "gridcolor": "#C8D4E3",
             "linecolor": "#C8D4E3",
             "minorgridcolor": "#C8D4E3",
             "startlinecolor": "#2a3f5f"
            },
            "type": "carpet"
           }
          ],
          "choropleth": [
           {
            "colorbar": {
             "outlinewidth": 0,
             "ticks": ""
            },
            "type": "choropleth"
           }
          ],
          "contour": [
           {
            "colorbar": {
             "outlinewidth": 0,
             "ticks": ""
            },
            "colorscale": [
             [
              0,
              "#0d0887"
             ],
             [
              0.1111111111111111,
              "#46039f"
             ],
             [
              0.2222222222222222,
              "#7201a8"
             ],
             [
              0.3333333333333333,
              "#9c179e"
             ],
             [
              0.4444444444444444,
              "#bd3786"
             ],
             [
              0.5555555555555556,
              "#d8576b"
             ],
             [
              0.6666666666666666,
              "#ed7953"
             ],
             [
              0.7777777777777778,
              "#fb9f3a"
             ],
             [
              0.8888888888888888,
              "#fdca26"
             ],
             [
              1,
              "#f0f921"
             ]
            ],
            "type": "contour"
           }
          ],
          "contourcarpet": [
           {
            "colorbar": {
             "outlinewidth": 0,
             "ticks": ""
            },
            "type": "contourcarpet"
           }
          ],
          "heatmap": [
           {
            "colorbar": {
             "outlinewidth": 0,
             "ticks": ""
            },
            "colorscale": [
             [
              0,
              "#0d0887"
             ],
             [
              0.1111111111111111,
              "#46039f"
             ],
             [
              0.2222222222222222,
              "#7201a8"
             ],
             [
              0.3333333333333333,
              "#9c179e"
             ],
             [
              0.4444444444444444,
              "#bd3786"
             ],
             [
              0.5555555555555556,
              "#d8576b"
             ],
             [
              0.6666666666666666,
              "#ed7953"
             ],
             [
              0.7777777777777778,
              "#fb9f3a"
             ],
             [
              0.8888888888888888,
              "#fdca26"
             ],
             [
              1,
              "#f0f921"
             ]
            ],
            "type": "heatmap"
           }
          ],
          "heatmapgl": [
           {
            "colorbar": {
             "outlinewidth": 0,
             "ticks": ""
            },
            "colorscale": [
             [
              0,
              "#0d0887"
             ],
             [
              0.1111111111111111,
              "#46039f"
             ],
             [
              0.2222222222222222,
              "#7201a8"
             ],
             [
              0.3333333333333333,
              "#9c179e"
             ],
             [
              0.4444444444444444,
              "#bd3786"
             ],
             [
              0.5555555555555556,
              "#d8576b"
             ],
             [
              0.6666666666666666,
              "#ed7953"
             ],
             [
              0.7777777777777778,
              "#fb9f3a"
             ],
             [
              0.8888888888888888,
              "#fdca26"
             ],
             [
              1,
              "#f0f921"
             ]
            ],
            "type": "heatmapgl"
           }
          ],
          "histogram": [
           {
            "marker": {
             "pattern": {
              "fillmode": "overlay",
              "size": 10,
              "solidity": 0.2
             }
            },
            "type": "histogram"
           }
          ],
          "histogram2d": [
           {
            "colorbar": {
             "outlinewidth": 0,
             "ticks": ""
            },
            "colorscale": [
             [
              0,
              "#0d0887"
             ],
             [
              0.1111111111111111,
              "#46039f"
             ],
             [
              0.2222222222222222,
              "#7201a8"
             ],
             [
              0.3333333333333333,
              "#9c179e"
             ],
             [
              0.4444444444444444,
              "#bd3786"
             ],
             [
              0.5555555555555556,
              "#d8576b"
             ],
             [
              0.6666666666666666,
              "#ed7953"
             ],
             [
              0.7777777777777778,
              "#fb9f3a"
             ],
             [
              0.8888888888888888,
              "#fdca26"
             ],
             [
              1,
              "#f0f921"
             ]
            ],
            "type": "histogram2d"
           }
          ],
          "histogram2dcontour": [
           {
            "colorbar": {
             "outlinewidth": 0,
             "ticks": ""
            },
            "colorscale": [
             [
              0,
              "#0d0887"
             ],
             [
              0.1111111111111111,
              "#46039f"
             ],
             [
              0.2222222222222222,
              "#7201a8"
             ],
             [
              0.3333333333333333,
              "#9c179e"
             ],
             [
              0.4444444444444444,
              "#bd3786"
             ],
             [
              0.5555555555555556,
              "#d8576b"
             ],
             [
              0.6666666666666666,
              "#ed7953"
             ],
             [
              0.7777777777777778,
              "#fb9f3a"
             ],
             [
              0.8888888888888888,
              "#fdca26"
             ],
             [
              1,
              "#f0f921"
             ]
            ],
            "type": "histogram2dcontour"
           }
          ],
          "mesh3d": [
           {
            "colorbar": {
             "outlinewidth": 0,
             "ticks": ""
            },
            "type": "mesh3d"
           }
          ],
          "parcoords": [
           {
            "line": {
             "colorbar": {
              "outlinewidth": 0,
              "ticks": ""
             }
            },
            "type": "parcoords"
           }
          ],
          "pie": [
           {
            "automargin": true,
            "type": "pie"
           }
          ],
          "scatter": [
           {
            "fillpattern": {
             "fillmode": "overlay",
             "size": 10,
             "solidity": 0.2
            },
            "type": "scatter"
           }
          ],
          "scatter3d": [
           {
            "line": {
             "colorbar": {
              "outlinewidth": 0,
              "ticks": ""
             }
            },
            "marker": {
             "colorbar": {
              "outlinewidth": 0,
              "ticks": ""
             }
            },
            "type": "scatter3d"
           }
          ],
          "scattercarpet": [
           {
            "marker": {
             "colorbar": {
              "outlinewidth": 0,
              "ticks": ""
             }
            },
            "type": "scattercarpet"
           }
          ],
          "scattergeo": [
           {
            "marker": {
             "colorbar": {
              "outlinewidth": 0,
              "ticks": ""
             }
            },
            "type": "scattergeo"
           }
          ],
          "scattergl": [
           {
            "marker": {
             "colorbar": {
              "outlinewidth": 0,
              "ticks": ""
             }
            },
            "type": "scattergl"
           }
          ],
          "scattermapbox": [
           {
            "marker": {
             "colorbar": {
              "outlinewidth": 0,
              "ticks": ""
             }
            },
            "type": "scattermapbox"
           }
          ],
          "scatterpolar": [
           {
            "marker": {
             "colorbar": {
              "outlinewidth": 0,
              "ticks": ""
             }
            },
            "type": "scatterpolar"
           }
          ],
          "scatterpolargl": [
           {
            "marker": {
             "colorbar": {
              "outlinewidth": 0,
              "ticks": ""
             }
            },
            "type": "scatterpolargl"
           }
          ],
          "scatterternary": [
           {
            "marker": {
             "colorbar": {
              "outlinewidth": 0,
              "ticks": ""
             }
            },
            "type": "scatterternary"
           }
          ],
          "surface": [
           {
            "colorbar": {
             "outlinewidth": 0,
             "ticks": ""
            },
            "colorscale": [
             [
              0,
              "#0d0887"
             ],
             [
              0.1111111111111111,
              "#46039f"
             ],
             [
              0.2222222222222222,
              "#7201a8"
             ],
             [
              0.3333333333333333,
              "#9c179e"
             ],
             [
              0.4444444444444444,
              "#bd3786"
             ],
             [
              0.5555555555555556,
              "#d8576b"
             ],
             [
              0.6666666666666666,
              "#ed7953"
             ],
             [
              0.7777777777777778,
              "#fb9f3a"
             ],
             [
              0.8888888888888888,
              "#fdca26"
             ],
             [
              1,
              "#f0f921"
             ]
            ],
            "type": "surface"
           }
          ],
          "table": [
           {
            "cells": {
             "fill": {
              "color": "#EBF0F8"
             },
             "line": {
              "color": "white"
             }
            },
            "header": {
             "fill": {
              "color": "#C8D4E3"
             },
             "line": {
              "color": "white"
             }
            },
            "type": "table"
           }
          ]
         },
         "layout": {
          "annotationdefaults": {
           "arrowcolor": "#2a3f5f",
           "arrowhead": 0,
           "arrowwidth": 1
          },
          "autotypenumbers": "strict",
          "coloraxis": {
           "colorbar": {
            "outlinewidth": 0,
            "ticks": ""
           }
          },
          "colorscale": {
           "diverging": [
            [
             0,
             "#8e0152"
            ],
            [
             0.1,
             "#c51b7d"
            ],
            [
             0.2,
             "#de77ae"
            ],
            [
             0.3,
             "#f1b6da"
            ],
            [
             0.4,
             "#fde0ef"
            ],
            [
             0.5,
             "#f7f7f7"
            ],
            [
             0.6,
             "#e6f5d0"
            ],
            [
             0.7,
             "#b8e186"
            ],
            [
             0.8,
             "#7fbc41"
            ],
            [
             0.9,
             "#4d9221"
            ],
            [
             1,
             "#276419"
            ]
           ],
           "sequential": [
            [
             0,
             "#0d0887"
            ],
            [
             0.1111111111111111,
             "#46039f"
            ],
            [
             0.2222222222222222,
             "#7201a8"
            ],
            [
             0.3333333333333333,
             "#9c179e"
            ],
            [
             0.4444444444444444,
             "#bd3786"
            ],
            [
             0.5555555555555556,
             "#d8576b"
            ],
            [
             0.6666666666666666,
             "#ed7953"
            ],
            [
             0.7777777777777778,
             "#fb9f3a"
            ],
            [
             0.8888888888888888,
             "#fdca26"
            ],
            [
             1,
             "#f0f921"
            ]
           ],
           "sequentialminus": [
            [
             0,
             "#0d0887"
            ],
            [
             0.1111111111111111,
             "#46039f"
            ],
            [
             0.2222222222222222,
             "#7201a8"
            ],
            [
             0.3333333333333333,
             "#9c179e"
            ],
            [
             0.4444444444444444,
             "#bd3786"
            ],
            [
             0.5555555555555556,
             "#d8576b"
            ],
            [
             0.6666666666666666,
             "#ed7953"
            ],
            [
             0.7777777777777778,
             "#fb9f3a"
            ],
            [
             0.8888888888888888,
             "#fdca26"
            ],
            [
             1,
             "#f0f921"
            ]
           ]
          },
          "colorway": [
           "#636efa",
           "#EF553B",
           "#00cc96",
           "#ab63fa",
           "#FFA15A",
           "#19d3f3",
           "#FF6692",
           "#B6E880",
           "#FF97FF",
           "#FECB52"
          ],
          "font": {
           "color": "#2a3f5f"
          },
          "geo": {
           "bgcolor": "white",
           "lakecolor": "white",
           "landcolor": "white",
           "showlakes": true,
           "showland": true,
           "subunitcolor": "#C8D4E3"
          },
          "hoverlabel": {
           "align": "left"
          },
          "hovermode": "closest",
          "mapbox": {
           "style": "light"
          },
          "paper_bgcolor": "white",
          "plot_bgcolor": "white",
          "polar": {
           "angularaxis": {
            "gridcolor": "#EBF0F8",
            "linecolor": "#EBF0F8",
            "ticks": ""
           },
           "bgcolor": "white",
           "radialaxis": {
            "gridcolor": "#EBF0F8",
            "linecolor": "#EBF0F8",
            "ticks": ""
           }
          },
          "scene": {
           "xaxis": {
            "backgroundcolor": "white",
            "gridcolor": "#DFE8F3",
            "gridwidth": 2,
            "linecolor": "#EBF0F8",
            "showbackground": true,
            "ticks": "",
            "zerolinecolor": "#EBF0F8"
           },
           "yaxis": {
            "backgroundcolor": "white",
            "gridcolor": "#DFE8F3",
            "gridwidth": 2,
            "linecolor": "#EBF0F8",
            "showbackground": true,
            "ticks": "",
            "zerolinecolor": "#EBF0F8"
           },
           "zaxis": {
            "backgroundcolor": "white",
            "gridcolor": "#DFE8F3",
            "gridwidth": 2,
            "linecolor": "#EBF0F8",
            "showbackground": true,
            "ticks": "",
            "zerolinecolor": "#EBF0F8"
           }
          },
          "shapedefaults": {
           "line": {
            "color": "#2a3f5f"
           }
          },
          "ternary": {
           "aaxis": {
            "gridcolor": "#DFE8F3",
            "linecolor": "#A2B1C6",
            "ticks": ""
           },
           "baxis": {
            "gridcolor": "#DFE8F3",
            "linecolor": "#A2B1C6",
            "ticks": ""
           },
           "bgcolor": "white",
           "caxis": {
            "gridcolor": "#DFE8F3",
            "linecolor": "#A2B1C6",
            "ticks": ""
           }
          },
          "title": {
           "x": 0.05
          },
          "xaxis": {
           "automargin": true,
           "gridcolor": "#EBF0F8",
           "linecolor": "#EBF0F8",
           "ticks": "",
           "title": {
            "standoff": 15
           },
           "zerolinecolor": "#EBF0F8",
           "zerolinewidth": 2
          },
          "yaxis": {
           "automargin": true,
           "gridcolor": "#EBF0F8",
           "linecolor": "#EBF0F8",
           "ticks": "",
           "title": {
            "standoff": 15
           },
           "zerolinecolor": "#EBF0F8",
           "zerolinewidth": 2
          }
         }
        },
        "title": {
         "font": {
          "color": "Black",
          "size": 22
         },
         "text": "Topic Word Scores",
         "x": 0.5,
         "xanchor": "center",
         "yanchor": "top"
        },
        "width": 1000,
        "xaxis": {
         "anchor": "y",
         "domain": [
          0,
          0.175
         ],
         "showgrid": true
        },
        "xaxis2": {
         "anchor": "y2",
         "domain": [
          0.275,
          0.45
         ],
         "showgrid": true
        },
        "xaxis3": {
         "anchor": "y3",
         "domain": [
          0.55,
          0.7250000000000001
         ],
         "showgrid": true
        },
        "xaxis4": {
         "anchor": "y4",
         "domain": [
          0.825,
          1
         ],
         "showgrid": true
        },
        "yaxis": {
         "anchor": "x",
         "domain": [
          0,
          1
         ],
         "showgrid": true
        },
        "yaxis2": {
         "anchor": "x2",
         "domain": [
          0,
          1
         ],
         "showgrid": true
        },
        "yaxis3": {
         "anchor": "x3",
         "domain": [
          0,
          1
         ],
         "showgrid": true
        },
        "yaxis4": {
         "anchor": "x4",
         "domain": [
          0,
          1
         ],
         "showgrid": true
        }
       }
      },
      "text/html": [
       "<div>                            <div id=\"e25ca34d-7e3d-4a0f-9200-a2addb200012\" class=\"plotly-graph-div\" style=\"height:325.0px; width:1000px;\"></div>            <script type=\"text/javascript\">                require([\"plotly\"], function(Plotly) {                    window.PLOTLYENV=window.PLOTLYENV || {};                                    if (document.getElementById(\"e25ca34d-7e3d-4a0f-9200-a2addb200012\")) {                    Plotly.newPlot(                        \"e25ca34d-7e3d-4a0f-9200-a2addb200012\",                        [{\"marker\":{\"color\":\"#D55E00\"},\"orientation\":\"h\",\"x\":[0.08317197742018327,0.08783164830381589,0.1120408405731713,0.14608735206358098,0.16892114083703522],\"y\":[\"great  \",\"quality  \",\"smart  \",\"sound  \",\"speaker  \"],\"type\":\"bar\",\"xaxis\":\"x\",\"yaxis\":\"y\"},{\"marker\":{\"color\":\"#0072B2\"},\"orientation\":\"h\",\"x\":[0.07194945717924073,0.0804544871154017,0.094504855378665,0.09453327859548945,0.14364378075486808],\"y\":[\"great  \",\"got  \",\"use  \",\"good  \",\"product  \"],\"type\":\"bar\",\"xaxis\":\"x2\",\"yaxis\":\"y2\"},{\"marker\":{\"color\":\"#CC79A7\"},\"orientation\":\"h\",\"x\":[0.0503257719530361,0.0503257719530361,0.07503241515253921,0.09054147583337879,0.12346564886369833],\"y\":[\"rooms  \",\"perfect  \",\"house  \",\"one  \",\"room  \"],\"type\":\"bar\",\"xaxis\":\"x3\",\"yaxis\":\"y3\"},{\"marker\":{\"color\":\"#E69F00\"},\"orientation\":\"h\",\"x\":[0.07228448663912275,0.07331759574924492,0.07526023028337323,0.12325707978635496,0.17778950073097957],\"y\":[\"love  \",\"spotify  \",\"use  \",\"play  \",\"music  \"],\"type\":\"bar\",\"xaxis\":\"x4\",\"yaxis\":\"y4\"}],                        {\"template\":{\"data\":{\"barpolar\":[{\"marker\":{\"line\":{\"color\":\"white\",\"width\":0.5},\"pattern\":{\"fillmode\":\"overlay\",\"size\":10,\"solidity\":0.2}},\"type\":\"barpolar\"}],\"bar\":[{\"error_x\":{\"color\":\"#2a3f5f\"},\"error_y\":{\"color\":\"#2a3f5f\"},\"marker\":{\"line\":{\"color\":\"white\",\"width\":0.5},\"pattern\":{\"fillmode\":\"overlay\",\"size\":10,\"solidity\":0.2}},\"type\":\"bar\"}],\"carpet\":[{\"aaxis\":{\"endlinecolor\":\"#2a3f5f\",\"gridcolor\":\"#C8D4E3\",\"linecolor\":\"#C8D4E3\",\"minorgridcolor\":\"#C8D4E3\",\"startlinecolor\":\"#2a3f5f\"},\"baxis\":{\"endlinecolor\":\"#2a3f5f\",\"gridcolor\":\"#C8D4E3\",\"linecolor\":\"#C8D4E3\",\"minorgridcolor\":\"#C8D4E3\",\"startlinecolor\":\"#2a3f5f\"},\"type\":\"carpet\"}],\"choropleth\":[{\"colorbar\":{\"outlinewidth\":0,\"ticks\":\"\"},\"type\":\"choropleth\"}],\"contourcarpet\":[{\"colorbar\":{\"outlinewidth\":0,\"ticks\":\"\"},\"type\":\"contourcarpet\"}],\"contour\":[{\"colorbar\":{\"outlinewidth\":0,\"ticks\":\"\"},\"colorscale\":[[0.0,\"#0d0887\"],[0.1111111111111111,\"#46039f\"],[0.2222222222222222,\"#7201a8\"],[0.3333333333333333,\"#9c179e\"],[0.4444444444444444,\"#bd3786\"],[0.5555555555555556,\"#d8576b\"],[0.6666666666666666,\"#ed7953\"],[0.7777777777777778,\"#fb9f3a\"],[0.8888888888888888,\"#fdca26\"],[1.0,\"#f0f921\"]],\"type\":\"contour\"}],\"heatmapgl\":[{\"colorbar\":{\"outlinewidth\":0,\"ticks\":\"\"},\"colorscale\":[[0.0,\"#0d0887\"],[0.1111111111111111,\"#46039f\"],[0.2222222222222222,\"#7201a8\"],[0.3333333333333333,\"#9c179e\"],[0.4444444444444444,\"#bd3786\"],[0.5555555555555556,\"#d8576b\"],[0.6666666666666666,\"#ed7953\"],[0.7777777777777778,\"#fb9f3a\"],[0.8888888888888888,\"#fdca26\"],[1.0,\"#f0f921\"]],\"type\":\"heatmapgl\"}],\"heatmap\":[{\"colorbar\":{\"outlinewidth\":0,\"ticks\":\"\"},\"colorscale\":[[0.0,\"#0d0887\"],[0.1111111111111111,\"#46039f\"],[0.2222222222222222,\"#7201a8\"],[0.3333333333333333,\"#9c179e\"],[0.4444444444444444,\"#bd3786\"],[0.5555555555555556,\"#d8576b\"],[0.6666666666666666,\"#ed7953\"],[0.7777777777777778,\"#fb9f3a\"],[0.8888888888888888,\"#fdca26\"],[1.0,\"#f0f921\"]],\"type\":\"heatmap\"}],\"histogram2dcontour\":[{\"colorbar\":{\"outlinewidth\":0,\"ticks\":\"\"},\"colorscale\":[[0.0,\"#0d0887\"],[0.1111111111111111,\"#46039f\"],[0.2222222222222222,\"#7201a8\"],[0.3333333333333333,\"#9c179e\"],[0.4444444444444444,\"#bd3786\"],[0.5555555555555556,\"#d8576b\"],[0.6666666666666666,\"#ed7953\"],[0.7777777777777778,\"#fb9f3a\"],[0.8888888888888888,\"#fdca26\"],[1.0,\"#f0f921\"]],\"type\":\"histogram2dcontour\"}],\"histogram2d\":[{\"colorbar\":{\"outlinewidth\":0,\"ticks\":\"\"},\"colorscale\":[[0.0,\"#0d0887\"],[0.1111111111111111,\"#46039f\"],[0.2222222222222222,\"#7201a8\"],[0.3333333333333333,\"#9c179e\"],[0.4444444444444444,\"#bd3786\"],[0.5555555555555556,\"#d8576b\"],[0.6666666666666666,\"#ed7953\"],[0.7777777777777778,\"#fb9f3a\"],[0.8888888888888888,\"#fdca26\"],[1.0,\"#f0f921\"]],\"type\":\"histogram2d\"}],\"histogram\":[{\"marker\":{\"pattern\":{\"fillmode\":\"overlay\",\"size\":10,\"solidity\":0.2}},\"type\":\"histogram\"}],\"mesh3d\":[{\"colorbar\":{\"outlinewidth\":0,\"ticks\":\"\"},\"type\":\"mesh3d\"}],\"parcoords\":[{\"line\":{\"colorbar\":{\"outlinewidth\":0,\"ticks\":\"\"}},\"type\":\"parcoords\"}],\"pie\":[{\"automargin\":true,\"type\":\"pie\"}],\"scatter3d\":[{\"line\":{\"colorbar\":{\"outlinewidth\":0,\"ticks\":\"\"}},\"marker\":{\"colorbar\":{\"outlinewidth\":0,\"ticks\":\"\"}},\"type\":\"scatter3d\"}],\"scattercarpet\":[{\"marker\":{\"colorbar\":{\"outlinewidth\":0,\"ticks\":\"\"}},\"type\":\"scattercarpet\"}],\"scattergeo\":[{\"marker\":{\"colorbar\":{\"outlinewidth\":0,\"ticks\":\"\"}},\"type\":\"scattergeo\"}],\"scattergl\":[{\"marker\":{\"colorbar\":{\"outlinewidth\":0,\"ticks\":\"\"}},\"type\":\"scattergl\"}],\"scattermapbox\":[{\"marker\":{\"colorbar\":{\"outlinewidth\":0,\"ticks\":\"\"}},\"type\":\"scattermapbox\"}],\"scatterpolargl\":[{\"marker\":{\"colorbar\":{\"outlinewidth\":0,\"ticks\":\"\"}},\"type\":\"scatterpolargl\"}],\"scatterpolar\":[{\"marker\":{\"colorbar\":{\"outlinewidth\":0,\"ticks\":\"\"}},\"type\":\"scatterpolar\"}],\"scatter\":[{\"fillpattern\":{\"fillmode\":\"overlay\",\"size\":10,\"solidity\":0.2},\"type\":\"scatter\"}],\"scatterternary\":[{\"marker\":{\"colorbar\":{\"outlinewidth\":0,\"ticks\":\"\"}},\"type\":\"scatterternary\"}],\"surface\":[{\"colorbar\":{\"outlinewidth\":0,\"ticks\":\"\"},\"colorscale\":[[0.0,\"#0d0887\"],[0.1111111111111111,\"#46039f\"],[0.2222222222222222,\"#7201a8\"],[0.3333333333333333,\"#9c179e\"],[0.4444444444444444,\"#bd3786\"],[0.5555555555555556,\"#d8576b\"],[0.6666666666666666,\"#ed7953\"],[0.7777777777777778,\"#fb9f3a\"],[0.8888888888888888,\"#fdca26\"],[1.0,\"#f0f921\"]],\"type\":\"surface\"}],\"table\":[{\"cells\":{\"fill\":{\"color\":\"#EBF0F8\"},\"line\":{\"color\":\"white\"}},\"header\":{\"fill\":{\"color\":\"#C8D4E3\"},\"line\":{\"color\":\"white\"}},\"type\":\"table\"}]},\"layout\":{\"annotationdefaults\":{\"arrowcolor\":\"#2a3f5f\",\"arrowhead\":0,\"arrowwidth\":1},\"autotypenumbers\":\"strict\",\"coloraxis\":{\"colorbar\":{\"outlinewidth\":0,\"ticks\":\"\"}},\"colorscale\":{\"diverging\":[[0,\"#8e0152\"],[0.1,\"#c51b7d\"],[0.2,\"#de77ae\"],[0.3,\"#f1b6da\"],[0.4,\"#fde0ef\"],[0.5,\"#f7f7f7\"],[0.6,\"#e6f5d0\"],[0.7,\"#b8e186\"],[0.8,\"#7fbc41\"],[0.9,\"#4d9221\"],[1,\"#276419\"]],\"sequential\":[[0.0,\"#0d0887\"],[0.1111111111111111,\"#46039f\"],[0.2222222222222222,\"#7201a8\"],[0.3333333333333333,\"#9c179e\"],[0.4444444444444444,\"#bd3786\"],[0.5555555555555556,\"#d8576b\"],[0.6666666666666666,\"#ed7953\"],[0.7777777777777778,\"#fb9f3a\"],[0.8888888888888888,\"#fdca26\"],[1.0,\"#f0f921\"]],\"sequentialminus\":[[0.0,\"#0d0887\"],[0.1111111111111111,\"#46039f\"],[0.2222222222222222,\"#7201a8\"],[0.3333333333333333,\"#9c179e\"],[0.4444444444444444,\"#bd3786\"],[0.5555555555555556,\"#d8576b\"],[0.6666666666666666,\"#ed7953\"],[0.7777777777777778,\"#fb9f3a\"],[0.8888888888888888,\"#fdca26\"],[1.0,\"#f0f921\"]]},\"colorway\":[\"#636efa\",\"#EF553B\",\"#00cc96\",\"#ab63fa\",\"#FFA15A\",\"#19d3f3\",\"#FF6692\",\"#B6E880\",\"#FF97FF\",\"#FECB52\"],\"font\":{\"color\":\"#2a3f5f\"},\"geo\":{\"bgcolor\":\"white\",\"lakecolor\":\"white\",\"landcolor\":\"white\",\"showlakes\":true,\"showland\":true,\"subunitcolor\":\"#C8D4E3\"},\"hoverlabel\":{\"align\":\"left\"},\"hovermode\":\"closest\",\"mapbox\":{\"style\":\"light\"},\"paper_bgcolor\":\"white\",\"plot_bgcolor\":\"white\",\"polar\":{\"angularaxis\":{\"gridcolor\":\"#EBF0F8\",\"linecolor\":\"#EBF0F8\",\"ticks\":\"\"},\"bgcolor\":\"white\",\"radialaxis\":{\"gridcolor\":\"#EBF0F8\",\"linecolor\":\"#EBF0F8\",\"ticks\":\"\"}},\"scene\":{\"xaxis\":{\"backgroundcolor\":\"white\",\"gridcolor\":\"#DFE8F3\",\"gridwidth\":2,\"linecolor\":\"#EBF0F8\",\"showbackground\":true,\"ticks\":\"\",\"zerolinecolor\":\"#EBF0F8\"},\"yaxis\":{\"backgroundcolor\":\"white\",\"gridcolor\":\"#DFE8F3\",\"gridwidth\":2,\"linecolor\":\"#EBF0F8\",\"showbackground\":true,\"ticks\":\"\",\"zerolinecolor\":\"#EBF0F8\"},\"zaxis\":{\"backgroundcolor\":\"white\",\"gridcolor\":\"#DFE8F3\",\"gridwidth\":2,\"linecolor\":\"#EBF0F8\",\"showbackground\":true,\"ticks\":\"\",\"zerolinecolor\":\"#EBF0F8\"}},\"shapedefaults\":{\"line\":{\"color\":\"#2a3f5f\"}},\"ternary\":{\"aaxis\":{\"gridcolor\":\"#DFE8F3\",\"linecolor\":\"#A2B1C6\",\"ticks\":\"\"},\"baxis\":{\"gridcolor\":\"#DFE8F3\",\"linecolor\":\"#A2B1C6\",\"ticks\":\"\"},\"bgcolor\":\"white\",\"caxis\":{\"gridcolor\":\"#DFE8F3\",\"linecolor\":\"#A2B1C6\",\"ticks\":\"\"}},\"title\":{\"x\":0.05},\"xaxis\":{\"automargin\":true,\"gridcolor\":\"#EBF0F8\",\"linecolor\":\"#EBF0F8\",\"ticks\":\"\",\"title\":{\"standoff\":15},\"zerolinecolor\":\"#EBF0F8\",\"zerolinewidth\":2},\"yaxis\":{\"automargin\":true,\"gridcolor\":\"#EBF0F8\",\"linecolor\":\"#EBF0F8\",\"ticks\":\"\",\"title\":{\"standoff\":15},\"zerolinecolor\":\"#EBF0F8\",\"zerolinewidth\":2}}},\"xaxis\":{\"anchor\":\"y\",\"domain\":[0.0,0.175],\"showgrid\":true},\"yaxis\":{\"anchor\":\"x\",\"domain\":[0.0,1.0],\"showgrid\":true},\"xaxis2\":{\"anchor\":\"y2\",\"domain\":[0.275,0.45],\"showgrid\":true},\"yaxis2\":{\"anchor\":\"x2\",\"domain\":[0.0,1.0],\"showgrid\":true},\"xaxis3\":{\"anchor\":\"y3\",\"domain\":[0.55,0.7250000000000001],\"showgrid\":true},\"yaxis3\":{\"anchor\":\"x3\",\"domain\":[0.0,1.0],\"showgrid\":true},\"xaxis4\":{\"anchor\":\"y4\",\"domain\":[0.825,1.0],\"showgrid\":true},\"yaxis4\":{\"anchor\":\"x4\",\"domain\":[0.0,1.0],\"showgrid\":true},\"annotations\":[{\"font\":{\"size\":16},\"showarrow\":false,\"text\":\"Topic 0\",\"x\":0.0875,\"xanchor\":\"center\",\"xref\":\"paper\",\"y\":1.0,\"yanchor\":\"bottom\",\"yref\":\"paper\"},{\"font\":{\"size\":16},\"showarrow\":false,\"text\":\"Topic 1\",\"x\":0.36250000000000004,\"xanchor\":\"center\",\"xref\":\"paper\",\"y\":1.0,\"yanchor\":\"bottom\",\"yref\":\"paper\"},{\"font\":{\"size\":16},\"showarrow\":false,\"text\":\"Topic 2\",\"x\":0.6375000000000001,\"xanchor\":\"center\",\"xref\":\"paper\",\"y\":1.0,\"yanchor\":\"bottom\",\"yref\":\"paper\"},{\"font\":{\"size\":16},\"showarrow\":false,\"text\":\"Topic 3\",\"x\":0.9125,\"xanchor\":\"center\",\"xref\":\"paper\",\"y\":1.0,\"yanchor\":\"bottom\",\"yref\":\"paper\"}],\"title\":{\"font\":{\"size\":22,\"color\":\"Black\"},\"text\":\"Topic Word Scores\",\"x\":0.5,\"xanchor\":\"center\",\"yanchor\":\"top\"},\"hoverlabel\":{\"font\":{\"size\":16,\"family\":\"Rockwell\"},\"bgcolor\":\"white\"},\"showlegend\":false,\"width\":1000,\"height\":325.0},                        {\"responsive\": true}                    ).then(function(){\n",
       "                            \n",
       "var gd = document.getElementById('e25ca34d-7e3d-4a0f-9200-a2addb200012');\n",
       "var x = new MutationObserver(function (mutations, observer) {{\n",
       "        var display = window.getComputedStyle(gd).display;\n",
       "        if (!display || display === 'none') {{\n",
       "            console.log([gd, 'removed!']);\n",
       "            Plotly.purge(gd);\n",
       "            observer.disconnect();\n",
       "        }}\n",
       "}});\n",
       "\n",
       "// Listen for the removal of the full notebook cells\n",
       "var notebookContainer = gd.closest('#notebook-container');\n",
       "if (notebookContainer) {{\n",
       "    x.observe(notebookContainer, {childList: true});\n",
       "}}\n",
       "\n",
       "// Listen for the clearing of the current output cell\n",
       "var outputEl = gd.closest('.output');\n",
       "if (outputEl) {{\n",
       "    x.observe(outputEl, {childList: true});\n",
       "}}\n",
       "\n",
       "                        })                };                });            </script>        </div>"
      ]
     },
     "metadata": {},
     "output_type": "display_data"
    }
   ],
   "source": [
    "goog6_topic_model.visualize_barchart(top_n_topics=4)"
   ]
  },
  {
   "cell_type": "markdown",
   "metadata": {},
   "source": [
    "## Top 10 Bigram and Trigrams for each df"
   ]
  },
  {
   "cell_type": "code",
   "execution_count": null,
   "metadata": {},
   "outputs": [],
   "source": [
    "def top_ngrams_df(selected_reviews, n_top, n_gram_range):"
   ]
  },
  {
   "cell_type": "code",
   "execution_count": 160,
   "metadata": {},
   "outputs": [],
   "source": [
    "apple_cleaned,_ = cleaning_reviews(apple_df,stop_words)\n",
    "\n",
    "app_bigrams = top_ngrams_df(apple_cleaned, 10, (2,2)).columns\n",
    "app_trigrams = top_ngrams_df(apple_cleaned, 10, (3,3)).columns"
   ]
  },
  {
   "cell_type": "code",
   "execution_count": 165,
   "metadata": {},
   "outputs": [
    {
     "data": {
      "text/plain": [
       "Index(['easy set', 'easy use', 'good sound', 'great sound', 'small speaker',\n",
       "       'smart speaker', 'sound great', 'sound quality', 'sounds great',\n",
       "       'works great'],\n",
       "      dtype='object')"
      ]
     },
     "execution_count": 165,
     "metadata": {},
     "output_type": "execute_result"
    }
   ],
   "source": [
    "app_bigrams"
   ]
  },
  {
   "cell_type": "code",
   "execution_count": 166,
   "metadata": {},
   "outputs": [
    {
     "data": {
      "text/plain": [
       "Index(['good sound quality', 'great little speaker', 'great sound easy',\n",
       "       'great sound quality', 'great sound small', 'love sound quality',\n",
       "       'sound quality amazing', 'sound quality good', 'sound quality great',\n",
       "       'sound small speaker'],\n",
       "      dtype='object')"
      ]
     },
     "execution_count": 166,
     "metadata": {},
     "output_type": "execute_result"
    }
   ],
   "source": [
    "app_trigrams"
   ]
  },
  {
   "cell_type": "code",
   "execution_count": 167,
   "metadata": {},
   "outputs": [],
   "source": [
    "amazon_cleaned,_ = cleaning_reviews(amazon_df,stop_words)\n",
    "\n",
    "amz_bigrams = top_ngrams_df(amazon_cleaned, 10, (2,2)).columns\n",
    "amz_trigrams = top_ngrams_df(amazon_cleaned, 10, (3,3)).columns"
   ]
  },
  {
   "cell_type": "code",
   "execution_count": 171,
   "metadata": {},
   "outputs": [
    {
     "data": {
      "text/plain": [
       "Index(['easy set', 'easy use', 'every room', 'great product', 'great sound',\n",
       "       'listen music', 'play music', 'sound quality', 'works great',\n",
       "       'works well'],\n",
       "      dtype='object')"
      ]
     },
     "execution_count": 171,
     "metadata": {},
     "output_type": "execute_result"
    }
   ],
   "source": [
    "amz_bigrams"
   ]
  },
  {
   "cell_type": "code",
   "execution_count": 172,
   "metadata": {},
   "outputs": [
    {
     "data": {
      "text/plain": [
       "Index(['easy set use', 'easy use set', 'every room house', 'free tv purchase',\n",
       "       'good sound quality', 'great sound quality', 'love easy use',\n",
       "       'one every room', 'product easy use', 'sound quality great'],\n",
       "      dtype='object')"
      ]
     },
     "execution_count": 172,
     "metadata": {},
     "output_type": "execute_result"
    }
   ],
   "source": [
    "amz_trigrams"
   ]
  },
  {
   "cell_type": "code",
   "execution_count": 168,
   "metadata": {},
   "outputs": [],
   "source": [
    "google_cleaned,_ = cleaning_reviews(google_df,stop_words)\n",
    "\n",
    "goog_bigrams = top_ngrams_df(google_cleaned, 10, (2,2)).columns\n",
    "goog_trigrams = top_ngrams_df(google_cleaned, 10, (3,3)).columns"
   ]
  },
  {
   "cell_type": "code",
   "execution_count": 169,
   "metadata": {},
   "outputs": [
    {
     "data": {
      "text/plain": [
       "Index(['easy set', 'easy use', 'great product', 'listen music', 'nest mini',\n",
       "       'play music', 'smart speaker', 'sound quality', 'works great',\n",
       "       'works well'],\n",
       "      dtype='object')"
      ]
     },
     "execution_count": 169,
     "metadata": {},
     "output_type": "execute_result"
    }
   ],
   "source": [
    "goog_bigrams"
   ]
  },
  {
   "cell_type": "code",
   "execution_count": 170,
   "metadata": {},
   "outputs": [
    {
     "data": {
      "text/plain": [
       "Index(['easy set easy', 'easy set use', 'easy setup use', 'every room house',\n",
       "       'good sound quality', 'great sound quality', 'nest mini 2nd',\n",
       "       'one every room', 'set easy use', 'sound quality good'],\n",
       "      dtype='object')"
      ]
     },
     "execution_count": 170,
     "metadata": {},
     "output_type": "execute_result"
    }
   ],
   "source": [
    "goog_trigrams"
   ]
  },
  {
   "cell_type": "code",
   "execution_count": 203,
   "metadata": {},
   "outputs": [
    {
     "data": {
      "text/plain": [
       "{'1 month',\n",
       " '1 week',\n",
       " '1 year',\n",
       " '1.5 years',\n",
       " '10 months',\n",
       " '11 months',\n",
       " '2 months',\n",
       " '2 weeks',\n",
       " '3 months',\n",
       " '3 weeks',\n",
       " '4 months',\n",
       " '5 months',\n",
       " '6 months',\n",
       " '7 months',\n",
       " '8 months',\n",
       " '9 months',\n",
       " 'less than 1 week',\n",
       " 'more than 2 years'}"
      ]
     },
     "execution_count": 203,
     "metadata": {},
     "output_type": "execute_result"
    }
   ],
   "source": [
    "set(apple_df['OwnedFor'])"
   ]
  },
  {
   "cell_type": "code",
   "execution_count": 204,
   "metadata": {},
   "outputs": [
    {
     "data": {
      "text/plain": [
       "{0, 1, 2, 3, 4, 5, 6}"
      ]
     },
     "execution_count": 204,
     "metadata": {},
     "output_type": "execute_result"
    }
   ],
   "source": [
    "set(apple_df['OwnedCategorized'])"
   ]
  },
  {
   "cell_type": "code",
   "execution_count": 210,
   "metadata": {},
   "outputs": [
    {
     "data": {
      "text/plain": [
       "19        8 months\n",
       "23        9 months\n",
       "24       11 months\n",
       "25       11 months\n",
       "28       11 months\n",
       "           ...    \n",
       "11216     9 months\n",
       "11218     6 months\n",
       "11229     9 months\n",
       "11237    10 months\n",
       "11240     7 months\n",
       "Name: OwnedFor, Length: 980, dtype: object"
      ]
     },
     "execution_count": 210,
     "metadata": {},
     "output_type": "execute_result"
    }
   ],
   "source": [
    "apple_df.loc[apple_df['OwnedCategorized'] == 3]['OwnedFor']"
   ]
  },
  {
   "cell_type": "code",
   "execution_count": 211,
   "metadata": {},
   "outputs": [],
   "source": [
    "from sklearn.linear_model import LogisticRegression\n",
    "def Logistic_with_features(df):\n",
    "    X = df.drop(columns = ['OwnedFor','Rating'])\n",
    "    y = df['Rating']\n",
    "    \n",
    "#     X_std = StandardScaler().fit_transform(X)\n",
    "#     output = np.mean(cross_val_score(X_std, y, cv = 5))\n",
    "    \n",
    "    X_train, X_test, y_train, y_test = train_test_split(X,y,test_size = 0.3, random_state = 12)\n",
    "    \n",
    "    start = time.process_time()\n",
    "    lr = LogisticRegression(multi_class='multinomial', solver='lbfgs').fit(X_train, y_train)\n",
    "    \n",
    "#     rf = RandomForestClassifier(random_state = 42)\n",
    "\n",
    "#     output = np.mean(cross_val_score(rf, X_std, y, cv = 5))\n",
    "    \n",
    "    pred = lr.predict(X_test)\n",
    "    \n",
    "    acc = accuracy_score(y_test,pred)\n",
    "    f1 = f1_score(y_test,pred, average = 'macro')\n",
    "    prec = precision_score(y_test, pred,average = 'macro')\n",
    "    rec = recall_score(y_test, pred,average = 'macro')\n",
    "    \n",
    "#     features_dict = dict(zip(X.columns, rf.feature_importances_))\n",
    "    \n",
    "    end = time.process_time()\n",
    "    \n",
    "    time_taken = end - start\n",
    "    return acc,f1,prec,rec, time_taken\n",
    "#     return output, time_taken"
   ]
  },
  {
   "cell_type": "code",
   "execution_count": 215,
   "metadata": {},
   "outputs": [],
   "source": [
    "# apple_acc,apple_f1, apple_prec, apple_rec, apple_time = Logistic_with_features(amazon_processed_df_bert_large)"
   ]
  },
  {
   "cell_type": "code",
   "execution_count": 216,
   "metadata": {},
   "outputs": [
    {
     "data": {
      "text/plain": [
       "0.8301032230882662"
      ]
     },
     "execution_count": 216,
     "metadata": {},
     "output_type": "execute_result"
    }
   ],
   "source": [
    "# apple_acc"
   ]
  },
  {
   "cell_type": "code",
   "execution_count": 249,
   "metadata": {},
   "outputs": [],
   "source": [
    "temp_app_0 = apple_processed_df_bert_large.loc[apple_processed_df_bert_large['OwnedCategorized'] == 6]"
   ]
  },
  {
   "cell_type": "code",
   "execution_count": 250,
   "metadata": {},
   "outputs": [],
   "source": [
    "temp_app_0 = temp_app_0.reset_index(drop = True)"
   ]
  },
  {
   "cell_type": "code",
   "execution_count": 251,
   "metadata": {},
   "outputs": [],
   "source": [
    "apple_acc,apple_f1, apple_prec, apple_rec, apple_time, ft = RandomForrest_with_features(temp_app_0)"
   ]
  },
  {
   "cell_type": "code",
   "execution_count": 228,
   "metadata": {},
   "outputs": [
    {
     "data": {
      "text/plain": [
       "0.8232558139534883"
      ]
     },
     "execution_count": 228,
     "metadata": {},
     "output_type": "execute_result"
    }
   ],
   "source": [
    "apple_acc ## 0"
   ]
  },
  {
   "cell_type": "code",
   "execution_count": 232,
   "metadata": {},
   "outputs": [
    {
     "data": {
      "text/plain": [
       "0.7976291278577476"
      ]
     },
     "execution_count": 232,
     "metadata": {},
     "output_type": "execute_result"
    }
   ],
   "source": [
    "apple_acc ## 1"
   ]
  },
  {
   "cell_type": "code",
   "execution_count": 236,
   "metadata": {},
   "outputs": [
    {
     "data": {
      "text/plain": [
       "0.7925824175824175"
      ]
     },
     "execution_count": 236,
     "metadata": {},
     "output_type": "execute_result"
    }
   ],
   "source": [
    "apple_acc ## 2"
   ]
  },
  {
   "cell_type": "code",
   "execution_count": 240,
   "metadata": {},
   "outputs": [
    {
     "data": {
      "text/plain": [
       "0.7687074829931972"
      ]
     },
     "execution_count": 240,
     "metadata": {},
     "output_type": "execute_result"
    }
   ],
   "source": [
    "apple_acc ## 3"
   ]
  },
  {
   "cell_type": "code",
   "execution_count": 244,
   "metadata": {},
   "outputs": [
    {
     "data": {
      "text/plain": [
       "0.7819548872180451"
      ]
     },
     "execution_count": 244,
     "metadata": {},
     "output_type": "execute_result"
    }
   ],
   "source": [
    "apple_acc ## 4"
   ]
  },
  {
   "cell_type": "code",
   "execution_count": 248,
   "metadata": {},
   "outputs": [
    {
     "data": {
      "text/plain": [
       "0.7936507936507936"
      ]
     },
     "execution_count": 248,
     "metadata": {},
     "output_type": "execute_result"
    }
   ],
   "source": [
    "apple_acc ## 5"
   ]
  },
  {
   "cell_type": "code",
   "execution_count": 252,
   "metadata": {},
   "outputs": [
    {
     "data": {
      "text/plain": [
       "0.6060606060606061"
      ]
     },
     "execution_count": 252,
     "metadata": {},
     "output_type": "execute_result"
    }
   ],
   "source": [
    "apple_acc ## 6"
   ]
  },
  {
   "cell_type": "code",
   "execution_count": 253,
   "metadata": {},
   "outputs": [
    {
     "data": {
      "text/plain": [
       "Index(['WC', 'Analytic', 'Clout', 'Authentic', 'Tone', 'WPS', 'Sixltr', 'Dic',\n",
       "       'function', 'pronoun', 'ppron', 'i', 'we', 'you', 'shehe', 'they',\n",
       "       'ipron', 'article', 'prep', 'auxverb', 'adverb', 'conj', 'negate',\n",
       "       'verb', 'adj', 'compare', 'interrog', 'number', 'quant', 'affect',\n",
       "       'posemo', 'negemo', 'anx', 'anger', 'sad', 'social', 'family', 'friend',\n",
       "       'female', 'male', 'cogproc', 'insight', 'cause', 'discrep', 'tentat',\n",
       "       'certain', 'differ', 'percept', 'see', 'hear', 'feel', 'bio', 'body',\n",
       "       'health', 'sexual', 'ingest', 'drives', 'affiliation', 'achieve',\n",
       "       'power', 'reward', 'risk', 'focuspast', 'focuspresent', 'focusfuture',\n",
       "       'relativ', 'motion', 'space', 'time', 'work', 'leisure', 'home',\n",
       "       'money', 'relig', 'death', 'informal', 'swear', 'netspeak', 'assent',\n",
       "       'nonflu', 'filler', 'AllPunc', 'Period', 'Comma', 'Colon', 'SemiC',\n",
       "       'QMark', 'Exclam', 'Dash', 'Quote', 'Apostro', 'Parenth', 'OtherP'],\n",
       "      dtype='object')"
      ]
     },
     "execution_count": 253,
     "metadata": {},
     "output_type": "execute_result"
    }
   ],
   "source": [
    "apple_df_liwc.columns[5:]"
   ]
  },
  {
   "cell_type": "code",
   "execution_count": 254,
   "metadata": {},
   "outputs": [],
   "source": [
    "from sklearn.metrics import ndcg_score"
   ]
  },
  {
   "cell_type": "code",
   "execution_count": null,
   "metadata": {},
   "outputs": [],
   "source": []
  }
 ],
 "metadata": {
  "colab": {
   "provenance": []
  },
  "kernelspec": {
   "display_name": "Python 3 (ipykernel)",
   "language": "python",
   "name": "python3"
  },
  "language_info": {
   "codemirror_mode": {
    "name": "ipython",
    "version": 3
   },
   "file_extension": ".py",
   "mimetype": "text/x-python",
   "name": "python",
   "nbconvert_exporter": "python",
   "pygments_lexer": "ipython3",
   "version": "3.11.4"
  }
 },
 "nbformat": 4,
 "nbformat_minor": 1
}
